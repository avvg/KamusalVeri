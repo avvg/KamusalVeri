{
 "cells": [
  {
   "cell_type": "code",
   "execution_count": 44,
   "metadata": {
    "collapsed": true,
    "pycharm": {
     "is_executing": false
    }
   },
   "outputs": [],
   "source": [
    "import pandas as pd\n",
    "import ipywidgets as widgets"
   ]
  },
  {
   "cell_type": "code",
   "execution_count": 63,
   "outputs": [],
   "source": [
    "data = pd.read_excel(\"donem27.xlsx\", index_col=0)"
   ],
   "metadata": {
    "collapsed": false,
    "pycharm": {
     "name": "#%%\n",
     "is_executing": false
    }
   }
  },
  {
   "cell_type": "code",
   "execution_count": 3,
   "outputs": [
    {
     "data": {
      "text/plain": "           İl        Soyadı           Adı                         Parti  \\\n0       ADANA         ÇELİK          Ömer    Adalet ve Kalkınma Partisi   \n1       ADANA         DAĞLI         Tamer    Adalet ve Kalkınma Partisi   \n2       ADANA  DANIŞ BEŞTAŞ         Meral  Halkların Demokratik Partisi   \n3       ADANA        ERDİNÇ  Mehmet Şükrü    Adalet ve Kalkınma Partisi   \n4       ADANA      KARAKAYA        Mevlüt    Milliyetçi Hareket Partisi   \n..        ...           ...           ...                           ...   \n545  OSMANİYE         ERSOY          Ruhi    Milliyetçi Hareket Partisi   \n546  OSMANİYE          ÖNAL          Suat    Adalet ve Kalkınma Partisi   \n547     DÜZCE        ARSLAN         Fevai    Adalet ve Kalkınma Partisi   \n548     DÜZCE         KEŞİR          Ayşe    Adalet ve Kalkınma Partisi   \n549     DÜZCE          ÖZLÜ         Faruk    Adalet ve Kalkınma Partisi   \n\n        Sistem Pusula      Sonuç       Tarih     Saati  \\\n0    KATILMADI      -  KATILMADI  --.--.----  --:--:--   \n1        KABUL      -      KABUL   19.8.2016  22:45:26   \n2    KATILMADI      -  KATILMADI  --.--.----  --:--:--   \n3        KABUL      -      KABUL   19.8.2016  22:45:43   \n4    KATILMADI      -  KATILMADI  --.--.----  --:--:--   \n..         ...    ...        ...         ...       ...   \n545  KATILMADI    RED        RED  --.--.----  --:--:--   \n546      KABUL      -      KABUL  30.11.2015  21:35:24   \n547      KABUL      -      KABUL  30.11.2015  21:34:01   \n548      KABUL      -      KABUL  30.11.2015  21:33:41   \n549      KABUL      -      KABUL  30.11.2015  21:35:06   \n\n                                          ilgili_kanun        assemble_no  \n0    (S.Sayısı: 413) Türkiye Varlık Fonu Kurulması ...  128'inci Birleşim  \n1    (S.Sayısı: 413) Türkiye Varlık Fonu Kurulması ...  128'inci Birleşim  \n2    (S.Sayısı: 413) Türkiye Varlık Fonu Kurulması ...  128'inci Birleşim  \n3    (S.Sayısı: 413) Türkiye Varlık Fonu Kurulması ...  128'inci Birleşim  \n4    (S.Sayısı: 413) Türkiye Varlık Fonu Kurulması ...  128'inci Birleşim  \n..                                                 ...                ...  \n545  Başbakan Ahmet Davutoğlu tarafından kurulan 64...     7'nci Birleşim  \n546  Başbakan Ahmet Davutoğlu tarafından kurulan 64...     7'nci Birleşim  \n547  Başbakan Ahmet Davutoğlu tarafından kurulan 64...     7'nci Birleşim  \n548  Başbakan Ahmet Davutoğlu tarafından kurulan 64...     7'nci Birleşim  \n549  Başbakan Ahmet Davutoğlu tarafından kurulan 64...     7'nci Birleşim  \n\n[61049 rows x 11 columns]",
      "text/html": "<div>\n<style scoped>\n    .dataframe tbody tr th:only-of-type {\n        vertical-align: middle;\n    }\n\n    .dataframe tbody tr th {\n        vertical-align: top;\n    }\n\n    .dataframe thead th {\n        text-align: right;\n    }\n</style>\n<table border=\"1\" class=\"dataframe\">\n  <thead>\n    <tr style=\"text-align: right;\">\n      <th></th>\n      <th>İl</th>\n      <th>Soyadı</th>\n      <th>Adı</th>\n      <th>Parti</th>\n      <th>Sistem</th>\n      <th>Pusula</th>\n      <th>Sonuç</th>\n      <th>Tarih</th>\n      <th>Saati</th>\n      <th>ilgili_kanun</th>\n      <th>assemble_no</th>\n    </tr>\n  </thead>\n  <tbody>\n    <tr>\n      <td>0</td>\n      <td>ADANA</td>\n      <td>ÇELİK</td>\n      <td>Ömer</td>\n      <td>Adalet ve Kalkınma Partisi</td>\n      <td>KATILMADI</td>\n      <td>-</td>\n      <td>KATILMADI</td>\n      <td>--.--.----</td>\n      <td>--:--:--</td>\n      <td>(S.Sayısı: 413) Türkiye Varlık Fonu Kurulması ...</td>\n      <td>128'inci Birleşim</td>\n    </tr>\n    <tr>\n      <td>1</td>\n      <td>ADANA</td>\n      <td>DAĞLI</td>\n      <td>Tamer</td>\n      <td>Adalet ve Kalkınma Partisi</td>\n      <td>KABUL</td>\n      <td>-</td>\n      <td>KABUL</td>\n      <td>19.8.2016</td>\n      <td>22:45:26</td>\n      <td>(S.Sayısı: 413) Türkiye Varlık Fonu Kurulması ...</td>\n      <td>128'inci Birleşim</td>\n    </tr>\n    <tr>\n      <td>2</td>\n      <td>ADANA</td>\n      <td>DANIŞ BEŞTAŞ</td>\n      <td>Meral</td>\n      <td>Halkların Demokratik Partisi</td>\n      <td>KATILMADI</td>\n      <td>-</td>\n      <td>KATILMADI</td>\n      <td>--.--.----</td>\n      <td>--:--:--</td>\n      <td>(S.Sayısı: 413) Türkiye Varlık Fonu Kurulması ...</td>\n      <td>128'inci Birleşim</td>\n    </tr>\n    <tr>\n      <td>3</td>\n      <td>ADANA</td>\n      <td>ERDİNÇ</td>\n      <td>Mehmet Şükrü</td>\n      <td>Adalet ve Kalkınma Partisi</td>\n      <td>KABUL</td>\n      <td>-</td>\n      <td>KABUL</td>\n      <td>19.8.2016</td>\n      <td>22:45:43</td>\n      <td>(S.Sayısı: 413) Türkiye Varlık Fonu Kurulması ...</td>\n      <td>128'inci Birleşim</td>\n    </tr>\n    <tr>\n      <td>4</td>\n      <td>ADANA</td>\n      <td>KARAKAYA</td>\n      <td>Mevlüt</td>\n      <td>Milliyetçi Hareket Partisi</td>\n      <td>KATILMADI</td>\n      <td>-</td>\n      <td>KATILMADI</td>\n      <td>--.--.----</td>\n      <td>--:--:--</td>\n      <td>(S.Sayısı: 413) Türkiye Varlık Fonu Kurulması ...</td>\n      <td>128'inci Birleşim</td>\n    </tr>\n    <tr>\n      <td>...</td>\n      <td>...</td>\n      <td>...</td>\n      <td>...</td>\n      <td>...</td>\n      <td>...</td>\n      <td>...</td>\n      <td>...</td>\n      <td>...</td>\n      <td>...</td>\n      <td>...</td>\n      <td>...</td>\n    </tr>\n    <tr>\n      <td>545</td>\n      <td>OSMANİYE</td>\n      <td>ERSOY</td>\n      <td>Ruhi</td>\n      <td>Milliyetçi Hareket Partisi</td>\n      <td>KATILMADI</td>\n      <td>RED</td>\n      <td>RED</td>\n      <td>--.--.----</td>\n      <td>--:--:--</td>\n      <td>Başbakan Ahmet Davutoğlu tarafından kurulan 64...</td>\n      <td>7'nci Birleşim</td>\n    </tr>\n    <tr>\n      <td>546</td>\n      <td>OSMANİYE</td>\n      <td>ÖNAL</td>\n      <td>Suat</td>\n      <td>Adalet ve Kalkınma Partisi</td>\n      <td>KABUL</td>\n      <td>-</td>\n      <td>KABUL</td>\n      <td>30.11.2015</td>\n      <td>21:35:24</td>\n      <td>Başbakan Ahmet Davutoğlu tarafından kurulan 64...</td>\n      <td>7'nci Birleşim</td>\n    </tr>\n    <tr>\n      <td>547</td>\n      <td>DÜZCE</td>\n      <td>ARSLAN</td>\n      <td>Fevai</td>\n      <td>Adalet ve Kalkınma Partisi</td>\n      <td>KABUL</td>\n      <td>-</td>\n      <td>KABUL</td>\n      <td>30.11.2015</td>\n      <td>21:34:01</td>\n      <td>Başbakan Ahmet Davutoğlu tarafından kurulan 64...</td>\n      <td>7'nci Birleşim</td>\n    </tr>\n    <tr>\n      <td>548</td>\n      <td>DÜZCE</td>\n      <td>KEŞİR</td>\n      <td>Ayşe</td>\n      <td>Adalet ve Kalkınma Partisi</td>\n      <td>KABUL</td>\n      <td>-</td>\n      <td>KABUL</td>\n      <td>30.11.2015</td>\n      <td>21:33:41</td>\n      <td>Başbakan Ahmet Davutoğlu tarafından kurulan 64...</td>\n      <td>7'nci Birleşim</td>\n    </tr>\n    <tr>\n      <td>549</td>\n      <td>DÜZCE</td>\n      <td>ÖZLÜ</td>\n      <td>Faruk</td>\n      <td>Adalet ve Kalkınma Partisi</td>\n      <td>KABUL</td>\n      <td>-</td>\n      <td>KABUL</td>\n      <td>30.11.2015</td>\n      <td>21:35:06</td>\n      <td>Başbakan Ahmet Davutoğlu tarafından kurulan 64...</td>\n      <td>7'nci Birleşim</td>\n    </tr>\n  </tbody>\n</table>\n<p>61049 rows × 11 columns</p>\n</div>"
     },
     "metadata": {},
     "output_type": "execute_result",
     "execution_count": 3
    }
   ],
   "source": [
    "data"
   ],
   "metadata": {
    "collapsed": false,
    "pycharm": {
     "name": "#%%\n",
     "is_executing": false
    }
   }
  },
  {
   "cell_type": "code",
   "execution_count": 54,
   "outputs": [],
   "source": [
    "# Combine name and surname\n",
    "data[\"Milletvekili\"] = data[\"Adı\"] +\" \" + data[\"Soyadı\"]"
   ],
   "metadata": {
    "collapsed": false,
    "pycharm": {
     "name": "#%% \n",
     "is_executing": false
    }
   }
  },
  {
   "cell_type": "code",
   "execution_count": 55,
   "outputs": [
    {
     "data": {
      "text/plain": "array(['Adalet ve Kalkınma Partisi', 'Halkların Demokratik Partisi',\n       'Milliyetçi Hareket Partisi', 'Cumhuriyet Halk Partisi',\n       'Bağımsız Milletvekili', 'İyi Parti'], dtype=object)"
     },
     "metadata": {},
     "output_type": "execute_result",
     "execution_count": 55
    }
   ],
   "source": [
    "data[\"Parti\"].unique()"
   ],
   "metadata": {
    "collapsed": false,
    "pycharm": {
     "name": "#%%\n",
     "is_executing": false
    }
   }
  },
  {
   "cell_type": "code",
   "execution_count": 56,
   "outputs": [
    {
     "data": {
      "text/plain": "           İl        Soyadı           Adı                         Parti  \\\n0       ADANA         ÇELİK          Ömer    Adalet ve Kalkınma Partisi   \n1       ADANA         DAĞLI         Tamer    Adalet ve Kalkınma Partisi   \n2       ADANA  DANIŞ BEŞTAŞ         Meral  Halkların Demokratik Partisi   \n3       ADANA        ERDİNÇ  Mehmet Şükrü    Adalet ve Kalkınma Partisi   \n4       ADANA      KARAKAYA        Mevlüt    Milliyetçi Hareket Partisi   \n..        ...           ...           ...                           ...   \n544  OSMANİYE         ERSOY          Ruhi    Milliyetçi Hareket Partisi   \n545  OSMANİYE          ÖNAL          Suat    Adalet ve Kalkınma Partisi   \n546     DÜZCE        ARSLAN         Fevai    Adalet ve Kalkınma Partisi   \n547     DÜZCE         KEŞİR          Ayşe    Adalet ve Kalkınma Partisi   \n548     DÜZCE          ÖZLÜ         Faruk    Adalet ve Kalkınma Partisi   \n\n        Sistem Pusula      Sonuç       Tarih     Saati  \\\n0    KATILMADI      -  KATILMADI  --.--.----  --:--:--   \n1        KABUL      -      KABUL  16.05.2018  20:09:20   \n2    KATILMADI      -  KATILMADI  --.--.----  --:--:--   \n3    KATILMADI      -  KATILMADI  --.--.----  --:--:--   \n4    KATILMADI      -  KATILMADI  --.--.----  --:--:--   \n..         ...    ...        ...         ...       ...   \n544  KATILMADI      -  KATILMADI  --.--.----  --:--:--   \n545      KABUL      -      KABUL   23.2.2017  20:47:53   \n546      KABUL      -      KABUL   23.2.2017  20:47:51   \n547      KABUL      -      KABUL   23.2.2017  20:47:54   \n548  KATILMADI      -  KATILMADI  --.--.----  --:--:--   \n\n                                                   url  \\\n0    https://www.tbmm.gov.tr/tutanak/donem26/tutana...   \n1    https://www.tbmm.gov.tr/tutanak/donem26/tutana...   \n2    https://www.tbmm.gov.tr/tutanak/donem26/tutana...   \n3    https://www.tbmm.gov.tr/tutanak/donem26/tutana...   \n4    https://www.tbmm.gov.tr/tutanak/donem26/tutana...   \n..                                                 ...   \n544  https://www.tbmm.gov.tr/tutanak/donem26/tutana...   \n545  https://www.tbmm.gov.tr/tutanak/donem26/tutana...   \n546  https://www.tbmm.gov.tr/tutanak/donem26/tutana...   \n547  https://www.tbmm.gov.tr/tutanak/donem26/tutana...   \n548  https://www.tbmm.gov.tr/tutanak/donem26/tutana...   \n\n                                              law_name       meeting_name  \\\n0    (S.Sayısı: 561) Bazı Kanunlarda Değişiklik Yap...  100'üncü Birleşim   \n1    (S.Sayısı: 561) Bazı Kanunlarda Değişiklik Yap...  100'üncü Birleşim   \n2    (S.Sayısı: 561) Bazı Kanunlarda Değişiklik Yap...  100'üncü Birleşim   \n3    (S.Sayısı: 561) Bazı Kanunlarda Değişiklik Yap...  100'üncü Birleşim   \n4    (S.Sayısı: 561) Bazı Kanunlarda Değişiklik Yap...  100'üncü Birleşim   \n..                                                 ...                ...   \n544  (S.Sayısı: 451) Uluslararası Zeytinyağı ve Sof...   74'üncü Birleşim   \n545  (S.Sayısı: 451) Uluslararası Zeytinyağı ve Sof...   74'üncü Birleşim   \n546  (S.Sayısı: 451) Uluslararası Zeytinyağı ve Sof...   74'üncü Birleşim   \n547  (S.Sayısı: 451) Uluslararası Zeytinyağı ve Sof...   74'üncü Birleşim   \n548  (S.Sayısı: 451) Uluslararası Zeytinyağı ve Sof...   74'üncü Birleşim   \n\n         meeting_date_given         Milletvekili Parti Kısa  \n0    16 Mayıs 2018 Çarşamba           Ömer ÇELİK        AKP  \n1    16 Mayıs 2018 Çarşamba          Tamer DAĞLI        AKP  \n2    16 Mayıs 2018 Çarşamba   Meral DANIŞ BEŞTAŞ        HDP  \n3    16 Mayıs 2018 Çarşamba  Mehmet Şükrü ERDİNÇ        AKP  \n4    16 Mayıs 2018 Çarşamba      Mevlüt KARAKAYA        MHP  \n..                      ...                  ...        ...  \n544  23 Şubat 2017 Perşembe           Ruhi ERSOY        MHP  \n545  23 Şubat 2017 Perşembe            Suat ÖNAL        AKP  \n546  23 Şubat 2017 Perşembe         Fevai ARSLAN        AKP  \n547  23 Şubat 2017 Perşembe           Ayşe KEŞİR        AKP  \n548  23 Şubat 2017 Perşembe           Faruk ÖZLÜ        AKP  \n\n[173262 rows x 15 columns]",
      "text/html": "<div>\n<style scoped>\n    .dataframe tbody tr th:only-of-type {\n        vertical-align: middle;\n    }\n\n    .dataframe tbody tr th {\n        vertical-align: top;\n    }\n\n    .dataframe thead th {\n        text-align: right;\n    }\n</style>\n<table border=\"1\" class=\"dataframe\">\n  <thead>\n    <tr style=\"text-align: right;\">\n      <th></th>\n      <th>İl</th>\n      <th>Soyadı</th>\n      <th>Adı</th>\n      <th>Parti</th>\n      <th>Sistem</th>\n      <th>Pusula</th>\n      <th>Sonuç</th>\n      <th>Tarih</th>\n      <th>Saati</th>\n      <th>url</th>\n      <th>law_name</th>\n      <th>meeting_name</th>\n      <th>meeting_date_given</th>\n      <th>Milletvekili</th>\n      <th>Parti Kısa</th>\n    </tr>\n  </thead>\n  <tbody>\n    <tr>\n      <td>0</td>\n      <td>ADANA</td>\n      <td>ÇELİK</td>\n      <td>Ömer</td>\n      <td>Adalet ve Kalkınma Partisi</td>\n      <td>KATILMADI</td>\n      <td>-</td>\n      <td>KATILMADI</td>\n      <td>--.--.----</td>\n      <td>--:--:--</td>\n      <td>https://www.tbmm.gov.tr/tutanak/donem26/tutana...</td>\n      <td>(S.Sayısı: 561) Bazı Kanunlarda Değişiklik Yap...</td>\n      <td>100'üncü Birleşim</td>\n      <td>16 Mayıs 2018 Çarşamba</td>\n      <td>Ömer ÇELİK</td>\n      <td>AKP</td>\n    </tr>\n    <tr>\n      <td>1</td>\n      <td>ADANA</td>\n      <td>DAĞLI</td>\n      <td>Tamer</td>\n      <td>Adalet ve Kalkınma Partisi</td>\n      <td>KABUL</td>\n      <td>-</td>\n      <td>KABUL</td>\n      <td>16.05.2018</td>\n      <td>20:09:20</td>\n      <td>https://www.tbmm.gov.tr/tutanak/donem26/tutana...</td>\n      <td>(S.Sayısı: 561) Bazı Kanunlarda Değişiklik Yap...</td>\n      <td>100'üncü Birleşim</td>\n      <td>16 Mayıs 2018 Çarşamba</td>\n      <td>Tamer DAĞLI</td>\n      <td>AKP</td>\n    </tr>\n    <tr>\n      <td>2</td>\n      <td>ADANA</td>\n      <td>DANIŞ BEŞTAŞ</td>\n      <td>Meral</td>\n      <td>Halkların Demokratik Partisi</td>\n      <td>KATILMADI</td>\n      <td>-</td>\n      <td>KATILMADI</td>\n      <td>--.--.----</td>\n      <td>--:--:--</td>\n      <td>https://www.tbmm.gov.tr/tutanak/donem26/tutana...</td>\n      <td>(S.Sayısı: 561) Bazı Kanunlarda Değişiklik Yap...</td>\n      <td>100'üncü Birleşim</td>\n      <td>16 Mayıs 2018 Çarşamba</td>\n      <td>Meral DANIŞ BEŞTAŞ</td>\n      <td>HDP</td>\n    </tr>\n    <tr>\n      <td>3</td>\n      <td>ADANA</td>\n      <td>ERDİNÇ</td>\n      <td>Mehmet Şükrü</td>\n      <td>Adalet ve Kalkınma Partisi</td>\n      <td>KATILMADI</td>\n      <td>-</td>\n      <td>KATILMADI</td>\n      <td>--.--.----</td>\n      <td>--:--:--</td>\n      <td>https://www.tbmm.gov.tr/tutanak/donem26/tutana...</td>\n      <td>(S.Sayısı: 561) Bazı Kanunlarda Değişiklik Yap...</td>\n      <td>100'üncü Birleşim</td>\n      <td>16 Mayıs 2018 Çarşamba</td>\n      <td>Mehmet Şükrü ERDİNÇ</td>\n      <td>AKP</td>\n    </tr>\n    <tr>\n      <td>4</td>\n      <td>ADANA</td>\n      <td>KARAKAYA</td>\n      <td>Mevlüt</td>\n      <td>Milliyetçi Hareket Partisi</td>\n      <td>KATILMADI</td>\n      <td>-</td>\n      <td>KATILMADI</td>\n      <td>--.--.----</td>\n      <td>--:--:--</td>\n      <td>https://www.tbmm.gov.tr/tutanak/donem26/tutana...</td>\n      <td>(S.Sayısı: 561) Bazı Kanunlarda Değişiklik Yap...</td>\n      <td>100'üncü Birleşim</td>\n      <td>16 Mayıs 2018 Çarşamba</td>\n      <td>Mevlüt KARAKAYA</td>\n      <td>MHP</td>\n    </tr>\n    <tr>\n      <td>...</td>\n      <td>...</td>\n      <td>...</td>\n      <td>...</td>\n      <td>...</td>\n      <td>...</td>\n      <td>...</td>\n      <td>...</td>\n      <td>...</td>\n      <td>...</td>\n      <td>...</td>\n      <td>...</td>\n      <td>...</td>\n      <td>...</td>\n      <td>...</td>\n      <td>...</td>\n    </tr>\n    <tr>\n      <td>544</td>\n      <td>OSMANİYE</td>\n      <td>ERSOY</td>\n      <td>Ruhi</td>\n      <td>Milliyetçi Hareket Partisi</td>\n      <td>KATILMADI</td>\n      <td>-</td>\n      <td>KATILMADI</td>\n      <td>--.--.----</td>\n      <td>--:--:--</td>\n      <td>https://www.tbmm.gov.tr/tutanak/donem26/tutana...</td>\n      <td>(S.Sayısı: 451) Uluslararası Zeytinyağı ve Sof...</td>\n      <td>74'üncü Birleşim</td>\n      <td>23 Şubat 2017 Perşembe</td>\n      <td>Ruhi ERSOY</td>\n      <td>MHP</td>\n    </tr>\n    <tr>\n      <td>545</td>\n      <td>OSMANİYE</td>\n      <td>ÖNAL</td>\n      <td>Suat</td>\n      <td>Adalet ve Kalkınma Partisi</td>\n      <td>KABUL</td>\n      <td>-</td>\n      <td>KABUL</td>\n      <td>23.2.2017</td>\n      <td>20:47:53</td>\n      <td>https://www.tbmm.gov.tr/tutanak/donem26/tutana...</td>\n      <td>(S.Sayısı: 451) Uluslararası Zeytinyağı ve Sof...</td>\n      <td>74'üncü Birleşim</td>\n      <td>23 Şubat 2017 Perşembe</td>\n      <td>Suat ÖNAL</td>\n      <td>AKP</td>\n    </tr>\n    <tr>\n      <td>546</td>\n      <td>DÜZCE</td>\n      <td>ARSLAN</td>\n      <td>Fevai</td>\n      <td>Adalet ve Kalkınma Partisi</td>\n      <td>KABUL</td>\n      <td>-</td>\n      <td>KABUL</td>\n      <td>23.2.2017</td>\n      <td>20:47:51</td>\n      <td>https://www.tbmm.gov.tr/tutanak/donem26/tutana...</td>\n      <td>(S.Sayısı: 451) Uluslararası Zeytinyağı ve Sof...</td>\n      <td>74'üncü Birleşim</td>\n      <td>23 Şubat 2017 Perşembe</td>\n      <td>Fevai ARSLAN</td>\n      <td>AKP</td>\n    </tr>\n    <tr>\n      <td>547</td>\n      <td>DÜZCE</td>\n      <td>KEŞİR</td>\n      <td>Ayşe</td>\n      <td>Adalet ve Kalkınma Partisi</td>\n      <td>KABUL</td>\n      <td>-</td>\n      <td>KABUL</td>\n      <td>23.2.2017</td>\n      <td>20:47:54</td>\n      <td>https://www.tbmm.gov.tr/tutanak/donem26/tutana...</td>\n      <td>(S.Sayısı: 451) Uluslararası Zeytinyağı ve Sof...</td>\n      <td>74'üncü Birleşim</td>\n      <td>23 Şubat 2017 Perşembe</td>\n      <td>Ayşe KEŞİR</td>\n      <td>AKP</td>\n    </tr>\n    <tr>\n      <td>548</td>\n      <td>DÜZCE</td>\n      <td>ÖZLÜ</td>\n      <td>Faruk</td>\n      <td>Adalet ve Kalkınma Partisi</td>\n      <td>KATILMADI</td>\n      <td>-</td>\n      <td>KATILMADI</td>\n      <td>--.--.----</td>\n      <td>--:--:--</td>\n      <td>https://www.tbmm.gov.tr/tutanak/donem26/tutana...</td>\n      <td>(S.Sayısı: 451) Uluslararası Zeytinyağı ve Sof...</td>\n      <td>74'üncü Birleşim</td>\n      <td>23 Şubat 2017 Perşembe</td>\n      <td>Faruk ÖZLÜ</td>\n      <td>AKP</td>\n    </tr>\n  </tbody>\n</table>\n<p>173262 rows × 15 columns</p>\n</div>"
     },
     "metadata": {},
     "output_type": "execute_result",
     "execution_count": 56
    }
   ],
   "source": [
    "# Shorten party names\n",
    "party_names = data[\"Parti\"].unique()\n",
    "party_abbrevations = {\"Adalet ve Kalkınma Partisi\": \"AKP\",\n",
    "                      \"Halkların Demokratik Partisi\": \"HDP\",\n",
    "                      \"Milliyetçi Hareket Partisi\": \"MHP\",\n",
    "                      \"Cumhuriyet Halk Partisi\": \"CHP\",\n",
    "                      \"İyi Parti\": \"İYİP\",\n",
    "                      \"Demokrat Parti\": \"DP\",\n",
    "                      \"Büyük Birlik Partisi\": \"BBP\",\n",
    "                      \"Demokratik Bölgeler Partisi\": \"DBP\",\n",
    "                      \"Türkiye İşçi Partisi\": \"İP\",\n",
    "                      \"Saadet Partisi\": \"SP\",\n",
    "                      \"Bağımsız Milletvekili\": \"Bağımsız\"}\n",
    "# party_pairs = zip(party_names, party_abbrevations)\n",
    "# party_pairs = dict(party_pairs)\n",
    "data[\"Parti Kısa\"] = data[\"Parti\"].apply(lambda x: party_abbrevations[x])\n",
    "data"
   ],
   "metadata": {
    "collapsed": false,
    "pycharm": {
     "name": "#%%\n",
     "is_executing": false
    }
   }
  },
  {
   "cell_type": "code",
   "execution_count": 57,
   "outputs": [],
   "source": [
    "# Split attendances from votes\n",
    "data[\"Katılım\"] = data[\"Sonuç\"].apply(lambda x: \"KATILMADI\" if x == \"KATILMADI\" else \"KATILDI\")"
   ],
   "metadata": {
    "collapsed": false,
    "pycharm": {
     "name": "#%%\n",
     "is_executing": false
    }
   }
  },
  {
   "cell_type": "code",
   "execution_count": 58,
   "outputs": [],
   "source": [
    "# Delete empty dates and times\n",
    "# data[data[\"Tarih\"] == \"--.--.----\"][\"Tarih\"].apply(lambda x: None)\n",
    "data.loc[data[\"Tarih\"] == \"--.--.----\", \"Tarih\"] = None\n",
    "data.loc[data[\"Saati\"] == \"--:--:--\", \"Saati\"] = None"
   ],
   "metadata": {
    "collapsed": false,
    "pycharm": {
     "name": "#%%\n",
     "is_executing": false
    }
   }
  },
  {
   "cell_type": "code",
   "execution_count": 59,
   "outputs": [
    {
     "data": {
      "text/plain": "           İl        Soyadı           Adı                         Parti  \\\n0       ADANA         ÇELİK          Ömer    Adalet ve Kalkınma Partisi   \n1       ADANA         DAĞLI         Tamer    Adalet ve Kalkınma Partisi   \n2       ADANA  DANIŞ BEŞTAŞ         Meral  Halkların Demokratik Partisi   \n3       ADANA        ERDİNÇ  Mehmet Şükrü    Adalet ve Kalkınma Partisi   \n4       ADANA      KARAKAYA        Mevlüt    Milliyetçi Hareket Partisi   \n..        ...           ...           ...                           ...   \n544  OSMANİYE         ERSOY          Ruhi    Milliyetçi Hareket Partisi   \n545  OSMANİYE          ÖNAL          Suat    Adalet ve Kalkınma Partisi   \n546     DÜZCE        ARSLAN         Fevai    Adalet ve Kalkınma Partisi   \n547     DÜZCE         KEŞİR          Ayşe    Adalet ve Kalkınma Partisi   \n548     DÜZCE          ÖZLÜ         Faruk    Adalet ve Kalkınma Partisi   \n\n        Sistem Pusula      Sonuç       Tarih     Saati  \\\n0    KATILMADI      -  KATILMADI        None      None   \n1        KABUL      -      KABUL  16.05.2018  20:09:20   \n2    KATILMADI      -  KATILMADI        None      None   \n3    KATILMADI      -  KATILMADI        None      None   \n4    KATILMADI      -  KATILMADI        None      None   \n..         ...    ...        ...         ...       ...   \n544  KATILMADI      -  KATILMADI        None      None   \n545      KABUL      -      KABUL   23.2.2017  20:47:53   \n546      KABUL      -      KABUL   23.2.2017  20:47:51   \n547      KABUL      -      KABUL   23.2.2017  20:47:54   \n548  KATILMADI      -  KATILMADI        None      None   \n\n                                                   url  \\\n0    https://www.tbmm.gov.tr/tutanak/donem26/tutana...   \n1    https://www.tbmm.gov.tr/tutanak/donem26/tutana...   \n2    https://www.tbmm.gov.tr/tutanak/donem26/tutana...   \n3    https://www.tbmm.gov.tr/tutanak/donem26/tutana...   \n4    https://www.tbmm.gov.tr/tutanak/donem26/tutana...   \n..                                                 ...   \n544  https://www.tbmm.gov.tr/tutanak/donem26/tutana...   \n545  https://www.tbmm.gov.tr/tutanak/donem26/tutana...   \n546  https://www.tbmm.gov.tr/tutanak/donem26/tutana...   \n547  https://www.tbmm.gov.tr/tutanak/donem26/tutana...   \n548  https://www.tbmm.gov.tr/tutanak/donem26/tutana...   \n\n                                              law_name       meeting_name  \\\n0    (S.Sayısı: 561) Bazı Kanunlarda Değişiklik Yap...  100'üncü Birleşim   \n1    (S.Sayısı: 561) Bazı Kanunlarda Değişiklik Yap...  100'üncü Birleşim   \n2    (S.Sayısı: 561) Bazı Kanunlarda Değişiklik Yap...  100'üncü Birleşim   \n3    (S.Sayısı: 561) Bazı Kanunlarda Değişiklik Yap...  100'üncü Birleşim   \n4    (S.Sayısı: 561) Bazı Kanunlarda Değişiklik Yap...  100'üncü Birleşim   \n..                                                 ...                ...   \n544  (S.Sayısı: 451) Uluslararası Zeytinyağı ve Sof...   74'üncü Birleşim   \n545  (S.Sayısı: 451) Uluslararası Zeytinyağı ve Sof...   74'üncü Birleşim   \n546  (S.Sayısı: 451) Uluslararası Zeytinyağı ve Sof...   74'üncü Birleşim   \n547  (S.Sayısı: 451) Uluslararası Zeytinyağı ve Sof...   74'üncü Birleşim   \n548  (S.Sayısı: 451) Uluslararası Zeytinyağı ve Sof...   74'üncü Birleşim   \n\n         meeting_date_given         Milletvekili Parti Kısa    Katılım  \n0    16 Mayıs 2018 Çarşamba           Ömer ÇELİK        AKP  KATILMADI  \n1    16 Mayıs 2018 Çarşamba          Tamer DAĞLI        AKP    KATILDI  \n2    16 Mayıs 2018 Çarşamba   Meral DANIŞ BEŞTAŞ        HDP  KATILMADI  \n3    16 Mayıs 2018 Çarşamba  Mehmet Şükrü ERDİNÇ        AKP  KATILMADI  \n4    16 Mayıs 2018 Çarşamba      Mevlüt KARAKAYA        MHP  KATILMADI  \n..                      ...                  ...        ...        ...  \n544  23 Şubat 2017 Perşembe           Ruhi ERSOY        MHP  KATILMADI  \n545  23 Şubat 2017 Perşembe            Suat ÖNAL        AKP    KATILDI  \n546  23 Şubat 2017 Perşembe         Fevai ARSLAN        AKP    KATILDI  \n547  23 Şubat 2017 Perşembe           Ayşe KEŞİR        AKP    KATILDI  \n548  23 Şubat 2017 Perşembe           Faruk ÖZLÜ        AKP  KATILMADI  \n\n[173262 rows x 16 columns]",
      "text/html": "<div>\n<style scoped>\n    .dataframe tbody tr th:only-of-type {\n        vertical-align: middle;\n    }\n\n    .dataframe tbody tr th {\n        vertical-align: top;\n    }\n\n    .dataframe thead th {\n        text-align: right;\n    }\n</style>\n<table border=\"1\" class=\"dataframe\">\n  <thead>\n    <tr style=\"text-align: right;\">\n      <th></th>\n      <th>İl</th>\n      <th>Soyadı</th>\n      <th>Adı</th>\n      <th>Parti</th>\n      <th>Sistem</th>\n      <th>Pusula</th>\n      <th>Sonuç</th>\n      <th>Tarih</th>\n      <th>Saati</th>\n      <th>url</th>\n      <th>law_name</th>\n      <th>meeting_name</th>\n      <th>meeting_date_given</th>\n      <th>Milletvekili</th>\n      <th>Parti Kısa</th>\n      <th>Katılım</th>\n    </tr>\n  </thead>\n  <tbody>\n    <tr>\n      <td>0</td>\n      <td>ADANA</td>\n      <td>ÇELİK</td>\n      <td>Ömer</td>\n      <td>Adalet ve Kalkınma Partisi</td>\n      <td>KATILMADI</td>\n      <td>-</td>\n      <td>KATILMADI</td>\n      <td>None</td>\n      <td>None</td>\n      <td>https://www.tbmm.gov.tr/tutanak/donem26/tutana...</td>\n      <td>(S.Sayısı: 561) Bazı Kanunlarda Değişiklik Yap...</td>\n      <td>100'üncü Birleşim</td>\n      <td>16 Mayıs 2018 Çarşamba</td>\n      <td>Ömer ÇELİK</td>\n      <td>AKP</td>\n      <td>KATILMADI</td>\n    </tr>\n    <tr>\n      <td>1</td>\n      <td>ADANA</td>\n      <td>DAĞLI</td>\n      <td>Tamer</td>\n      <td>Adalet ve Kalkınma Partisi</td>\n      <td>KABUL</td>\n      <td>-</td>\n      <td>KABUL</td>\n      <td>16.05.2018</td>\n      <td>20:09:20</td>\n      <td>https://www.tbmm.gov.tr/tutanak/donem26/tutana...</td>\n      <td>(S.Sayısı: 561) Bazı Kanunlarda Değişiklik Yap...</td>\n      <td>100'üncü Birleşim</td>\n      <td>16 Mayıs 2018 Çarşamba</td>\n      <td>Tamer DAĞLI</td>\n      <td>AKP</td>\n      <td>KATILDI</td>\n    </tr>\n    <tr>\n      <td>2</td>\n      <td>ADANA</td>\n      <td>DANIŞ BEŞTAŞ</td>\n      <td>Meral</td>\n      <td>Halkların Demokratik Partisi</td>\n      <td>KATILMADI</td>\n      <td>-</td>\n      <td>KATILMADI</td>\n      <td>None</td>\n      <td>None</td>\n      <td>https://www.tbmm.gov.tr/tutanak/donem26/tutana...</td>\n      <td>(S.Sayısı: 561) Bazı Kanunlarda Değişiklik Yap...</td>\n      <td>100'üncü Birleşim</td>\n      <td>16 Mayıs 2018 Çarşamba</td>\n      <td>Meral DANIŞ BEŞTAŞ</td>\n      <td>HDP</td>\n      <td>KATILMADI</td>\n    </tr>\n    <tr>\n      <td>3</td>\n      <td>ADANA</td>\n      <td>ERDİNÇ</td>\n      <td>Mehmet Şükrü</td>\n      <td>Adalet ve Kalkınma Partisi</td>\n      <td>KATILMADI</td>\n      <td>-</td>\n      <td>KATILMADI</td>\n      <td>None</td>\n      <td>None</td>\n      <td>https://www.tbmm.gov.tr/tutanak/donem26/tutana...</td>\n      <td>(S.Sayısı: 561) Bazı Kanunlarda Değişiklik Yap...</td>\n      <td>100'üncü Birleşim</td>\n      <td>16 Mayıs 2018 Çarşamba</td>\n      <td>Mehmet Şükrü ERDİNÇ</td>\n      <td>AKP</td>\n      <td>KATILMADI</td>\n    </tr>\n    <tr>\n      <td>4</td>\n      <td>ADANA</td>\n      <td>KARAKAYA</td>\n      <td>Mevlüt</td>\n      <td>Milliyetçi Hareket Partisi</td>\n      <td>KATILMADI</td>\n      <td>-</td>\n      <td>KATILMADI</td>\n      <td>None</td>\n      <td>None</td>\n      <td>https://www.tbmm.gov.tr/tutanak/donem26/tutana...</td>\n      <td>(S.Sayısı: 561) Bazı Kanunlarda Değişiklik Yap...</td>\n      <td>100'üncü Birleşim</td>\n      <td>16 Mayıs 2018 Çarşamba</td>\n      <td>Mevlüt KARAKAYA</td>\n      <td>MHP</td>\n      <td>KATILMADI</td>\n    </tr>\n    <tr>\n      <td>...</td>\n      <td>...</td>\n      <td>...</td>\n      <td>...</td>\n      <td>...</td>\n      <td>...</td>\n      <td>...</td>\n      <td>...</td>\n      <td>...</td>\n      <td>...</td>\n      <td>...</td>\n      <td>...</td>\n      <td>...</td>\n      <td>...</td>\n      <td>...</td>\n      <td>...</td>\n      <td>...</td>\n    </tr>\n    <tr>\n      <td>544</td>\n      <td>OSMANİYE</td>\n      <td>ERSOY</td>\n      <td>Ruhi</td>\n      <td>Milliyetçi Hareket Partisi</td>\n      <td>KATILMADI</td>\n      <td>-</td>\n      <td>KATILMADI</td>\n      <td>None</td>\n      <td>None</td>\n      <td>https://www.tbmm.gov.tr/tutanak/donem26/tutana...</td>\n      <td>(S.Sayısı: 451) Uluslararası Zeytinyağı ve Sof...</td>\n      <td>74'üncü Birleşim</td>\n      <td>23 Şubat 2017 Perşembe</td>\n      <td>Ruhi ERSOY</td>\n      <td>MHP</td>\n      <td>KATILMADI</td>\n    </tr>\n    <tr>\n      <td>545</td>\n      <td>OSMANİYE</td>\n      <td>ÖNAL</td>\n      <td>Suat</td>\n      <td>Adalet ve Kalkınma Partisi</td>\n      <td>KABUL</td>\n      <td>-</td>\n      <td>KABUL</td>\n      <td>23.2.2017</td>\n      <td>20:47:53</td>\n      <td>https://www.tbmm.gov.tr/tutanak/donem26/tutana...</td>\n      <td>(S.Sayısı: 451) Uluslararası Zeytinyağı ve Sof...</td>\n      <td>74'üncü Birleşim</td>\n      <td>23 Şubat 2017 Perşembe</td>\n      <td>Suat ÖNAL</td>\n      <td>AKP</td>\n      <td>KATILDI</td>\n    </tr>\n    <tr>\n      <td>546</td>\n      <td>DÜZCE</td>\n      <td>ARSLAN</td>\n      <td>Fevai</td>\n      <td>Adalet ve Kalkınma Partisi</td>\n      <td>KABUL</td>\n      <td>-</td>\n      <td>KABUL</td>\n      <td>23.2.2017</td>\n      <td>20:47:51</td>\n      <td>https://www.tbmm.gov.tr/tutanak/donem26/tutana...</td>\n      <td>(S.Sayısı: 451) Uluslararası Zeytinyağı ve Sof...</td>\n      <td>74'üncü Birleşim</td>\n      <td>23 Şubat 2017 Perşembe</td>\n      <td>Fevai ARSLAN</td>\n      <td>AKP</td>\n      <td>KATILDI</td>\n    </tr>\n    <tr>\n      <td>547</td>\n      <td>DÜZCE</td>\n      <td>KEŞİR</td>\n      <td>Ayşe</td>\n      <td>Adalet ve Kalkınma Partisi</td>\n      <td>KABUL</td>\n      <td>-</td>\n      <td>KABUL</td>\n      <td>23.2.2017</td>\n      <td>20:47:54</td>\n      <td>https://www.tbmm.gov.tr/tutanak/donem26/tutana...</td>\n      <td>(S.Sayısı: 451) Uluslararası Zeytinyağı ve Sof...</td>\n      <td>74'üncü Birleşim</td>\n      <td>23 Şubat 2017 Perşembe</td>\n      <td>Ayşe KEŞİR</td>\n      <td>AKP</td>\n      <td>KATILDI</td>\n    </tr>\n    <tr>\n      <td>548</td>\n      <td>DÜZCE</td>\n      <td>ÖZLÜ</td>\n      <td>Faruk</td>\n      <td>Adalet ve Kalkınma Partisi</td>\n      <td>KATILMADI</td>\n      <td>-</td>\n      <td>KATILMADI</td>\n      <td>None</td>\n      <td>None</td>\n      <td>https://www.tbmm.gov.tr/tutanak/donem26/tutana...</td>\n      <td>(S.Sayısı: 451) Uluslararası Zeytinyağı ve Sof...</td>\n      <td>74'üncü Birleşim</td>\n      <td>23 Şubat 2017 Perşembe</td>\n      <td>Faruk ÖZLÜ</td>\n      <td>AKP</td>\n      <td>KATILMADI</td>\n    </tr>\n  </tbody>\n</table>\n<p>173262 rows × 16 columns</p>\n</div>"
     },
     "metadata": {},
     "output_type": "execute_result",
     "execution_count": 59
    }
   ],
   "source": [
    "data\n",
    "\n"
   ],
   "metadata": {
    "collapsed": false,
    "pycharm": {
     "name": "#%%\n",
     "is_executing": false
    }
   }
  },
  {
   "cell_type": "code",
   "execution_count": 60,
   "outputs": [],
   "source": [
    "data.to_excel(\"donem26.xlsx\")\n"
   ],
   "metadata": {
    "collapsed": false,
    "pycharm": {
     "name": "#%%\n",
     "is_executing": false
    }
   }
  },
  {
   "cell_type": "code",
   "execution_count": 64,
   "outputs": [],
   "source": [
    "data.to_csv(\"donem27.csv\", encoding=\"utf8\")\n"
   ],
   "metadata": {
    "collapsed": false,
    "pycharm": {
     "name": "#%%\n",
     "is_executing": false
    }
   }
  }
 ],
 "metadata": {
  "language_info": {
   "codemirror_mode": {
    "name": "ipython",
    "version": 2
   },
   "file_extension": ".py",
   "mimetype": "text/x-python",
   "name": "python",
   "nbconvert_exporter": "python",
   "pygments_lexer": "ipython2",
   "version": "2.7.6"
  },
  "kernelspec": {
   "name": "python3",
   "language": "python",
   "display_name": "Python 3"
  },
  "pycharm": {
   "stem_cell": {
    "cell_type": "raw",
    "source": [],
    "metadata": {
     "collapsed": false
    }
   }
  }
 },
 "nbformat": 4,
 "nbformat_minor": 0
}