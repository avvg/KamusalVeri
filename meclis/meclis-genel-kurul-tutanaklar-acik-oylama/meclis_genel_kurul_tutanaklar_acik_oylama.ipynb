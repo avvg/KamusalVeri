{
 "nbformat": 4,
 "nbformat_minor": 0,
 "metadata": {
  "colab": {
   "name": "meclis-genel-kurul-tutanaklar-acik-oylama",
   "provenance": []
  },
  "kernelspec": {
   "name": "python3",
   "language": "python",
   "display_name": "Python 3"
  },
  "pycharm": {
   "stem_cell": {
    "cell_type": "raw",
    "source": [],
    "metadata": {
     "collapsed": false
    }
   }
  }
 },
 "cells": [
  {
   "cell_type": "code",
   "metadata": {
    "id": "mUeCgzf8BYGc",
    "colab_type": "code",
    "colab": {},
    "pycharm": {
     "is_executing": false
    }
   },
   "source": [
    "import requests\n",
    "from bs4 import BeautifulSoup\n",
    "import pandas as pd\n",
    "from time import sleep"
   ],
   "execution_count": 29,
   "outputs": []
  },
  {
   "cell_type": "code",
   "metadata": {
    "id": "aX9NQGm5kxds",
    "colab_type": "code",
    "outputId": "beba9478-89cf-49a4-b381-3d52bdd53422",
    "colab": {
     "base_uri": "https://localhost:8080/",
     "height": 71
    },
    "pycharm": {
     "is_executing": false
    }
   },
   "source": [
    "page = requests.get(\"https://www.tbmm.gov.tr/tutanak/donem26/tutanak1.htm\")\n",
    "page_bs = BeautifulSoup(page.text, from_encoding=\"utf8\")"
   ],
   "execution_count": 7,
   "outputs": [
    {
     "name": "stderr",
     "text": [
      "c:\\users\\da12\\appdata\\local\\programs\\python\\python36\\lib\\site-packages\\bs4\\__init__.py:191: UserWarning: You provided Unicode markup but also provided a value for from_encoding. Your from_encoding will be ignored.\n  warnings.warn(\"You provided Unicode markup but also provided a value for from_encoding. Your from_encoding will be ignored.\")\n"
     ],
     "output_type": "stream"
    }
   ]
  },
  {
   "cell_type": "code",
   "metadata": {
    "id": "gadQCdaok6R3",
    "colab_type": "code",
    "outputId": "761c9818-fc24-4c9e-f6eb-2a7adecf9a3f",
    "colab": {
     "base_uri": "https://localhost:8080/",
     "height": 1000
    },
    "pycharm": {
     "is_executing": false
    }
   },
   "source": [
    "rows = page_bs.find_all(\"table\")[1].find_all(\"tr\")\n",
    "links_list = []\n",
    "for row in rows:\n",
    "  if row.find_all(\"td\")[5].text == '\\xa0':\n",
    "    print(\"it is empty\")\n",
    "  else:\n",
    "    link = row.find_all(\"td\")[5].find(\"a\")[\"href\"] \n",
    "    links_list.append(link)\n",
    "    print(link)\n",
    "print(links_list)"
   ],
   "execution_count": 8,
   "outputs": [
    {
     "name": "stdout",
     "text": [
      "https://www.tbmm.gov.tr/tutanak/donem26/yil1/ham/b22711oylama.htm\nhttps://www.tbmm.gov.tr/tutanak/donem26/yil1/ham/b22709oylama.htm\nhttps://www.tbmm.gov.tr/tutanak/donem26/yil1/ham/b22707oylama.htm\nit is empty\nhttps://www.tbmm.gov.tr/tutanak/donem26/yil1/ham/b22703oylama.htm\nhttps://www.tbmm.gov.tr/tutanak/donem26/yil1/ham/b22701oylama.htm\nhttps://www.tbmm.gov.tr/tutanak/donem26/yil1/ham/b22699oylama.htm\nit is empty\nhttps://www.tbmm.gov.tr/tutanak/donem26/yil1/ham/b22696oylama.htm\nit is empty\nit is empty\nhttps://www.tbmm.gov.tr/tutanak/donem26/yil1/ham/b22691oylama.htm\nit is empty\nhttps://www.tbmm.gov.tr/tutanak/donem26/yil1/ham/b22689oylama.htm\nit is empty\nhttps://www.tbmm.gov.tr/tutanak/donem26/yil1/ham/b22685oylama.htm\nit is empty\nit is empty\nhttps://www.tbmm.gov.tr/tutanak/donem26/yil1/ham/b22679oylama.htm\nit is empty\nit is empty\nit is empty\nhttps://www.tbmm.gov.tr/tutanak/donem26/yil1/ham/b22673oylama.htm\nit is empty\nit is empty\nhttps://www.tbmm.gov.tr/tutanak/donem26/yil1/ham/b22667oylama.htm\nit is empty\nit is empty\nit is empty\nhttps://www.tbmm.gov.tr/tutanak/donem26/yil1/ham/b22659oylama.htm\nhttps://www.tbmm.gov.tr/tutanak/donem26/yil1/ham/b22657oylama.htm\nit is empty\nit is empty\nit is empty\nhttps://www.tbmm.gov.tr/tutanak/donem26/yil1/ham/b22649oylama.htm\nit is empty\nit is empty\nit is empty\nit is empty\nit is empty\nhttps://www.tbmm.gov.tr/tutanak/donem26/yil1/ham/b22637oylama.htm\nhttps://www.tbmm.gov.tr/tutanak/donem26/yil1/ham/b22635oylama.htm\nit is empty\nit is empty\nhttps://www.tbmm.gov.tr/tutanak/donem26/yil1/ham/b22629oylama.htm\nit is empty\nit is empty\nhttps://www.tbmm.gov.tr/tutanak/donem26/yil1/ham/b22623oylama.htm\nhttps://www.tbmm.gov.tr/tutanak/donem26/yil1/ham/b22621oylama.htm\nit is empty\nit is empty\nit is empty\nhttps://www.tbmm.gov.tr/tutanak/donem26/yil1/ham/b22613oylama.htm\nit is empty\nit is empty\nhttps://www.tbmm.gov.tr/tutanak/donem26/yil1/ham/b22607oylama.htm\nit is empty\nit is empty\nit is empty\nhttps://www.tbmm.gov.tr/tutanak/donem26/yil1/ham/b22599oylama.htm\nhttps://www.tbmm.gov.tr/tutanak/donem26/yil1/ham/b22597oylama.htm\nit is empty\nit is empty\nit is empty\nhttps://www.tbmm.gov.tr/tutanak/donem26/yil1/ham/b22589oylama.htm\nit is empty\nit is empty\nhttps://www.tbmm.gov.tr/tutanak/donem26/yil1/ham/b22583oylama.htm\nit is empty\nit is empty\nhttps://www.tbmm.gov.tr/tutanak/donem26/yil1/ham/b22571oylama.htm\nhttps://www.tbmm.gov.tr/tutanak/donem26/yil1/ham/b22569oylama.htm\nit is empty\nit is empty\nit is empty\nit is empty\nit is empty\nit is empty\nit is empty\nit is empty\nit is empty\nit is empty\nit is empty\nit is empty\nhttps://www.tbmm.gov.tr/tutanak/donem26/yil1/ham/b22543oylama.htm\nhttps://www.tbmm.gov.tr/tutanak/donem26/yil1/ham/b22541oylama.htm\nit is empty\nit is empty\nit is empty\nhttps://www.tbmm.gov.tr/tutanak/donem26/yil1/ham/b22533oylama.htm\nit is empty\nit is empty\nit is empty\nhttps://www.tbmm.gov.tr/tutanak/donem26/yil1/ham/b22523oylama.htm\nhttps://www.tbmm.gov.tr/tutanak/donem26/yil1/ham/b22521oylama.htm\nhttps://www.tbmm.gov.tr/tutanak/donem26/yil1/ham/b22519oylama.htm\nit is empty\nit is empty\nit is empty\nit is empty\nhttps://www.tbmm.gov.tr/tutanak/donem26/yil1/ham/b22509oylama.htm\nit is empty\nit is empty\nhttps://www.tbmm.gov.tr/tutanak/donem26/yil1/ham/b22503oylama.htm\nhttps://www.tbmm.gov.tr/tutanak/donem26/yil1/ham/b22501oylama.htm\nit is empty\nhttps://www.tbmm.gov.tr/tutanak/donem26/yil1/ham/b22497oylama.htm\nit is empty\nhttps://www.tbmm.gov.tr/tutanak/donem26/yil1/ham/b22493oylama.htm\nit is empty\nit is empty\nit is empty\nhttps://www.tbmm.gov.tr/tutanak/donem26/yil1/ham/b22485oylama.htm\nit is empty\nit is empty\nit is empty\nit is empty\nit is empty\nit is empty\nit is empty\nit is empty\nhttps://www.tbmm.gov.tr/tutanak/donem26/yil1/ham/b22467oylama.htm\nit is empty\nit is empty\nit is empty\n['https://www.tbmm.gov.tr/tutanak/donem26/yil1/ham/b22711oylama.htm', 'https://www.tbmm.gov.tr/tutanak/donem26/yil1/ham/b22709oylama.htm', 'https://www.tbmm.gov.tr/tutanak/donem26/yil1/ham/b22707oylama.htm', 'https://www.tbmm.gov.tr/tutanak/donem26/yil1/ham/b22703oylama.htm', 'https://www.tbmm.gov.tr/tutanak/donem26/yil1/ham/b22701oylama.htm', 'https://www.tbmm.gov.tr/tutanak/donem26/yil1/ham/b22699oylama.htm', 'https://www.tbmm.gov.tr/tutanak/donem26/yil1/ham/b22696oylama.htm', 'https://www.tbmm.gov.tr/tutanak/donem26/yil1/ham/b22691oylama.htm', 'https://www.tbmm.gov.tr/tutanak/donem26/yil1/ham/b22689oylama.htm', 'https://www.tbmm.gov.tr/tutanak/donem26/yil1/ham/b22685oylama.htm', 'https://www.tbmm.gov.tr/tutanak/donem26/yil1/ham/b22679oylama.htm', 'https://www.tbmm.gov.tr/tutanak/donem26/yil1/ham/b22673oylama.htm', 'https://www.tbmm.gov.tr/tutanak/donem26/yil1/ham/b22667oylama.htm', 'https://www.tbmm.gov.tr/tutanak/donem26/yil1/ham/b22659oylama.htm', 'https://www.tbmm.gov.tr/tutanak/donem26/yil1/ham/b22657oylama.htm', 'https://www.tbmm.gov.tr/tutanak/donem26/yil1/ham/b22649oylama.htm', 'https://www.tbmm.gov.tr/tutanak/donem26/yil1/ham/b22637oylama.htm', 'https://www.tbmm.gov.tr/tutanak/donem26/yil1/ham/b22635oylama.htm', 'https://www.tbmm.gov.tr/tutanak/donem26/yil1/ham/b22629oylama.htm', 'https://www.tbmm.gov.tr/tutanak/donem26/yil1/ham/b22623oylama.htm', 'https://www.tbmm.gov.tr/tutanak/donem26/yil1/ham/b22621oylama.htm', 'https://www.tbmm.gov.tr/tutanak/donem26/yil1/ham/b22613oylama.htm', 'https://www.tbmm.gov.tr/tutanak/donem26/yil1/ham/b22607oylama.htm', 'https://www.tbmm.gov.tr/tutanak/donem26/yil1/ham/b22599oylama.htm', 'https://www.tbmm.gov.tr/tutanak/donem26/yil1/ham/b22597oylama.htm', 'https://www.tbmm.gov.tr/tutanak/donem26/yil1/ham/b22589oylama.htm', 'https://www.tbmm.gov.tr/tutanak/donem26/yil1/ham/b22583oylama.htm', 'https://www.tbmm.gov.tr/tutanak/donem26/yil1/ham/b22571oylama.htm', 'https://www.tbmm.gov.tr/tutanak/donem26/yil1/ham/b22569oylama.htm', 'https://www.tbmm.gov.tr/tutanak/donem26/yil1/ham/b22543oylama.htm', 'https://www.tbmm.gov.tr/tutanak/donem26/yil1/ham/b22541oylama.htm', 'https://www.tbmm.gov.tr/tutanak/donem26/yil1/ham/b22533oylama.htm', 'https://www.tbmm.gov.tr/tutanak/donem26/yil1/ham/b22523oylama.htm', 'https://www.tbmm.gov.tr/tutanak/donem26/yil1/ham/b22521oylama.htm', 'https://www.tbmm.gov.tr/tutanak/donem26/yil1/ham/b22519oylama.htm', 'https://www.tbmm.gov.tr/tutanak/donem26/yil1/ham/b22509oylama.htm', 'https://www.tbmm.gov.tr/tutanak/donem26/yil1/ham/b22503oylama.htm', 'https://www.tbmm.gov.tr/tutanak/donem26/yil1/ham/b22501oylama.htm', 'https://www.tbmm.gov.tr/tutanak/donem26/yil1/ham/b22497oylama.htm', 'https://www.tbmm.gov.tr/tutanak/donem26/yil1/ham/b22493oylama.htm', 'https://www.tbmm.gov.tr/tutanak/donem26/yil1/ham/b22485oylama.htm', 'https://www.tbmm.gov.tr/tutanak/donem26/yil1/ham/b22467oylama.htm']\n"
     ],
     "output_type": "stream"
    }
   ]
  },
  {
   "cell_type": "code",
   "metadata": {
    "id": "_S_R0BUGVr38",
    "colab_type": "code",
    "colab": {},
    "pycharm": {
     "is_executing": false
    }
   },
   "source": [
    "# install chromium, its driver, and selenium\n",
    "# !apt update\n",
    "# !apt install chromium-chromedriver\n",
    "# !cp /usr/lib/chromium-browser/chromedriver /usr/bin\n",
    "# !pip install selenium\n",
    "# set options to be headless, ..\n",
    "from selenium import webdriver\n",
    "from selenium.common.exceptions import ElementNotInteractableException\n",
    "options = webdriver.ChromeOptions()\n",
    "options.add_argument('--no-sandbox')\n",
    "options.add_argument('--disable-dev-shm-usage')\n",
    "# open it, go to a website, and get results\n",
    "wd = webdriver.Chrome('chromedriver',options=options)\n",
    "page = wd.get(\"http://gazetetirajlari.com/HaftalikTirajlar.aspx\")"
   ],
   "execution_count": 105,
   "outputs": []
  },
  {
   "cell_type": "code",
   "metadata": {
    "id": "jFTRrWPNqdRZ",
    "colab_type": "code",
    "outputId": "a5cd922d-259c-462d-9c30-6e3cc3763174",
    "colab": {
     "base_uri": "https://localhost:8080/",
     "height": 232
    },
    "pycharm": {
     "is_executing": false,
     "name": "#%%\n"
    }
   },
   "source": [
    "votes_list = []\n",
    "for link in links_list:\n",
    "    voting_result_page = requests.get(link)\n",
    "    votes_page = wd.get(link)\n",
    "    voting_result_page_bs = BeautifulSoup(voting_result_page.text)\n",
    "    draft_laws = wd.find_element_by_id(\"bas\").find_elements_by_tag_name(\"ol\")[0].find_elements_by_tag_name(\"a\")\n",
    "    # draft_laws = voting_result_page_bs.find(attrs={\"id\": \"bas\"}).find(\"ol\")\n",
    "    for draft_law in draft_laws:\n",
    "        # vote_links = draft_laws# [0].find_elements_by_tag_name(\"a\")\n",
    "        # vote_links.pop(-1)\n",
    "        vote_links = list(filter(None, [x.text for x in vote_links]))\n",
    "        # try:          \n",
    "        draft_law.click()\n",
    "        sleep(1)\n",
    "        vote_table = wd.find_elements_by_tag_name(\"table\")[1].get_attribute(\"outerHTML\")\n",
    "        vote_pd = pd.read_html(vote_table, header=1)[0]\n",
    "        law_name = draft_law.text\n",
    "        vote_pd[\"ilgili_kanun\"] = law_name\n",
    "        assemble_no = wd.find_elements_by_tag_name(\"div\")[0].find_elements_by_tag_name(\"span\")[2].text\n",
    "        vote_pd[\"assemble_no\"] = assemble_no\n",
    "        print(assemble_no, law_name)\n",
    "        votes_list.append(vote_pd)\n",
    "        # except ElementNotInteractableException:\n",
    "        #     print(\"LINK NOT SUITABLE\")\n",
    "            "
   ],
   "execution_count": 132,
   "outputs": [
    {
     "name": "stdout",
     "text": [
      "128'inci Birleşim (S.Sayısı: 413) Türkiye Varlık Fonu Kurulması ile Katma Değer Vergisi Kanununda Değişiklik Yapılmasına Dair Kanun Teklifine verilen oyların sonucu\n",
      "128'inci Birleşim (S.Sayısı: 416) Türkiye Cumhuriyeti Hükümeti ile Japonya Hükümeti Arasında Türkiye Cumhuriyetinde Türk-Japon Bilim ve Teknoloji Üniversitesinin Kurulmasına Dair Anlaşmanın Onaylanmasının Uygun Bulunduğu Hakkında Kanun Tasarısına verilen oyların sonucu\n",
      "128'inci Birleşim (S.Sayısı: 414) Türkiye Cumhuriyeti ile İsrail Devleti Arasında Tazminata İlişkin Usul Anlaşmasının Onaylanmasının Uygun Bulunduğuna Dair Kanun Tasarısına verilen oyların sonucu\n",
      "128'inci Birleşim (S.Sayısı: 45) Türkiye Cumhuriyeti Hükümeti ve Venezuela Bolivar Cumhuriyeti Hükümeti Arasında Enerji Alanında İşbirliği ile İlgili Anlaşmanın Onaylanmasının Uygun Bulunduğuna Dair Kanun Tasarısına verilen oyların sonucu\n",
      "128'inci Birleşim (S.Sayısı: 411) Türkiye Varlık Fonu Kurulması ile Bazı Kanun ve Kanun Hükmünde Kararnamelerde Değişikilik Yapılmasına Dair Kanun Tasarısına verilen oyların sonucu\n",
      "127'nci Birleşim (S.Sayısı: 411) Türkiye Varlık Fonu Kurulması ile Bazı Kanun ve Kanun Hükmünde Kararnamelerde Değişikilik Yapılmasına Dair Kanun Tasarısının 13'üncü maddesine verilen oyların sonucu\n",
      "127'nci Birleşim (S.Sayısı: 411) Türkiye Varlık Fonu Kurulması ile Bazı Kanun ve Kanun Hükmünde Kararnamelerde Değişikilik Yapılmasına Dair Kanun Tasarısının 14'üncü maddesine verilen oyların sonucu\n",
      "127'nci Birleşim (S.Sayısı: 411) Türkiye Varlık Fonu Kurulması ile Bazı Kanun ve Kanun Hükmünde Kararnamelerde Değişikilik Yapılmasına Dair Kanun Tasarısının 15'inci maddesine verilen oyların sonucu\n",
      "127'nci Birleşim (S.Sayısı: 411) Türkiye Varlık Fonu Kurulması ile Bazı Kanun ve Kanun Hükmünde Kararnamelerde Değişikilik Yapılmasına Dair Kanun Tasarısının 16'ncı maddesine verilen oyların sonucu\n",
      "127'nci Birleşim (S.Sayısı: 411) Türkiye Varlık Fonu Kurulması ile Bazı Kanun ve Kanun Hükmünde Kararnamelerde Değişikilik Yapılmasına Dair Kanun Tasarısının 17'nci maddesine verilen oyların sonucu\n",
      "127'nci Birleşim (S.Sayısı: 411) Türkiye Varlık Fonu Kurulması ile Bazı Kanun ve Kanun Hükmünde Kararnamelerde Değişikilik Yapılmasına Dair Kanun Tasarısının 18'inci maddesine verilen oyların sonucu\n",
      "127'nci Birleşim (S.Sayısı: 411) Türkiye Varlık Fonu Kurulması ile Bazı Kanun ve Kanun Hükmünde Kararnamelerde Değişikilik Yapılmasına Dair Kanun Tasarısının 19'uncu maddesine verilen oyların sonucu\n",
      "127'nci Birleşim (S.Sayısı: 411) Türkiye Varlık Fonu Kurulması ile Bazı Kanun ve Kanun Hükmünde Kararnamelerde Değişikilik Yapılmasına Dair Kanun Tasarısının 21'inci maddesine verilen oyların sonucu\n",
      "126'ncı Birleşim (S.Sayısı: 411) Türkiye Varlık Fonu Kurulması ile Bazı Kanun ve Kanun Hükmünde Kararnamelerde Değişikilik Yapılmasına Dair Kanun Tasarısının 4'üncü maddesine verilen oyların sonucu\n",
      "126'ncı Birleşim (S.Sayısı: 411) Türkiye Varlık Fonu Kurulması ile Bazı Kanun ve Kanun Hükmünde Kararnamelerde Değişikilik Yapılmasına Dair Kanun Tasarısının 5'inci maddesine verilen oyların sonucu\n",
      "126'ncı Birleşim (S.Sayısı: 411) Türkiye Varlık Fonu Kurulması ile Bazı Kanun ve Kanun Hükmünde Kararnamelerde Değişikilik Yapılmasına Dair Kanun Tasarısının 7'nci maddesine verilen oyların sonucu\n",
      "126'ncı Birleşim (S.Sayısı: 411) Türkiye Varlık Fonu Kurulması ile Bazı Kanun ve Kanun Hükmünde Kararnamelerde Değişikilik Yapılmasına Dair Kanun Tasarısının 8'inci maddesine verilen oyların sonucu\n",
      "126'ncı Birleşim (S.Sayısı: 411) Türkiye Varlık Fonu Kurulması ile Bazı Kanun ve Kanun Hükmünde Kararnamelerde Değişikilik Yapılmasına Dair Kanun Tasarısının 9'uncu maddesine verilen oyların sonucu\n",
      "126'ncı Birleşim (S.Sayısı: 411) Türkiye Varlık Fonu Kurulması ile Bazı Kanun ve Kanun Hükmünde Kararnamelerde Değişikilik Yapılmasına Dair Kanun Tasarısının 10'uncu maddesine verilen oyların sonucu\n",
      "126'ncı Birleşim (S.Sayısı: 411) Türkiye Varlık Fonu Kurulması ile Bazı Kanun ve Kanun Hükmünde Kararnamelerde Değişikilik Yapılmasına Dair Kanun Tasarısının 11'inci maddesine verilen oyların sonucu\n",
      "124'üncü Birleşim (S.Sayısı: 381) Türkiye Cumhuriyeti Hükümeti ve Evrensel Posta Birliği (UPU) Arasında Yirmi Altıncı Dünya Posta Kongresine Yönelik Düzenlemelere İlişkin Anlaşmanın Onaylanmasının Uygun Bulunduğuna Dair Kanun Tasarısına verilen oyların sonucu\n",
      "123'üncü Birleşim (S.Sayısı: 407) Karadağın Kuzey Atlantik Anlaşmasına Katılımına İlişkin Protokolün Onaylanmasının Uygun Bulunduğuna Dair Kanun Tasarısına verilen oyların sonucu\n",
      "123'üncü Birleşim (S.Sayısı: 208) Nükleer Enerjinin Barışçıl Amaçlarla Kullanımına Dair Türkiye Cumhuriyeti Hükümeti ile Çin Halk Cumhuriyeti Hükümeti Arasında İşbirliği Anlaşmasının Onaylanmasının Uygun Bulunduğuna Dair Kanun Tasarısına verilen oyların sonucu\n",
      "122'nci Birleşim (S.Sayısı: 409) Bazı Alacakların Yeniden Yapılandırılmasına İlişkin Kanun Teklifine verilen oyların sonucu\n",
      "120'üncü Birleşim (S.Sayısı: 403) Uluslararası İşgücü Kanunu Tasarısına verilen oyların sonucu\n",
      "117'nci Birleşim BAŞBAKANLIK TEZKERESİ (OLAĞANÜSTÜ HÂL) OYLAMASI SONUCU\n",
      "115'inci Birleşim (S.Sayısı: 396) Türkiye Cumhuriyeti ve Kuzey Kıbrıs Türk Cumhuriyeti Hukukuna Göre Kurulmuş Olan Üniversitelerin Karşılıklı Tanınmasına Dair Milletlerarası Anlaşmaya Ek Anlaşmanın Onaylanmasının Uygun Bulunduğuna Dair Kanun Tasarısına verilen oyların sonucu\n",
      "115'inci Birleşim (S.Sayısı: 145) Türkiye Cumhuriyeti Hükûmeti ile Karadağ Hükûmeti Arasında Askerî Alanda Eğitim, Teknik ve Bilimsel İş Birliği Çerçeve Anlaşmasının Onaylanmasının Uygun Bulunduğuna Dair Kanun Tasarısına verilen oyların sonucu\n",
      "115'inci Birleşim (S.Sayısı: 249) Türkiye Cumhuriyeti Hükümeti ile Karadağ Hükümeti Arasında Bilimsel ve Teknolojik İşbirliği Anlaşmasının Onaylanmasının Uygun Bulunduğuna Dair Kanun Tasarısına verilen oyların sonucu\n",
      "115'inci Birleşim (S.Sayısı: 141) Türkiye Cumhuriyeti Hükümeti ile Karadağ Hükümeti Arasında Yatırımların Karşılıklı Teşviki ve Korunmasına İlişkin Anlaşmanın Onaylanmasının Uygun Bulunduğuna Dair Kanun Tasarısına verilen oyların sonucu\n",
      "115'inci Birleşim (S.Sayısı: 213) Türkiye Cumhuriyeti Hükümeti ile Karadağ Hükümeti Arasında Geri Kabul Anlaşmasının Onaylanmasının Uygun Bulunduğuna Dair Kanun Tasarısına verilen oyların sonucu\n",
      "115'inci Birleşim (S.Sayısı: 42) Türkiye Cumhuriyeti Hükümeti ile Karadağ Hükümeti Arasında Eğitim Alanında İşbirliği Mutabakat Zaptının Onaylanmasının Uygun Bulunduğuna Dair Kanun Tasarısına verilen oyların sonucu\n",
      "113'üncü Birleşim (S.Sayısı: 404) Yatırım Ortamının İyileştirilmesi Amacıyla Bazı Kanunlarda Değişiklik Yapılmasına Dair Kanun Tasarısına verilen oyların sonucu\n",
      "110'üncü Birleşim (S.Sayısı: 343) Dünya Posta Birliği Kuruluş Yasasına Sekizinci Ek Protokolün Onaylanmasının Uygun Bulunduğuna Dair Kanun Tasarısına verilen oyların sonucu\n",
      "110'üncü Birleşim (S.Sayısı: 398) Türkiye Cumhuriyeti ile Moldova Cumhuriyeti Arasında Serbest Ticaret Anlaşmasının Onaylanmasının Uygun Bulunduğuna Dair Kanun Tasarısına verilen oyların sonucu\n",
      "110'üncü Birleşim (S.Sayısı: 183) Türkiye Cumhuriyeti Hükümeti ile Ürdün Haşimi Krallığı Hükümeti Arasında Kalkınma İşbirliği Anlaşmasının Onaylanmasının Uygun Bulunduğuna Dair Kanun Tasarısına verilen oyların sonucu\n",
      "110'üncü Birleşim (S.Sayısı: 395) Türkiye Cumhuriyeti Hükümeti ile Kuzey Kıbrıs Türk Cumhuriyeti Hükümeti Arasında KKTC'de Bulunan Vakıf Kültür Varlıklarının Restorasyon İşlerinin Yürütülmesine İlişkin Anlaşmanın Onaylanmasının Uygun Bulunduğuna Dair Kanun Tasarısına verilen oyların sonucu\n",
      "106'ncı Birleşim (S.Sayısı: 387) Türk Silahlı Kuvvetleri Personel Kanunu ile Bazı Kanunlarda Değişiklik Yapılmasına Dair Kanun Tasarısına verilen oyların sonucu\n",
      "103'üncü Birleşim (S.Sayısı: 383) Maarif Vakfı Kanunu Tasarısına verilen oyların sonucu\n",
      "99'uncu Birleşim (S.Sayısı: 238) Türkiye Cumhuriyeti ile Belçika Krallığı Arasında 2 Haziran 1987 Tarihinde Ankarada İmzalanan Gelir Üzerinden Alınan Vergilerde Çifte Vergilendirmeyi Önleme Anlaşmasını Değiştiren Protokolün Onaylanmasının Uygun Bulunduğuna Dair Kanun Tasarısına verilen oyların sonucu\n",
      "98'inci Birleşim (S.Sayısı: 312) Elektrik Piyasası Kanunu ile Bazı Kanunlarda Değişiklik Yapılmasına Dair Kanun Teklifinin 15'inci maddesine verilen oyların sonucu\n",
      "98'inci Birleşim (S.Sayısı: 312) Elektrik Piyasası Kanunu ile Bazı Kanunlarda Değişiklik Yapılmasına Dair Kanun Teklifinin 21'inci maddesine verilen oyların sonucu\n",
      "98'inci Birleşim (S.Sayısı: 312) Elektrik Piyasası Kanunu ile Bazı Kanunlarda Değişiklik Yapılmasına Dair Kanun Teklifinin 22'nci maddesine verilen oyların sonucu\n",
      "98'inci Birleşim (S.Sayısı: 312) Elektrik Piyasası Kanunu ile Bazı Kanunlarda Değişiklik Yapılmasına Dair Kanun Teklifinin 25'inci maddesine verilen oyların sonucu\n",
      "98'inci Birleşim Elektrik Piyasası Kanunu ile Bazı Kanunlarda Değişiklik Yapılmasına Dair Kanun Teklifinin Madde 26'ya Bağlı Geçici Madde 20\n",
      "98'inci Birleşim (S.Sayısı: 312) Elektrik Piyasası Kanunu ile Bazı Kanunlarda Değişiklik Yapılmasına Dair Kanun Teklifine verilen oyların sonucu\n",
      "94'üncü Birleşim Başbakan Binali Yıldırım tarafından kurulan 65'inci Hükûmetin güven oylaması açık oylama sonucu:\n",
      "88'inci Birleşim (S.Sayısı: 30) Türkiye Cumhuriyeti Hükümeti ile Birleşmiş Milletler İnsani İşler Eşgüdüm Ofisi Arasında Türkiyede Bir Ülke Ofisi Kurulmasına İlişkin Anlaşmanın Onaylanmasının Uygun Bulunduğuna Dair Kanun Tasarısına verilen oyların sonucu\n",
      "87'nci Birleşim (S.Sayısı: 29) Türkiye Cumhuriyeti Hükümeti ile Belçika Fransız Toplumu Hükümeti, Valonya Hükümeti ve Brüksel-Başkent Bölgesi Fransız Toplumu Komisyonu Heyeti Arasında Kültür, Eğitim ve Bilimsel Araştırma Alanında İşbirliği Anlaşmasının Onaylanmasının Uygun Bulunduğu Hakkında Kanun Tasarısına verilen oyların sonucu\n",
      "84'üncü Birleşim (S.Sayısı: 298) Türkiye Cumhuriyeti ile Avrupa Birliği Arasında İzinsiz İkamet Eden Kişilerin Geri Kabulüne İlişkin Anlaşma ile Oluşturulan Ortak Geri Kabul Komitesinin 2/2016 Sayılı Kararının Onaylanmasının Uygun Bulunduğuna Dair Kanun Tasarısına verilen oyların sonucu\n",
      "81'inci Birleşim (S.Sayısı: 296) Suçluların İadesine İlişkin Avrupa Sözleşmesine Ek Üçüncü Protokolün Onaylanmasının Uygun Bulunduğuna Dair Kanun Tasarısına verilen oyların sonucu\n",
      "81'inci Birleşim (S.Sayısı: 297) Suçluların İadesine İlişkin Avrupa Sözleşmesine Ek Dördüncü Protokolün Onaylanmasının Uygun Bulunduğuna Dair Kanun Tasarısına verilen oyların sonucu\n",
      "80'inci Birleşim (S.Sayısı: 280) Velayet Sorumluluğu ve Çocukların Korunması Hakkında Tedbirler Yönünden Yetki, Uygulanacak Hukuk, Tanıma Tenfiz ve İşbirliğine Dair Sözleşmeye Katılmamızın Uygun Bulunduğuna Dair Kanun Tasarısına verilen oyların sonucu\n",
      "80'inci Birleşim (S.Sayısı: 281) Çocuk Nafakası ve Diğer Aile Nafaka Türlerinin Uluslararası Tahsiline İlişkin Sözleşmeye Katılmamızın Uygun Bulunduğuna Dair Kanun Tasarısına verilen oyların sonucu\n",
      "80'inci Birleşim (S.Sayısı: 294) Suçluların İadesine İlişkin Avrupa Sözleşmesine Ek Protokolün Onaylanmasının Uygun Bulunduğuna Dair Kanun Tasarısına verilen oyların sonucu\n",
      "80'inci Birleşim (S.Sayısı: 295) Ceza İşlerinde Karşılıklı Adli Yardım Avrupa Sözleşmesine İkinci Ek Protokolün Onaylanmasının Uygun Bulunduğuna Dair Kanun Tasarısına verilen oyların sonucu\n",
      "76'ncı Birleşim (S.Sayısı: 279) Kişisel Verilerin Otomatik İşleme Tabi Tutulması Karşısında Bireylerin Korunması Sözleşmesine Ek Denetleyici Makamlar ve Sınıraşan Veri Akışına İlişkin Protokolün Onaylanmasının Uygun Bulunduğuna Dair Kanun Tasarısına verilen oyların sonucu\n",
      "73'üncü Birleşim (S.Sayısı: 273) 65 Yaşını Doldurmuş Muhtaç, Güçsüz ve Kimsesiz Türk Vatandaşlarına Aylık Bağlanması Hakkında Kanun ile Bazı Kanun ve Kanun Hükmünde Kararnamelerde Değişiklik Yapılmasına Dair Kanun Tasarısına verilen oyların sonucu\n",
      "69'uncu Birleşim (S.Sayısı: 186) Türkiye Cumhuriyeti Hükümeti ile Pakistan İslam Cumhuriyeti Hükümeti Arasında İzinsiz İkamet Eden Şahısların Geri Kabulüne Dair Anlaşmanın Onaylanmasının Uygun Bulunduğuna Dair Kanun Tasarısına verilen oyların sonucu\n",
      "68'inci Birleşim (S.Sayısı: 149) Türkiye İnsan Hakları ve Eşitlik Kurumu Kanunu Tasarısına verilen oyların sonucu\n",
      "64'üncü Birleşim (S.Sayısı: 149) Türkiye İnsan Hakları ve Eşitlik Kurumu Kanunu Tasarısının6'ncı maddesine verilen oyların sonucu\n",
      "64'üncü Birleşim (S.Sayısı: 149) Türkiye İnsan Hakları ve Eşitlik Kurumu Kanunu Tasarısının10'ıncı maddesine verilen oyların sonucu\n",
      "61'inci Birleşim (S.Sayısı: 117) Kişisel Verilerin Korunması Kanunu Tasarısına verilen oyların sonucu\n",
      "61'inci Birleşim (S.Sayısı: 168) Uluslararası Hidrografi Örgütü Hakkında Sözleşmeye Değişiklikler Protokolüne Katılmamızın Uygun Bulunduğuna Dair Kanun Tasarısına verilen oyların sonucu\n",
      "61'inci Birleşim (S.Sayısı: 7) Türkiye Cumhuriyeti Hükümeti ve Gürcistan Hükümeti Arasında Enerji Alanında İşbirliğine Dair Anlaşmanın Onaylanmasının Uygun Bulunduğuna Dair Kanun Tasarısına verilen oyların sonucu\n",
      "58'inci Birleşim (S.Sayısı: 123) 11 Nolu Protokol ile Değişik İnsan Haklarını ve Ana Hürriyetleri Korumaya Dair Sözleşmeye Ek 7 Nolu Protokolün Onaylanmasının Uygun Bulunduğuna Dair Kanun Tasarısına verilen oyların sonucu\n",
      "58'inci Birleşim (S.Sayısı: 136) Türkiye Cumhuriyeti Hükümeti, Bulgaristan Cumhuriyeti Hükümeti ve Yunanistan Cumhuriyeti Hükümeti Arasında Polis ve Gümrük İşbirliği Ortak Temas Merkezi Kuruluş ve İşleyişi Hakkında Anlaşma ile Notaların Onaylanmasının Uygun Bulunduğuna Dair Kanun Tasarısına verilen oyların sonucu\n",
      "58'inci Birleşim (S.Sayısı: 148) Türkiye Cumhuriyeti Hükümeti ve Birleşmiş Milletler Gıda ve Tarım Örgütü Arasında GTÖ Orta Asya Alt Bölge Ofisine Dair Anlaşmaya Yönelik GTÖ Orta Asya Alt Bölge Ofisinin Güçlendirilmesi Konulu Tamamlayıcı Anlaşmanın Onaylanmasının Uygun Bulunduğuna Dair Kanun Tasarısına verilen oyların sonucu\n",
      "58'inci Birleşim (S.Sayısı: 176) Türkiye Cumhuriyeti Hükümeti ile Azerbaycan Cumhuriyeti Hükümeti Arasında Elektrik Enerjisi Mübadelesi ile İlgili Olarak Ortaya Çıkan Borca İlişkin Protokolün Onaylanmasının Uygun Bulunduğuna Dair Kanun Tasarısına verilen oyların sonucu\n",
      "58'inci Birleşim (S.Sayısı: 13) Türkiye Cumhuriyeti Hükümeti ve Sıerra Leone Cumhuriyeti Hükümeti Arasında Hava Ulaştırma Anlaşmasının Onaylanmasının Uygun Bulunduğuna Dair Kanun Tasarısına verilen oyların sonucu\n",
      "58'inci Birleşim (S.Sayısı: 14) Türkiye Cumhuriyeti Hükümeti ve Güney Sudan Cumhuriyeti Hükümeti Arasında Hava Ulaştırma Anlaşmasının Onaylanmasının Uygun Bulunduğuna Dair Kanun Tasarısına verilen oyların sonucu\n",
      "58'inci Birleşim (S.Sayısı: 15) Türkiye Cumhuriyeti Hükümeti ve Ruanda Cumhuriyeti Hükümeti Arasında Hava Ulaştırma Anlaşmasının Onaylanmasının Uygun Bulunduğuna Dair Kanun Tasarısına verilen oyların sonucu\n",
      "58'inci Birleşim (S.Sayısı: 16) Türkiye Cumhuriyeti Hükümeti ve Zimbabve Cumhuriyeti Hükümeti Arasında Hava Ulaştırma Anlaşmasının Onaylanmasının Uygun Bulunduğuna Dair Kanun Tasarısına verilen oyların sonucu\n",
      "58'inci Birleşim (S.Sayısı: 17) Türkiye Cumhuriyeti Hükümeti ve Jamaika Hükümeti Arasında Hava Ulaştırma Anlaşmasının Onaylanmasının Uygun Bulunduğuna Dair Kanun Tasarısına verilen oyların sonucu\n",
      "58'inci Birleşim (S.Sayısı: 20) Türkiye Cumhuriyeti Hükümeti ve Zambiya Cumhuriyeti Hükümeti Arasında Hava Ulaştırma Anlaşmasının Onaylanmasının Uygun Bulunduğuna Dair Kanun Tasarısına verilen oyların sonucu\n",
      "58'inci Birleşim (S.Sayısı: 21) Türkiye Cumhuriyeti Hükümeti ve Orta Afrika Cumhuriyeti Hükümeti Arasında Hava Ulaştırma Anlaşmasının Onaylanmasının Uygun Bulunduğuna Dair Kanun Tasarısına verilen oyların sonucu\n",
      "58'inci Birleşim (S.Sayısı: 22) Türkiye Cumhuriyeti Hükümeti ve Fildişi Sahili Cumhuriyeti Hükümeti Arasında Hava Ulaştırma Anlaşmasının Onaylanmasının Uygun Bulunduğuna Dair Kanun Tasarısına verilen oyların sonucu\n",
      "58'inci Birleşim (S.Sayısı: 23) Türkiye Cumhuriyeti Hükümeti ve Benin Cumhuriyeti Hükümeti Arasında Hava Ulaştırma Anlaşmasının Onaylanmasının Uygun Bulunduğuna Dair Kanun Tasarısına verilen oyların sonucu\n",
      "58'inci Birleşim (S.Sayısı: 25) Türkiye Cumhuriyeti Hükümeti ile Ekvator Cumhuriyeti Hükümeti Arasında İşbirliği Çerçeve Anlaşmasının Onaylanmasının Uygun Bulunduğuna Dair Kanun Tasarısına verilen oyların sonucu\n",
      "57'nci Birleşim (S.Sayısı: 118) 2016 Yılı Merkezi Yönetim Bütçe Kanunu Tasarısına verilen oyların sonucu\n",
      "57'nci Birleşim (S.Sayısı: 119) 2014 Yılı Merkezi Yönetim Kesin Hesap Kanunu Tasarısına verilen oyların sonucu\n",
      "44'üncü Birleşim (S.Sayısı: 85) Türkiye Cumhuriyeti Hükümeti ile Bangladeş Halk Cumhuriyeti Hükümeti Arasında Gümrük Konularında İşbirliği ve Karşılıklı Yardım Anlaşmasının Onaylanmasının Uygun Bulunduğuna Dair Kanun Tasarısına verilen oyların sonucu\n",
      "44'üncü Birleşim (S.Sayısı: 86) Türkiye Cumhuriyeti Hükümetiyle Filistin Devleti Hükümeti Arasında Gümrük Konularında İşbirliği ve Karşılıklı İdari Yardım Anlaşmasının Onaylanmasının Uygun Bulunduğuna Dair Kanun Tasarısına verilen oyların sonucu\n",
      "44'üncü Birleşim (S.Sayısı: 95) Türkiye Cumhuriyeti Hükümeti ile Çin Halk Cumhuriyeti Hükümeti Arasında Gümrük Konularında İşbirliği ve Karşılıklı Yardım Anlaşmasının Onaylanmasının Uygun Bulunduğuna Dair Kanun Tasarısına verilen oyların sonucu\n",
      "44'üncü Birleşim (S.Sayısı: 8) Türkiye Cumhuriyeti ile Macaristan Arasında Dostluk ve İşbirliği Antlaşmanın Onaylanmasının Uygun Bulunduğuna Dair Kanun Tasarısına verilen oyların sonucu\n",
      "43'üncü Birleşim (S.Sayısı: 6) Türkiye Cumhuriyeti Hükümeti ile Amerika Birleşik Devletleri Hükümeti Arasında Genişletilmiş Bilgi Değişimi Yoluyla Uluslararası Vergi Uyumunun Artırılması Anlaşması ve Eki Mutabakat Zaptının Onaylanmasının Uygun Bulunduğuna Dair Kanun Tasarısına verilen oyların sonucu\n",
      "39'uncu Birleşim (S.Sayısı: 97) Araştırma ve Geliştirme Faaliyetlerinin Desteklenmesi Hakkında Kanun ile Bazı Kanun ve Kanun Hükmünde Kararnamelerde Değişiklik Yapılmasına Dair Kanun Tasarısına verilen oyların sonucu\n",
      "35'inci Birleşim Türkiye Cumhuriyeti ile Peru Cumhuriyeti Arasında Ekonomik ve Ticari İşbirliği Anlaşması ile Anlaşmada Düzeltme Yapılmasına İlişkin Notaların Onaylanmasının Uygun Bulunduğuna Dair Kanun Tasarısına verilen oyların sonucu\n",
      "35'inci Birleşim Suç Gelirlerinin Aklanması, Araştırılması, El Konulması, Müsaderesi ve Terörizmin Finansmanına İlişkin Avrupa Konseyi Sözleşmesinin Onaylanmasının Uygun Bulunduğuna Dair Kanun Tasarısına verilen oyların sonucu\n",
      "35'inci Birleşim Hükümlülerin Nakline Dair Sözleşmeye Ek Protokolün Onaylanmasının Uygun Bulunduğuna Dair Kanun Tasarısına verilen oyların sonucu\n",
      "35'inci Birleşim Avrupa Konseyi İnsan Ticaretine Karşı Eylem Sözleşmesinin Onaylanmasının Uygun Bulunduğuna Dair Kanun Tasarısına verilen oyların sonucu\n",
      "35'inci Birleşim İnsan Haklarını ve Ana Hürriyetleri Korumaya Dair Sözleşmeye Değişiklik Getiren 15 Nolu Protokolün Onaylanmasının Uygun Bulunduğuna Dair Kanun Tasarısına verilen oyların sonucu\n",
      "35'inci Birleşim Kişisel Verilerin Otomatik İşleme Tabi Tutulması Karşısında Bireylerin Korunması Sözleşmesinin Onaylanmasının Uygun Bulunduğuna Dair Kanun Tasarısına verilen oyların sonucu\n",
      "35'inci Birleşim Türkiye Cumhuriyeti Hükümeti ile Somali Federal Cumhuriyeti Hükümeti Arasında Savunma Sanayi İşbirliği Anlaşmasının Onaylanmasının Uygun Bulunduğuna Dair Kanun Tasarısına verilen oyların sonucu\n",
      "35'inci Birleşim Türkiye Cumhuriyeti Hükümeti ile Surinam Cumhuriyeti Hükümeti Arasında Ticaret ve Ekonomik İşbirliği Anlaşmasının Onaylanmasının Uygun Bulunduğuna Dair Kanun Tasarısına verilen oyların sonucu\n",
      "35'inci Birleşim Türkiye Cumhuriyeti Hükümeti ile Morityus Cumhuriyeti Hükümeti Arasında Yatırımların Karşılıklı Teşviki ve Korunmasına İlişkin Anlaşmanın Onaylanmasının Uygun Bulunduğuna Dair Kanun Tasarısına verilen oyların sonucu\n",
      "35'inci Birleşim Türkiye Cumhuriyeti Hükümeti ile Morityus Cumhuriyeti Hükümeti Arasında Ticaret ve Ekonomik İşbirliği Anlaşmasının Onaylanmasının Uygun Bulunduğuna Dair Kanun Tasarısına verilen oyların sonucu\n",
      "35'inci Birleşim Türkiye Cumhuriyeti ile Şili Cumhuriyeti Arasında Serbest Ticaret Anlaşmasında Değişiklik Yapılmasına İlişkin 1/2013 Sayılı Kararın Onaylanmasının Uygun Bulunduğuna Dair Kanun Tasarısına verilen oyların sonucu\n",
      "35'inci Birleşim Türkiye Cumhuriyeti Hükümeti ile Cibuti Cumhuriyeti Hükümeti Arasında Yatırımların Karşılıklı Teşviki ve Korunmasına İlişkin Anlaşmanın Onaylanmasının Uygun Bulunduğuna Dair Kanun Tasarısına verilen oyların sonucu\n",
      "34'üncü Birleşim Gelir Vergisi Kanunu İle Bazı Kanunlarda Değişiklik Yapılmasına Dair Kanun Tasarısına verilen oyların sonucu\n",
      "33'üncü Birleşim Türkiye Cumhuriyeti ile Kore Cumhuriyeti Arasında Serbest Ticaret Alanı Tesis Eden Çerçeve Anlaşma Kapsamında Yatırım Anlaşmasının Onaylanmasının Uygun Bulunduğuna Dair Kanun Tasarısına verilen oyların sonucu\n",
      "28'inci Birleşim Askerlik Kanunu ile Bazı Kanun ve Kanun Hükmünde Kararnamelerde Değişiklik Yapılmasına Dair Kanun Tasarısına verilen oyların sonucu\n",
      "28'inci Birleşim Dünya Ticaret Örgütünü Kuran Marakeş Anlaşmasını Tadil Eden Protokol ile Ticaretin Kolaylaştırılması Anlaşmasının Onaylanmasının Uygun Bulunduğuna Dair Kanun Tasarısına verilen oyların sonucu\n",
      "25'inci Birleşim Türkiye Cumhuriyeti ile Kore Cumhuriyeti Arasında Serbest Ticaret Alanı Tesis Eden Çerçeve Anlaşma Kapsamında Yatırım Anlaşmasının Onaylanmasının Uygun Bulunduğuna Dair Kanun Tasarısına verilen oyların sonucu\n",
      "25'inci Birleşim Türkiye Cumhuriyeti Hükümeti ile Romanya Hükümeti Arasında Savunma Sanayi İşbirliği Anlaşmasının Onaylanmasının Uygun Bulunduğuna Dair Kanun Tasarısına verilen oyların sonucu\n",
      "24'üncü Birleşim Asya Altyapı Yatırım Bankası Kuruluş Anlaşmasının Onaylanmasının Uygun Bulunduğuna Dair Kanun Tasarısına verilen oyların sonucu\n",
      "22'nci Birleşim Yükseköğretim Kanunu ile Bazı Kanun ve Kanun Hükmünde Kararnamelerde Değişiklik Yapılmasına Dair Kanun Teklifine verilen oyların sonucu\n",
      "22'nci Birleşim Türkiye Cumhuriyeti Hükümeti ile Gabon Cumhuriyeti Hükümeti Arasında Savunma Sanayi İşbirliği Anlaşmasının Onaylanmasının Uygun Bulunduğuna Dair Kanun Tasarısına verilen oyların sonucu\n",
      "20'nci Birleşim Gelir Vergisi Kanunu ile Bazı Kanunlarda Değişiklik Yapılmasına Dair Kanun Tasarısına verilen oyların sonucu\n",
      "16'ncı Birleşim 2016 Yılı Merkezi Yönetim Geçici Bütçe Kanunu Tasarısına verilen oyların sonucu\n",
      "7'nci Birleşim Başbakan Ahmet Davutoğlu tarafından kurulan 64'üncü Hükûmetin güven oylaması açık oylama sonucu\n"
     ],
     "output_type": "stream"
    }
   ]
  },
  {
   "cell_type": "code",
   "execution_count": 134,
   "outputs": [
    {
     "data": {
      "text/plain": "           İl        Soyadı           Adı                         Parti  \\\n0       ADANA         ÇELİK          Ömer    Adalet ve Kalkınma Partisi   \n1       ADANA         DAĞLI         Tamer    Adalet ve Kalkınma Partisi   \n2       ADANA  DANIŞ BEŞTAŞ         Meral  Halkların Demokratik Partisi   \n3       ADANA        ERDİNÇ  Mehmet Şükrü    Adalet ve Kalkınma Partisi   \n4       ADANA      KARAKAYA        Mevlüt    Milliyetçi Hareket Partisi   \n..        ...           ...           ...                           ...   \n545  OSMANİYE         ERSOY          Ruhi    Milliyetçi Hareket Partisi   \n546  OSMANİYE          ÖNAL          Suat    Adalet ve Kalkınma Partisi   \n547     DÜZCE        ARSLAN         Fevai    Adalet ve Kalkınma Partisi   \n548     DÜZCE         KEŞİR          Ayşe    Adalet ve Kalkınma Partisi   \n549     DÜZCE          ÖZLÜ         Faruk    Adalet ve Kalkınma Partisi   \n\n        Sistem Pusula      Sonuç       Tarih     Saati  \\\n0    KATILMADI      -  KATILMADI  --.--.----  --:--:--   \n1        KABUL      -      KABUL   19.8.2016  22:45:26   \n2    KATILMADI      -  KATILMADI  --.--.----  --:--:--   \n3        KABUL      -      KABUL   19.8.2016  22:45:43   \n4    KATILMADI      -  KATILMADI  --.--.----  --:--:--   \n..         ...    ...        ...         ...       ...   \n545  KATILMADI    RED        RED  --.--.----  --:--:--   \n546      KABUL      -      KABUL  30.11.2015  21:35:24   \n547      KABUL      -      KABUL  30.11.2015  21:34:01   \n548      KABUL      -      KABUL  30.11.2015  21:33:41   \n549      KABUL      -      KABUL  30.11.2015  21:35:06   \n\n                                          ilgili_kanun        assemble_no  \n0    (S.Sayısı: 413) Türkiye Varlık Fonu Kurulması ...  128'inci Birleşim  \n1    (S.Sayısı: 413) Türkiye Varlık Fonu Kurulması ...  128'inci Birleşim  \n2    (S.Sayısı: 413) Türkiye Varlık Fonu Kurulması ...  128'inci Birleşim  \n3    (S.Sayısı: 413) Türkiye Varlık Fonu Kurulması ...  128'inci Birleşim  \n4    (S.Sayısı: 413) Türkiye Varlık Fonu Kurulması ...  128'inci Birleşim  \n..                                                 ...                ...  \n545  Başbakan Ahmet Davutoğlu tarafından kurulan 64...     7'nci Birleşim  \n546  Başbakan Ahmet Davutoğlu tarafından kurulan 64...     7'nci Birleşim  \n547  Başbakan Ahmet Davutoğlu tarafından kurulan 64...     7'nci Birleşim  \n548  Başbakan Ahmet Davutoğlu tarafından kurulan 64...     7'nci Birleşim  \n549  Başbakan Ahmet Davutoğlu tarafından kurulan 64...     7'nci Birleşim  \n\n[61049 rows x 11 columns]",
      "text/html": "<div>\n<style scoped>\n    .dataframe tbody tr th:only-of-type {\n        vertical-align: middle;\n    }\n\n    .dataframe tbody tr th {\n        vertical-align: top;\n    }\n\n    .dataframe thead th {\n        text-align: right;\n    }\n</style>\n<table border=\"1\" class=\"dataframe\">\n  <thead>\n    <tr style=\"text-align: right;\">\n      <th></th>\n      <th>İl</th>\n      <th>Soyadı</th>\n      <th>Adı</th>\n      <th>Parti</th>\n      <th>Sistem</th>\n      <th>Pusula</th>\n      <th>Sonuç</th>\n      <th>Tarih</th>\n      <th>Saati</th>\n      <th>ilgili_kanun</th>\n      <th>assemble_no</th>\n    </tr>\n  </thead>\n  <tbody>\n    <tr>\n      <td>0</td>\n      <td>ADANA</td>\n      <td>ÇELİK</td>\n      <td>Ömer</td>\n      <td>Adalet ve Kalkınma Partisi</td>\n      <td>KATILMADI</td>\n      <td>-</td>\n      <td>KATILMADI</td>\n      <td>--.--.----</td>\n      <td>--:--:--</td>\n      <td>(S.Sayısı: 413) Türkiye Varlık Fonu Kurulması ...</td>\n      <td>128'inci Birleşim</td>\n    </tr>\n    <tr>\n      <td>1</td>\n      <td>ADANA</td>\n      <td>DAĞLI</td>\n      <td>Tamer</td>\n      <td>Adalet ve Kalkınma Partisi</td>\n      <td>KABUL</td>\n      <td>-</td>\n      <td>KABUL</td>\n      <td>19.8.2016</td>\n      <td>22:45:26</td>\n      <td>(S.Sayısı: 413) Türkiye Varlık Fonu Kurulması ...</td>\n      <td>128'inci Birleşim</td>\n    </tr>\n    <tr>\n      <td>2</td>\n      <td>ADANA</td>\n      <td>DANIŞ BEŞTAŞ</td>\n      <td>Meral</td>\n      <td>Halkların Demokratik Partisi</td>\n      <td>KATILMADI</td>\n      <td>-</td>\n      <td>KATILMADI</td>\n      <td>--.--.----</td>\n      <td>--:--:--</td>\n      <td>(S.Sayısı: 413) Türkiye Varlık Fonu Kurulması ...</td>\n      <td>128'inci Birleşim</td>\n    </tr>\n    <tr>\n      <td>3</td>\n      <td>ADANA</td>\n      <td>ERDİNÇ</td>\n      <td>Mehmet Şükrü</td>\n      <td>Adalet ve Kalkınma Partisi</td>\n      <td>KABUL</td>\n      <td>-</td>\n      <td>KABUL</td>\n      <td>19.8.2016</td>\n      <td>22:45:43</td>\n      <td>(S.Sayısı: 413) Türkiye Varlık Fonu Kurulması ...</td>\n      <td>128'inci Birleşim</td>\n    </tr>\n    <tr>\n      <td>4</td>\n      <td>ADANA</td>\n      <td>KARAKAYA</td>\n      <td>Mevlüt</td>\n      <td>Milliyetçi Hareket Partisi</td>\n      <td>KATILMADI</td>\n      <td>-</td>\n      <td>KATILMADI</td>\n      <td>--.--.----</td>\n      <td>--:--:--</td>\n      <td>(S.Sayısı: 413) Türkiye Varlık Fonu Kurulması ...</td>\n      <td>128'inci Birleşim</td>\n    </tr>\n    <tr>\n      <td>...</td>\n      <td>...</td>\n      <td>...</td>\n      <td>...</td>\n      <td>...</td>\n      <td>...</td>\n      <td>...</td>\n      <td>...</td>\n      <td>...</td>\n      <td>...</td>\n      <td>...</td>\n      <td>...</td>\n    </tr>\n    <tr>\n      <td>545</td>\n      <td>OSMANİYE</td>\n      <td>ERSOY</td>\n      <td>Ruhi</td>\n      <td>Milliyetçi Hareket Partisi</td>\n      <td>KATILMADI</td>\n      <td>RED</td>\n      <td>RED</td>\n      <td>--.--.----</td>\n      <td>--:--:--</td>\n      <td>Başbakan Ahmet Davutoğlu tarafından kurulan 64...</td>\n      <td>7'nci Birleşim</td>\n    </tr>\n    <tr>\n      <td>546</td>\n      <td>OSMANİYE</td>\n      <td>ÖNAL</td>\n      <td>Suat</td>\n      <td>Adalet ve Kalkınma Partisi</td>\n      <td>KABUL</td>\n      <td>-</td>\n      <td>KABUL</td>\n      <td>30.11.2015</td>\n      <td>21:35:24</td>\n      <td>Başbakan Ahmet Davutoğlu tarafından kurulan 64...</td>\n      <td>7'nci Birleşim</td>\n    </tr>\n    <tr>\n      <td>547</td>\n      <td>DÜZCE</td>\n      <td>ARSLAN</td>\n      <td>Fevai</td>\n      <td>Adalet ve Kalkınma Partisi</td>\n      <td>KABUL</td>\n      <td>-</td>\n      <td>KABUL</td>\n      <td>30.11.2015</td>\n      <td>21:34:01</td>\n      <td>Başbakan Ahmet Davutoğlu tarafından kurulan 64...</td>\n      <td>7'nci Birleşim</td>\n    </tr>\n    <tr>\n      <td>548</td>\n      <td>DÜZCE</td>\n      <td>KEŞİR</td>\n      <td>Ayşe</td>\n      <td>Adalet ve Kalkınma Partisi</td>\n      <td>KABUL</td>\n      <td>-</td>\n      <td>KABUL</td>\n      <td>30.11.2015</td>\n      <td>21:33:41</td>\n      <td>Başbakan Ahmet Davutoğlu tarafından kurulan 64...</td>\n      <td>7'nci Birleşim</td>\n    </tr>\n    <tr>\n      <td>549</td>\n      <td>DÜZCE</td>\n      <td>ÖZLÜ</td>\n      <td>Faruk</td>\n      <td>Adalet ve Kalkınma Partisi</td>\n      <td>KABUL</td>\n      <td>-</td>\n      <td>KABUL</td>\n      <td>30.11.2015</td>\n      <td>21:35:06</td>\n      <td>Başbakan Ahmet Davutoğlu tarafından kurulan 64...</td>\n      <td>7'nci Birleşim</td>\n    </tr>\n  </tbody>\n</table>\n<p>61049 rows × 11 columns</p>\n</div>"
     },
     "metadata": {},
     "output_type": "execute_result",
     "execution_count": 134
    }
   ],
   "source": [
    "votes_master_pd"
   ],
   "metadata": {
    "collapsed": false,
    "pycharm": {
     "name": "#%%\n",
     "is_executing": false
    }
   }
  },
  {
   "cell_type": "code",
   "metadata": {
    "id": "QtXazjUCv_yt",
    "colab_type": "code",
    "colab": {},
    "pycharm": {
     "is_executing": false
    }
   },
   "source": [
    "votes_master_pd = pd.concat(votes_list)"
   ],
   "execution_count": 133,
   "outputs": []
  },
  {
   "cell_type": "code",
   "metadata": {
    "id": "DJSwYvxYI3eM",
    "colab_type": "code",
    "outputId": "2628f3d3-0350-4be2-97cd-9f737d93fc1e",
    "colab": {
     "base_uri": "https://localhost:8080/",
     "height": 34
    },
    "pycharm": {
     "is_executing": false
    }
   },
   "source": [
    "votes_master_pd.to_excel(\"export.xlsx\")"
   ],
   "execution_count": 135,
   "outputs": []
  },
  {
   "cell_type": "code",
   "metadata": {
    "id": "shYE09Z9KvSt",
    "colab_type": "code",
    "colab": {},
    "pycharm": {
     "is_executing": false
    }
   },
   "source": [
    "votes_master_pd[\"ilgili_kanun\"].value_counts()"
   ],
   "execution_count": 80,
   "outputs": [
    {
     "traceback": [
      "\u001b[1;31m---------------------------------------------------------------------------\u001b[0m",
      "\u001b[1;31mTypeError\u001b[0m                                 Traceback (most recent call last)",
      "\u001b[1;32m<ipython-input-80-5c197b5234b3>\u001b[0m in \u001b[0;36m<module>\u001b[1;34m\u001b[0m\n\u001b[1;32m----> 1\u001b[1;33m \u001b[0mvotes_master_pd\u001b[0m\u001b[1;33m[\u001b[0m\u001b[1;34m\"ilgili_kanun\"\u001b[0m\u001b[1;33m]\u001b[0m\u001b[1;33m.\u001b[0m\u001b[0mvalue_counts\u001b[0m\u001b[1;33m(\u001b[0m\u001b[1;33m)\u001b[0m\u001b[1;33m.\u001b[0m\u001b[0mvalues\u001b[0m\u001b[1;33m(\u001b[0m\u001b[1;33m)\u001b[0m\u001b[1;33m\u001b[0m\u001b[1;33m\u001b[0m\u001b[0m\n\u001b[0m",
      "\u001b[1;31mTypeError\u001b[0m: 'numpy.ndarray' object is not callable"
     ],
     "ename": "TypeError",
     "evalue": "'numpy.ndarray' object is not callable",
     "output_type": "error"
    }
   ]
  }
 ]
}