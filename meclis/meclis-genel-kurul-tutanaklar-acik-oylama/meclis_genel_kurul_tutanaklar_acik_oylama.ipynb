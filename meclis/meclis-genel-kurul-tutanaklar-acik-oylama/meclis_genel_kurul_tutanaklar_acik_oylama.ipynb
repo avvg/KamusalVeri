{
 "nbformat": 4,
 "nbformat_minor": 0,
 "metadata": {
  "colab": {
   "name": "meclis-genel-kurul-tutanaklar-acik-oylama",
   "provenance": []
  },
  "kernelspec": {
   "name": "python3",
   "language": "python",
   "display_name": "Python 3"
  },
  "pycharm": {
   "stem_cell": {
    "cell_type": "raw",
    "source": [],
    "metadata": {
     "collapsed": false
    }
   }
  }
 },
 "cells": [
  {
   "cell_type": "code",
   "metadata": {
    "id": "mUeCgzf8BYGc",
    "colab_type": "code",
    "colab": {},
    "pycharm": {
     "is_executing": false
    }
   },
   "source": [
    "import requests\n",
    "from bs4 import BeautifulSoup\n",
    "import pandas as pd\n",
    "from time import sleep"
   ],
   "execution_count": 1,
   "outputs": []
  },
  {
   "cell_type": "code",
   "execution_count": 3,
   "outputs": [],
   "source": [
    "all_legislative_year_url = \"https://www.tbmm.gov.tr/tutanak/tutanaklar.htm\"\n",
    "all_legislative_year_req = requests.get(all_legislative_year_url)\n",
    "all_legislative_year_bs = BeautifulSoup(all_legislative_year_req.text)\n",
    "all_legislative_year_urls = all_legislative_year_bs.find_all(\"table\")[0].find_all(\"a\")\n",
    "all_legislative_year_urls = [x[\"href\"] for x in all_legislative_year_urls]"
   ],
   "metadata": {
    "collapsed": false,
    "pycharm": {
     "name": "#%% urls for all years\n",
     "is_executing": false
    }
   }
  },
  {
   "cell_type": "code",
   "metadata": {
    "id": "aX9NQGm5kxds",
    "colab_type": "code",
    "outputId": "beba9478-89cf-49a4-b381-3d52bdd53422",
    "colab": {
     "base_uri": "https://localhost:8080/",
     "height": 71
    },
    "pycharm": {
     "is_executing": false
    }
   },
   "source": [
    "def get_year_page(legislative_year_url):\n",
    "    page = requests.get(legislative_year_url)\n",
    "    page_bs = BeautifulSoup(page.text, from_encoding=\"utf8\")\n",
    "    \n",
    "    rows = page_bs.find_all(\"table\")[1].find_all(\"tr\")\n",
    "    links_list = []\n",
    "    for row in rows:\n",
    "      if (row.find_all(\"td\")[5].text == '\\xa0'):\n",
    "        print(\"it is empty\")\n",
    "      else:\n",
    "        link = row.find_all(\"td\")[5].find(\"a\")[\"href\"] \n",
    "        links_list.append(link)\n",
    "        print(link)\n",
    "    print(links_list)\n",
    "    return links_list"
   ],
   "execution_count": 4,
   "outputs": []
  },
  {
   "cell_type": "code",
   "execution_count": 5,
   "outputs": [],
   "source": [
    "# install chromium, its driver, and selenium\n",
    "# !apt update\n",
    "# !apt install chromium-chromedriver\n",
    "# !cp /usr/lib/chromium-browser/chromedriver /usr/bin\n",
    "# !pip install selenium\n",
    "# set options to be headless, ..\n",
    "from selenium import webdriver\n",
    "from selenium.common.exceptions import ElementNotInteractableException\n",
    "options = webdriver.ChromeOptions()\n",
    "options.add_argument('--no-sandbox')\n",
    "options.add_argument('--disable-dev-shm-usage')\n",
    "# open it, go to a website, and get results\n",
    "chromedriver_path = r\"C:\\Users\\da12\\Documents\\Python Work\\KamusalVeri\\meclis\\meclis-genel-kurul-tutanaklar-acik-oylama\\chromedriver\"\n",
    "wd = webdriver.Chrome(chromedriver_path, options=options)\n",
    "page = wd.get(\"http://gazetetirajlari.com/HaftalikTirajlar.aspx\")"
   ],
   "metadata": {
    "collapsed": false,
    "pycharm": {
     "name": "#%%\n",
     "is_executing": false
    }
   }
  },
  {
   "cell_type": "code",
   "metadata": {
    "id": "jFTRrWPNqdRZ",
    "colab_type": "code",
    "outputId": "a5cd922d-259c-462d-9c30-6e3cc3763174",
    "colab": {
     "base_uri": "https://localhost:8080/",
     "height": 232
    },
    "pycharm": {
     "is_executing": false,
     "name": "#%%\n"
    }
   },
   "source": [
    "def get_results(links_list, url):\n",
    "    votes_list = []\n",
    "    summary_tables_list = []\n",
    "    for link in links_list:\n",
    "        print(link)\n",
    "        voting_result_page = requests.get(link)\n",
    "        votes_page = wd.get(link)\n",
    "        # voting_result_page_bs = BeautifulSoup(voting_result_page.text)\n",
    "        # draft_laws = wd.find_elements_by_tag_name(\"a\")\n",
    "        # draft_law_tables = wd.find_elements_by_xpath('//*[@id=\"tblTbmmOylama\"]')\n",
    "        meeting_name = wd.find_elements_by_tag_name(\"p\")[2].text\n",
    "        meeting_date_given = wd.find_elements_by_tag_name(\"p\")[3].text\n",
    "        draft_law_panels = wd.find_elements_by_class_name(\"panel\")\n",
    "        for draft_law_panel in draft_law_panels:\n",
    "            law_name = draft_law_panel.find_elements_by_tag_name(\"h3\")[0].get_attribute(\"innerText\")\n",
    "            print(law_name)\n",
    "            summary_table = draft_law_panel.find_element_by_id(\"oySonuc\")\n",
    "            law_data_table = draft_law_panel.find_element_by_id(\"tblTbmmOylama\")\n",
    "            \n",
    "            # Use the code in commented part to extract info from summary tables later. For now, you save them as raw\n",
    "            # html tables\n",
    "            # # summary_table_json\n",
    "            # summary_table_json = {}\n",
    "            # summary_table_json[\"law_name\"] = law_name\n",
    "            # summary_table_json[\"url\"] = url\n",
    "            # summary_table_json[\"uye_sayisi\"] = summary_table.find_elements_by_tag_name(\"tr\")[0].find_elements_by_tag_name(\"td\")[1]\n",
    "            # summary_table_json[\"kabul_edenler\"] = summary_table.find_elements_by_tag_name(\"tr\")[1].find_elements_by_tag_name(\"td\")[1]\n",
    "            # summary_table_json[\"reddedenler\"] = summary_table.find_elements_by_tag_name(\"tr\")[2].find_elements_by_tag_name(\"td\")[1]\n",
    "            # summary_table_json[\"cekimserler\"] = summary_table.find_elements_by_tag_name(\"tr\")[3].find_elements_by_tag_name(\"td\")[1]\n",
    "            # summary_table_json[\"gecersiz\"] = summary_table.find_elements_by_tag_name(\"tr\")[4].find_elements_by_tag_name(\"td\")[1]\n",
    "            # summary_table_json[\"mukerrer\"] = summary_table.find_elements_by_tag_name(\"tr\")[5].find_elements_by_tag_name(\"td\")[1]\n",
    "            # summary_table_json[\"toplam\"] = summary_table.find_elements_by_tag_name(\"tr\")[6].find_elements_by_tag_name(\"td\")[1]\n",
    "            # \n",
    "            # summary_table_json[\"acik_uyelikler\"] = summary_table.find_elements_by_tag_name(\"tr\")[7].find_elements_by_tag_name(\"td\")[1]\n",
    "            # summary_table_json[\"sira_sayisi\"] = summary_table.find_elements_by_tag_name(\"tr\")[7].find_elements_by_tag_name(\"td\")[3]\n",
    "            # summary_table_json[\"birlesim\"] = summary_table.find_elements_by_tag_name(\"tr\")[7].find_elements_by_tag_name(\"td\")[4]\n",
    "            # summary_table_json[\"birlesim_tarihi\"] = summary_table.find_elements_by_tag_name(\"tr\")[7].find_elements_by_tag_name(\"td\")[5]\n",
    "            # summary_table_json[\"kanunlasma_status\"] = summary_table.find_elements_by_tag_name(\"tr\")[7].find_elements_by_tag_name(\"td\")[6]\n",
    "\n",
    "            vote_table = law_data_table.get_attribute(\"outerHTML\")\n",
    "            vote_pd = pd.read_html(vote_table, header=1)[0]\n",
    "            vote_pd[\"url\"] = url\n",
    "            vote_pd[\"law_name\"] = law_name\n",
    "            vote_pd[\"meeting_name\"] = meeting_name\n",
    "            vote_pd[\"meeting_date_given\"] = meeting_date_given\n",
    "            summary_tables_list.append(summary_table.get_attribute(\"outerHTML\"))\n",
    "            votes_list.append(vote_pd)\n",
    "\n",
    "\n",
    "\n",
    "        # for draft_law_table in draft_law_tables:\n",
    "        #     # law_name = draft_law_table.text\n",
    "        #     vote_table = draft_law_table.get_attribute(\"outerHTML\")\n",
    "        #     vote_pd = pd.read_html(vote_table, header=1)[0]\n",
    "        #     \n",
    "        #     # vote_pd[\"ilgili_kanun\"] = law_name\n",
    "        #     # assemble_no = wd.find_elements_by_tag_name(\"div\")[0].find_elements_by_tag_name(\"span\")[2].text\n",
    "        #     # vote_pd[\"assemble_no\"] = assemble_no\n",
    "        #     vote_pd[\"url\"] = url\n",
    "        #     # print(assemble_no, law_name)\n",
    "        #     votes_list.append(vote_pd)\n",
    "        #     # except ElementNotInteractableException:\n",
    "        #     #     print(\"LINK NOT SUITABLE\")\n",
    "    return votes_list, summary_tables_list"
   ],
   "execution_count": 95,
   "outputs": []
  },
  {
   "cell_type": "code",
   "execution_count": 110,
   "outputs": [
    {
     "name": "stdout",
     "text": [
      "https://www.tbmm.gov.tr/tutanak/donem25/tutanak2.htm\nit is empty\n[]\n[]\nhttps://www.tbmm.gov.tr/tutanak/donem25/tutanak1.htm\n",
      "it is empty\nit is empty\nit is empty\nit is empty\nit is empty\nit is empty\nit is empty\nit is empty\nit is empty\n[]\n[]\n"
     ],
     "output_type": "stream"
    }
   ],
   "source": [
    "year_votes_list = []\n",
    "year_summary_tables_list = []\n",
    "failed_legislative_year_urls = []\n",
    "for url in all_legislative_year_urls[6:8]:\n",
    "    print(url)\n",
    "    # try:\n",
    "    year_page = get_year_page(url)\n",
    "    \n",
    "    votes_obj = get_results(year_page, url)\n",
    "    votes_list = votes_obj[0]\n",
    "    summary_tables_list = votes_obj[1]\n",
    "    print(votes_list)\n",
    "    year_votes_list.append(votes_list)\n",
    "    year_summary_tables_list.append(summary_tables_list)\n",
    "    # except IndexError:\n",
    "    #     year_page = None\n",
    "    #     failed_legislative_year_urls.append(url)"
   ],
   "metadata": {
    "collapsed": false,
    "pycharm": {
     "name": "#%%\n",
     "is_executing": false
    }
   }
  },
  {
   "cell_type": "code",
   "execution_count": 103,
   "outputs": [
    {
     "data": {
      "text/plain": "              İl  Soyadı     Adı                       Parti     Sistem  \\\ncount     173262  173262  173262                      173262     173262   \nunique        81     453     377                           6          4   \ntop     İSTANBUL   AYDIN  Mehmet  Adalet ve Kalkınma Partisi  KATILMADI   \nfreq       27826    2219    6023                      100391     111478   \n\n        Pusula      Sonuç       Tarih     Saati  \\\ncount   173262     173262      173262    173262   \nunique      14          6          44      7913   \ntop          -  KATILMADI  --.--.----  --:--:--   \nfreq    165916     104565      111478    111478   \n\n                                                      url  \\\ncount                                              173262   \nunique                                                  2   \ntop     https://www.tbmm.gov.tr/tutanak/donem26/tutana...   \nfreq                                               121853   \n\n                                                 law_name     meeting_name  \\\ncount                                              173262           173262   \nunique                                                310               36   \ntop     (S.Sayısı: 359) Türkiye Cumhuriyeti Gümrük ve ...  76'ncı Birleşim   \nfreq                                                 2196            22509   \n\n          meeting_date_given  \ncount                 173262  \nunique                    41  \ntop     1 Mart 2017 Çarşamba  \nfreq                   22509  ",
      "text/html": "<div>\n<style scoped>\n    .dataframe tbody tr th:only-of-type {\n        vertical-align: middle;\n    }\n\n    .dataframe tbody tr th {\n        vertical-align: top;\n    }\n\n    .dataframe thead th {\n        text-align: right;\n    }\n</style>\n<table border=\"1\" class=\"dataframe\">\n  <thead>\n    <tr style=\"text-align: right;\">\n      <th></th>\n      <th>İl</th>\n      <th>Soyadı</th>\n      <th>Adı</th>\n      <th>Parti</th>\n      <th>Sistem</th>\n      <th>Pusula</th>\n      <th>Sonuç</th>\n      <th>Tarih</th>\n      <th>Saati</th>\n      <th>url</th>\n      <th>law_name</th>\n      <th>meeting_name</th>\n      <th>meeting_date_given</th>\n    </tr>\n  </thead>\n  <tbody>\n    <tr>\n      <td>count</td>\n      <td>173262</td>\n      <td>173262</td>\n      <td>173262</td>\n      <td>173262</td>\n      <td>173262</td>\n      <td>173262</td>\n      <td>173262</td>\n      <td>173262</td>\n      <td>173262</td>\n      <td>173262</td>\n      <td>173262</td>\n      <td>173262</td>\n      <td>173262</td>\n    </tr>\n    <tr>\n      <td>unique</td>\n      <td>81</td>\n      <td>453</td>\n      <td>377</td>\n      <td>6</td>\n      <td>4</td>\n      <td>14</td>\n      <td>6</td>\n      <td>44</td>\n      <td>7913</td>\n      <td>2</td>\n      <td>310</td>\n      <td>36</td>\n      <td>41</td>\n    </tr>\n    <tr>\n      <td>top</td>\n      <td>İSTANBUL</td>\n      <td>AYDIN</td>\n      <td>Mehmet</td>\n      <td>Adalet ve Kalkınma Partisi</td>\n      <td>KATILMADI</td>\n      <td>-</td>\n      <td>KATILMADI</td>\n      <td>--.--.----</td>\n      <td>--:--:--</td>\n      <td>https://www.tbmm.gov.tr/tutanak/donem26/tutana...</td>\n      <td>(S.Sayısı: 359) Türkiye Cumhuriyeti Gümrük ve ...</td>\n      <td>76'ncı Birleşim</td>\n      <td>1 Mart 2017 Çarşamba</td>\n    </tr>\n    <tr>\n      <td>freq</td>\n      <td>27826</td>\n      <td>2219</td>\n      <td>6023</td>\n      <td>100391</td>\n      <td>111478</td>\n      <td>165916</td>\n      <td>104565</td>\n      <td>111478</td>\n      <td>111478</td>\n      <td>121853</td>\n      <td>2196</td>\n      <td>22509</td>\n      <td>22509</td>\n    </tr>\n  </tbody>\n</table>\n</div>"
     },
     "metadata": {},
     "output_type": "execute_result",
     "execution_count": 103
    }
   ],
   "source": [
    "donem_25.describe()"
   ],
   "metadata": {
    "collapsed": false,
    "pycharm": {
     "name": "#%%\n",
     "is_executing": false
    }
   }
  },
  {
   "cell_type": "code",
   "execution_count": 108,
   "outputs": [
    {
     "traceback": [
      "\u001b[1;31m---------------------------------------------------------------------------\u001b[0m",
      "\u001b[1;31mValueError\u001b[0m                                Traceback (most recent call last)",
      "\u001b[1;32m<ipython-input-108-0629d0e64f81>\u001b[0m in \u001b[0;36m<module>\u001b[1;34m\u001b[0m\n\u001b[0;32m      7\u001b[0m \u001b[0mflatten\u001b[0m \u001b[1;33m=\u001b[0m \u001b[0mlist\u001b[0m\u001b[1;33m(\u001b[0m\u001b[0mitertools\u001b[0m\u001b[1;33m.\u001b[0m\u001b[0mchain\u001b[0m\u001b[1;33m(\u001b[0m\u001b[1;33m*\u001b[0m\u001b[0myear_urls\u001b[0m\u001b[1;33m)\u001b[0m\u001b[1;33m)\u001b[0m\u001b[1;33m\u001b[0m\u001b[1;33m\u001b[0m\u001b[0m\n\u001b[0;32m      8\u001b[0m \u001b[1;31m# Concatting them to a big df\u001b[0m\u001b[1;33m\u001b[0m\u001b[1;33m\u001b[0m\u001b[1;33m\u001b[0m\u001b[0m\n\u001b[1;32m----> 9\u001b[1;33m \u001b[0mdonem_25\u001b[0m \u001b[1;33m=\u001b[0m \u001b[0mpd\u001b[0m\u001b[1;33m.\u001b[0m\u001b[0mconcat\u001b[0m\u001b[1;33m(\u001b[0m\u001b[0mflatten\u001b[0m\u001b[1;33m)\u001b[0m\u001b[1;33m\u001b[0m\u001b[1;33m\u001b[0m\u001b[0m\n\u001b[0m",
      "\u001b[1;32mc:\\users\\da12\\appdata\\local\\programs\\python\\python36\\lib\\site-packages\\pandas\\core\\reshape\\concat.py\u001b[0m in \u001b[0;36mconcat\u001b[1;34m(objs, axis, join, join_axes, ignore_index, keys, levels, names, verify_integrity, sort, copy)\u001b[0m\n\u001b[0;32m    253\u001b[0m         \u001b[0mverify_integrity\u001b[0m\u001b[1;33m=\u001b[0m\u001b[0mverify_integrity\u001b[0m\u001b[1;33m,\u001b[0m\u001b[1;33m\u001b[0m\u001b[1;33m\u001b[0m\u001b[0m\n\u001b[0;32m    254\u001b[0m         \u001b[0mcopy\u001b[0m\u001b[1;33m=\u001b[0m\u001b[0mcopy\u001b[0m\u001b[1;33m,\u001b[0m\u001b[1;33m\u001b[0m\u001b[1;33m\u001b[0m\u001b[0m\n\u001b[1;32m--> 255\u001b[1;33m         \u001b[0msort\u001b[0m\u001b[1;33m=\u001b[0m\u001b[0msort\u001b[0m\u001b[1;33m,\u001b[0m\u001b[1;33m\u001b[0m\u001b[1;33m\u001b[0m\u001b[0m\n\u001b[0m\u001b[0;32m    256\u001b[0m     )\n\u001b[0;32m    257\u001b[0m \u001b[1;33m\u001b[0m\u001b[0m\n",
      "\u001b[1;32mc:\\users\\da12\\appdata\\local\\programs\\python\\python36\\lib\\site-packages\\pandas\\core\\reshape\\concat.py\u001b[0m in \u001b[0;36m__init__\u001b[1;34m(self, objs, axis, join, join_axes, keys, levels, names, ignore_index, verify_integrity, copy, sort)\u001b[0m\n\u001b[0;32m    302\u001b[0m \u001b[1;33m\u001b[0m\u001b[0m\n\u001b[0;32m    303\u001b[0m         \u001b[1;32mif\u001b[0m \u001b[0mlen\u001b[0m\u001b[1;33m(\u001b[0m\u001b[0mobjs\u001b[0m\u001b[1;33m)\u001b[0m \u001b[1;33m==\u001b[0m \u001b[1;36m0\u001b[0m\u001b[1;33m:\u001b[0m\u001b[1;33m\u001b[0m\u001b[1;33m\u001b[0m\u001b[0m\n\u001b[1;32m--> 304\u001b[1;33m             \u001b[1;32mraise\u001b[0m \u001b[0mValueError\u001b[0m\u001b[1;33m(\u001b[0m\u001b[1;34m\"No objects to concatenate\"\u001b[0m\u001b[1;33m)\u001b[0m\u001b[1;33m\u001b[0m\u001b[1;33m\u001b[0m\u001b[0m\n\u001b[0m\u001b[0;32m    305\u001b[0m \u001b[1;33m\u001b[0m\u001b[0m\n\u001b[0;32m    306\u001b[0m         \u001b[1;32mif\u001b[0m \u001b[0mkeys\u001b[0m \u001b[1;32mis\u001b[0m \u001b[1;32mNone\u001b[0m\u001b[1;33m:\u001b[0m\u001b[1;33m\u001b[0m\u001b[1;33m\u001b[0m\u001b[0m\n",
      "\u001b[1;31mValueError\u001b[0m: No objects to concatenate"
     ],
     "ename": "ValueError",
     "evalue": "No objects to concatenate",
     "output_type": "error"
    }
   ],
   "source": [
    "# Collected list of dfs will be in two level deep. Structure is from bottom to up:\n",
    "# Vote on law -> Meeting -> Year -> year_votes_list\n",
    "# Exclude empty values from list\n",
    "year_urls = list(filter(None, year_votes_list))\n",
    "import itertools\n",
    "# Iteration for flattening list of lists\n",
    "flatten = list(itertools.chain(*year_urls))\n",
    "# Concatting them to a big df\n",
    "donem_25 = pd.concat(flatten)"
   ],
   "metadata": {
    "collapsed": false,
    "pycharm": {
     "name": "#%%\n",
     "is_executing": false
    }
   }
  },
  {
   "cell_type": "code",
   "execution_count": 109,
   "outputs": [
    {
     "traceback": [
      "\u001b[1;31m---------------------------------------------------------------------------\u001b[0m",
      "\u001b[1;31mNameError\u001b[0m                                 Traceback (most recent call last)",
      "\u001b[1;32m<ipython-input-109-b3d9b1bb6661>\u001b[0m in \u001b[0;36m<module>\u001b[1;34m\u001b[0m\n\u001b[1;32m----> 1\u001b[1;33m \u001b[0mdonem_25\u001b[0m\u001b[1;33m.\u001b[0m\u001b[0mto_excel\u001b[0m\u001b[1;33m(\u001b[0m\u001b[1;34m\"donem25.xlsx\"\u001b[0m\u001b[1;33m)\u001b[0m\u001b[1;33m\u001b[0m\u001b[1;33m\u001b[0m\u001b[0m\n\u001b[0m",
      "\u001b[1;31mNameError\u001b[0m: name 'donem_25' is not defined"
     ],
     "ename": "NameError",
     "evalue": "name 'donem_25' is not defined",
     "output_type": "error"
    }
   ],
   "source": [
    "donem_25.to_excel(\"donem25.xlsx\")"
   ],
   "metadata": {
    "collapsed": false,
    "pycharm": {
     "name": "#%%\n",
     "is_executing": false
    }
   }
  },
  {
   "cell_type": "code",
   "metadata": {
    "id": "QtXazjUCv_yt",
    "colab_type": "code",
    "colab": {},
    "pycharm": {
     "is_executing": false,
     "name": "#%%\n"
    }
   },
   "source": [],
   "execution_count": 67,
   "outputs": [
    {
     "data": {
      "text/plain": "           İl        Soyadı      Adı                         Parti     Sistem  \\\n0       ADANA         ÇELİK     Ömer    Adalet ve Kalkınma Partisi  KATILMADI   \n2       ADANA  DANIŞ BEŞTAŞ    Meral  Halkların Demokratik Partisi  KATILMADI   \n4       ADANA      KARAKAYA   Mevlüt    Milliyetçi Hareket Partisi  KATILMADI   \n5       ADANA      KÜÇÜKCAN    Talip    Adalet ve Kalkınma Partisi  KATILMADI   \n6       ADANA         ÖZDİŞ  İbrahim       Cumhuriyet Halk Partisi  KATILMADI   \n..        ...           ...      ...                           ...        ...   \n528    ŞIRNAK          ENCU   Ferhat  Halkların Demokratik Partisi  KATILMADI   \n529    ŞIRNAK         İRMEZ    Aycan  Halkların Demokratik Partisi  KATILMADI   \n530    ŞIRNAK    SARIYILDIZ   Faysal  Halkların Demokratik Partisi  KATILMADI   \n543  OSMANİYE       BAHÇELİ   Devlet    Milliyetçi Hareket Partisi  KATILMADI   \n545  OSMANİYE         ERSOY     Ruhi    Milliyetçi Hareket Partisi  KATILMADI   \n\n    Pusula      Sonuç       Tarih     Saati  \\\n0        -  KATILMADI  --.--.----  --:--:--   \n2        -  KATILMADI  --.--.----  --:--:--   \n4        -  KATILMADI  --.--.----  --:--:--   \n5        -  KATILMADI  --.--.----  --:--:--   \n6        -  KATILMADI  --.--.----  --:--:--   \n..     ...        ...         ...       ...   \n528    RED        RED  --.--.----  --:--:--   \n529    RED        RED  --.--.----  --:--:--   \n530      -  KATILMADI  --.--.----  --:--:--   \n543    RED        RED  --.--.----  --:--:--   \n545    RED        RED  --.--.----  --:--:--   \n\n                                          ilgili_kanun        assemble_no  \n0    (S.Sayısı: 413) Türkiye Varlık Fonu Kurulması ...  128'inci Birleşim  \n2    (S.Sayısı: 413) Türkiye Varlık Fonu Kurulması ...  128'inci Birleşim  \n4    (S.Sayısı: 413) Türkiye Varlık Fonu Kurulması ...  128'inci Birleşim  \n5    (S.Sayısı: 413) Türkiye Varlık Fonu Kurulması ...  128'inci Birleşim  \n6    (S.Sayısı: 413) Türkiye Varlık Fonu Kurulması ...  128'inci Birleşim  \n..                                                 ...                ...  \n528  Başbakan Ahmet Davutoğlu tarafından kurulan 64...     7'nci Birleşim  \n529  Başbakan Ahmet Davutoğlu tarafından kurulan 64...     7'nci Birleşim  \n530  Başbakan Ahmet Davutoğlu tarafından kurulan 64...     7'nci Birleşim  \n543  Başbakan Ahmet Davutoğlu tarafından kurulan 64...     7'nci Birleşim  \n545  Başbakan Ahmet Davutoğlu tarafından kurulan 64...     7'nci Birleşim  \n\n[36970 rows x 11 columns]",
      "text/html": "<div>\n<style scoped>\n    .dataframe tbody tr th:only-of-type {\n        vertical-align: middle;\n    }\n\n    .dataframe tbody tr th {\n        vertical-align: top;\n    }\n\n    .dataframe thead th {\n        text-align: right;\n    }\n</style>\n<table border=\"1\" class=\"dataframe\">\n  <thead>\n    <tr style=\"text-align: right;\">\n      <th></th>\n      <th>İl</th>\n      <th>Soyadı</th>\n      <th>Adı</th>\n      <th>Parti</th>\n      <th>Sistem</th>\n      <th>Pusula</th>\n      <th>Sonuç</th>\n      <th>Tarih</th>\n      <th>Saati</th>\n      <th>ilgili_kanun</th>\n      <th>assemble_no</th>\n    </tr>\n  </thead>\n  <tbody>\n    <tr>\n      <td>0</td>\n      <td>ADANA</td>\n      <td>ÇELİK</td>\n      <td>Ömer</td>\n      <td>Adalet ve Kalkınma Partisi</td>\n      <td>KATILMADI</td>\n      <td>-</td>\n      <td>KATILMADI</td>\n      <td>--.--.----</td>\n      <td>--:--:--</td>\n      <td>(S.Sayısı: 413) Türkiye Varlık Fonu Kurulması ...</td>\n      <td>128'inci Birleşim</td>\n    </tr>\n    <tr>\n      <td>2</td>\n      <td>ADANA</td>\n      <td>DANIŞ BEŞTAŞ</td>\n      <td>Meral</td>\n      <td>Halkların Demokratik Partisi</td>\n      <td>KATILMADI</td>\n      <td>-</td>\n      <td>KATILMADI</td>\n      <td>--.--.----</td>\n      <td>--:--:--</td>\n      <td>(S.Sayısı: 413) Türkiye Varlık Fonu Kurulması ...</td>\n      <td>128'inci Birleşim</td>\n    </tr>\n    <tr>\n      <td>4</td>\n      <td>ADANA</td>\n      <td>KARAKAYA</td>\n      <td>Mevlüt</td>\n      <td>Milliyetçi Hareket Partisi</td>\n      <td>KATILMADI</td>\n      <td>-</td>\n      <td>KATILMADI</td>\n      <td>--.--.----</td>\n      <td>--:--:--</td>\n      <td>(S.Sayısı: 413) Türkiye Varlık Fonu Kurulması ...</td>\n      <td>128'inci Birleşim</td>\n    </tr>\n    <tr>\n      <td>5</td>\n      <td>ADANA</td>\n      <td>KÜÇÜKCAN</td>\n      <td>Talip</td>\n      <td>Adalet ve Kalkınma Partisi</td>\n      <td>KATILMADI</td>\n      <td>-</td>\n      <td>KATILMADI</td>\n      <td>--.--.----</td>\n      <td>--:--:--</td>\n      <td>(S.Sayısı: 413) Türkiye Varlık Fonu Kurulması ...</td>\n      <td>128'inci Birleşim</td>\n    </tr>\n    <tr>\n      <td>6</td>\n      <td>ADANA</td>\n      <td>ÖZDİŞ</td>\n      <td>İbrahim</td>\n      <td>Cumhuriyet Halk Partisi</td>\n      <td>KATILMADI</td>\n      <td>-</td>\n      <td>KATILMADI</td>\n      <td>--.--.----</td>\n      <td>--:--:--</td>\n      <td>(S.Sayısı: 413) Türkiye Varlık Fonu Kurulması ...</td>\n      <td>128'inci Birleşim</td>\n    </tr>\n    <tr>\n      <td>...</td>\n      <td>...</td>\n      <td>...</td>\n      <td>...</td>\n      <td>...</td>\n      <td>...</td>\n      <td>...</td>\n      <td>...</td>\n      <td>...</td>\n      <td>...</td>\n      <td>...</td>\n      <td>...</td>\n    </tr>\n    <tr>\n      <td>528</td>\n      <td>ŞIRNAK</td>\n      <td>ENCU</td>\n      <td>Ferhat</td>\n      <td>Halkların Demokratik Partisi</td>\n      <td>KATILMADI</td>\n      <td>RED</td>\n      <td>RED</td>\n      <td>--.--.----</td>\n      <td>--:--:--</td>\n      <td>Başbakan Ahmet Davutoğlu tarafından kurulan 64...</td>\n      <td>7'nci Birleşim</td>\n    </tr>\n    <tr>\n      <td>529</td>\n      <td>ŞIRNAK</td>\n      <td>İRMEZ</td>\n      <td>Aycan</td>\n      <td>Halkların Demokratik Partisi</td>\n      <td>KATILMADI</td>\n      <td>RED</td>\n      <td>RED</td>\n      <td>--.--.----</td>\n      <td>--:--:--</td>\n      <td>Başbakan Ahmet Davutoğlu tarafından kurulan 64...</td>\n      <td>7'nci Birleşim</td>\n    </tr>\n    <tr>\n      <td>530</td>\n      <td>ŞIRNAK</td>\n      <td>SARIYILDIZ</td>\n      <td>Faysal</td>\n      <td>Halkların Demokratik Partisi</td>\n      <td>KATILMADI</td>\n      <td>-</td>\n      <td>KATILMADI</td>\n      <td>--.--.----</td>\n      <td>--:--:--</td>\n      <td>Başbakan Ahmet Davutoğlu tarafından kurulan 64...</td>\n      <td>7'nci Birleşim</td>\n    </tr>\n    <tr>\n      <td>543</td>\n      <td>OSMANİYE</td>\n      <td>BAHÇELİ</td>\n      <td>Devlet</td>\n      <td>Milliyetçi Hareket Partisi</td>\n      <td>KATILMADI</td>\n      <td>RED</td>\n      <td>RED</td>\n      <td>--.--.----</td>\n      <td>--:--:--</td>\n      <td>Başbakan Ahmet Davutoğlu tarafından kurulan 64...</td>\n      <td>7'nci Birleşim</td>\n    </tr>\n    <tr>\n      <td>545</td>\n      <td>OSMANİYE</td>\n      <td>ERSOY</td>\n      <td>Ruhi</td>\n      <td>Milliyetçi Hareket Partisi</td>\n      <td>KATILMADI</td>\n      <td>RED</td>\n      <td>RED</td>\n      <td>--.--.----</td>\n      <td>--:--:--</td>\n      <td>Başbakan Ahmet Davutoğlu tarafından kurulan 64...</td>\n      <td>7'nci Birleşim</td>\n    </tr>\n  </tbody>\n</table>\n<p>36970 rows × 11 columns</p>\n</div>"
     },
     "metadata": {},
     "output_type": "execute_result",
     "execution_count": 67
    }
   ]
  },
  {
   "cell_type": "code",
   "execution_count": 18,
   "outputs": [
    {
     "name": "stdout",
     "text": [
      "https://www.tbmm.gov.tr/tutanak/donem27/tutanak3.htm\nhttps://www.tbmm.gov.tr/tutanak/donem27/yil3/ham/b23390oylama.htm\nhttps://www.tbmm.gov.tr/tutanak/donem27/yil3/ham/b23389oylama.htm\nhttps://www.tbmm.gov.tr/tutanak/donem27/yil3/ham/b23388oylama.htm\nit is empty\nit is empty\nit is empty\nit is empty\nit is empty\nit is empty\nit is empty\nit is empty\nit is empty\nit is empty\nit is empty\nhttps://www.tbmm.gov.tr/tutanak/donem27/yil3/ham/b23374oylama.htm\nit is empty\nit is empty\nit is empty\nit is empty\nit is empty\nhttps://www.tbmm.gov.tr/tutanak/donem27/yil3/ham/b23366oylama.htm\nit is empty\nit is empty\nit is empty\nit is empty\nit is empty\nit is empty\nit is empty\nit is empty\nit is empty\nit is empty\nhttps://www.tbmm.gov.tr/tutanak/donem27/yil3/ham/b23352oylama.htm\nit is empty\nhttps://www.tbmm.gov.tr/tutanak/donem27/yil3/ham/b23350oylama.htm\nit is empty",
      "\nit is empty\nit is empty\nit is empty\nit is empty\nhttps://www.tbmm.gov.tr/tutanak/donem27/yil3/ham/b23342oylama.htm\nit is empty\n['https://www.tbmm.gov.tr/tutanak/donem27/yil3/ham/b23390oylama.htm', 'https://www.tbmm.gov.tr/tutanak/donem27/yil3/ham/b23389oylama.htm', 'https://www.tbmm.gov.tr/tutanak/donem27/yil3/ham/b23388oylama.htm', 'https://www.tbmm.gov.tr/tutanak/donem27/yil3/ham/b23374oylama.htm', 'https://www.tbmm.gov.tr/tutanak/donem27/yil3/ham/b23366oylama.htm', 'https://www.tbmm.gov.tr/tutanak/donem27/yil3/ham/b23352oylama.htm', 'https://www.tbmm.gov.tr/tutanak/donem27/yil3/ham/b23350oylama.htm', 'https://www.tbmm.gov.tr/tutanak/donem27/yil3/ham/b23342oylama.htm']\nhttps://www.tbmm.gov.tr/tutanak/donem27/tutanak2.htm\n",
      "https://www.tbmm.gov.tr/tutanak/donem27/yil2/ham/b23307oylama.htm\nhttps://www.tbmm.gov.tr/tutanak/donem27/yil2/ham/b23306oylama.htm\nit is empty\nit is empty\nhttps://www.tbmm.gov.tr/tutanak/donem27/yil2/ham/b23303oylama.htm\nit is empty\nit is empty\nit is empty\nhttps://www.tbmm.gov.tr/tutanak/donem27/yil2/ham/b23297oylama.htm\nit is empty\nit is empty\nit is empty\nhttps://www.tbmm.gov.tr/tutanak/donem27/yil2/ham/b23292oylama.htm\nit is empty\nit is empty\nit is empty\nit is empty\nit is empty\nit is empty\nhttps://www.tbmm.gov.tr/tutanak/donem27/yil2/ham/b23283oylama.htm\nit is empty\nit is empty\nit is empty\nhttps://www.tbmm.gov.tr/tutanak/donem27/yil2/ham/b23278oylama.htm\nit is empty\nit is empty\nit is empty\nit is empty\nit is empty\nit is empty\nhttps://www.tbmm.gov.tr/tutanak/donem27/yil2/ham/b23267oylama.htm\nhttps://www.tbmm.gov.tr/tutanak/donem27/yil2/ham/b23266oylama.htm\nit is empty\nit is empty\nit is empty\nit is empty\nit is empty\nit is empty\nit is empty\nit is empty\nit is empty\nit is empty\nit is empty\nit is empty\nit is empty\nit is empty\nit is empty\nit is empty\nit is empty\nhttps://www.tbmm.gov.tr/tutanak/donem27/yil2/ham/b23240oylama.htm\nit is empty\nit is empty\nhttps://www.tbmm.gov.tr/tutanak/donem27/yil2/ham/b23237oylama.htm\nit is empty\nit is empty\nit is empty\nit is empty\nit is empty\nhttps://www.tbmm.gov.tr/tutanak/donem27/yil2/ham/b23229oylama.htm\nhttps://www.tbmm.gov.tr/tutanak/donem27/yil2/ham/b23228oylama.htm\nit is empty\nit is empty\nit is empty\nhttps://www.tbmm.gov.tr/tutanak/donem27/yil2/ham/b23220oylama.htm\nhttps://www.tbmm.gov.tr/tutanak/donem27/yil2/ham/b23219oylama.htm\nhttps://www.tbmm.gov.tr/tutanak/donem27/yil2/ham/b23218oylama.htm\nhttps://www.tbmm.gov.tr/tutanak/donem27/yil2/ham/b23216oylama.htm\nit is empty\nit is empty\nit is empty\nit is empty\nit is empty\nit is empty\nit is empty\nit is empty\nit is empty\nit is empty\nit is empty\nhttps://www.tbmm.gov.tr/tutanak/donem27/yil2/ham/b23200oylama.htm\nit is empty\nit is empty\nhttps://www.tbmm.gov.tr/tutanak/donem27/yil2/ham/b23196oylama.htm\nit is empty\nit is empty\nit is empty\nit is empty\nit is empty\nit is empty\nit is empty\nit is empty\nit is empty\nit is empty\nit is empty\nit is empty\nit is empty\nit is empty\nit is empty\nhttps://www.tbmm.gov.tr/tutanak/donem27/yil2/ham/b23170oylama.htm\nit is empty\nhttps://www.tbmm.gov.tr/tutanak/donem27/yil2/ham/b23167oylama.htm\nit is empty\nit is empty\nit is empty\nit is empty\nit is empty\n['https://www.tbmm.gov.tr/tutanak/donem27/yil2/ham/b23307oylama.htm', 'https://www.tbmm.gov.tr/tutanak/donem27/yil2/ham/b23306oylama.htm', 'https://www.tbmm.gov.tr/tutanak/donem27/yil2/ham/b23303oylama.htm', 'https://www.tbmm.gov.tr/tutanak/donem27/yil2/ham/b23297oylama.htm', 'https://www.tbmm.gov.tr/tutanak/donem27/yil2/ham/b23292oylama.htm', 'https://www.tbmm.gov.tr/tutanak/donem27/yil2/ham/b23283oylama.htm', 'https://www.tbmm.gov.tr/tutanak/donem27/yil2/ham/b23278oylama.htm', 'https://www.tbmm.gov.tr/tutanak/donem27/yil2/ham/b23267oylama.htm', 'https://www.tbmm.gov.tr/tutanak/donem27/yil2/ham/b23266oylama.htm', 'https://www.tbmm.gov.tr/tutanak/donem27/yil2/ham/b23240oylama.htm', 'https://www.tbmm.gov.tr/tutanak/donem27/yil2/ham/b23237oylama.htm', 'https://www.tbmm.gov.tr/tutanak/donem27/yil2/ham/b23229oylama.htm', 'https://www.tbmm.gov.tr/tutanak/donem27/yil2/ham/b23228oylama.htm', 'https://www.tbmm.gov.tr/tutanak/donem27/yil2/ham/b23220oylama.htm', 'https://www.tbmm.gov.tr/tutanak/donem27/yil2/ham/b23219oylama.htm', 'https://www.tbmm.gov.tr/tutanak/donem27/yil2/ham/b23218oylama.htm', 'https://www.tbmm.gov.tr/tutanak/donem27/yil2/ham/b23216oylama.htm', 'https://www.tbmm.gov.tr/tutanak/donem27/yil2/ham/b23200oylama.htm', 'https://www.tbmm.gov.tr/tutanak/donem27/yil2/ham/b23196oylama.htm', 'https://www.tbmm.gov.tr/tutanak/donem27/yil2/ham/b23170oylama.htm', 'https://www.tbmm.gov.tr/tutanak/donem27/yil2/ham/b23167oylama.htm']\nhttps://www.tbmm.gov.tr/tutanak/donem27/tutanak1.htm\nhttps://www.tbmm.gov.tr/tutanak/donem27/yil1/ham/b23157oylama.htm\nit is empty\nit is empty\nit is empty\nit is empty\nit is empty\nit is empty\nit is empty\nit is empty\nit is empty\n['https://www.tbmm.gov.tr/tutanak/donem27/yil1/ham/b23157oylama.htm']\nhttps://www.tbmm.gov.tr/tutanak/donem26/tutanak3.htm\n",
      "https://www.tbmm.gov.tr/tutanak/donem26/yil3/ham/b23140oylama.htm\nit is empty\nhttps://www.tbmm.gov.tr/tutanak/donem26/yil3/ham/b23136oylama.htm\nit is empty\nhttps://www.tbmm.gov.tr/tutanak/donem26/yil3/ham/b23132oylama.htm\nit is empty\nit is empty\nit is empty\nit is empty\nit is empty\nit is empty\nhttps://www.tbmm.gov.tr/tutanak/donem26/yil3/ham/b23122oylama.htm\nhttps://www.tbmm.gov.tr/tutanak/donem26/yil3/ham/b23120oylama.htm\nit is empty\nit is empty\nit is empty\nit is empty\nit is empty\nhttps://www.tbmm.gov.tr/tutanak/donem26/yil3/ham/b23108oylama.htm\nit is empty\nit is empty\nhttps://www.tbmm.gov.tr/tutanak/donem26/yil3/ham/b23102oylama.htm\nit is empty\nit is empty\nit is empty\nhttps://www.tbmm.gov.tr/tutanak/donem26/yil3/ham/b23094oylama.htm\nit is empty\nit is empty\nit is empty\nit is empty\nit is empty\nit is empty\nit is empty\nit is empty\nit is empty\nhttps://www.tbmm.gov.tr/tutanak/donem26/yil3/ham/b23074oylama.htm\nit is empty\nit is empty\nit is empty\nit is empty\nhttps://www.tbmm.gov.tr/tutanak/donem26/yil3/ham/b23064oylama.htm\nit is empty\nit is empty\nhttps://www.tbmm.gov.tr/tutanak/donem26/yil3/ham/b23058oylama.htm\nit is empty\nit is empty\nhttps://www.tbmm.gov.tr/tutanak/donem26/yil3/ham/b23052oylama.htm\nit is empty\nit is empty\nit is empty\nit is empty\nit is empty\nhttps://www.tbmm.gov.tr/tutanak/donem26/yil3/ham/b23040oylama.htm\nit is empty\nit is empty\nhttps://www.tbmm.gov.tr/tutanak/donem26/yil3/ham/b23035oylama.htm\nit is empty\nit is empty\nit is empty\nit is empty\nit is empty\nit is empty\nit is empty\nit is empty\nit is empty\nit is empty\nit is empty\nhttps://www.tbmm.gov.tr/tutanak/donem26/yil3/ham/b23015oylama.htm\nit is empty\nit is empty\nit is empty\nhttps://www.tbmm.gov.tr/tutanak/donem26/yil3/ham/b23010oylama.htm\nit is empty\nit is empty\nit is empty\nit is empty\nit is empty\nit is empty\nit is empty\nit is empty\nit is empty\nit is empty\nit is empty\nit is empty\nhttps://www.tbmm.gov.tr/tutanak/donem26/yil3/ham/b22988oylama.htm\nit is empty\nhttps://www.tbmm.gov.tr/tutanak/donem26/yil3/ham/b22984oylama.htm\nhttps://www.tbmm.gov.tr/tutanak/donem26/yil3/ham/b22982oylama.htm\nhttps://www.tbmm.gov.tr/tutanak/donem26/yil3/ham/b22980oylama.htm\nhttps://www.tbmm.gov.tr/tutanak/donem26/yil3/ham/b22978oylama.htm\nit is empty\nit is empty\nit is empty\nhttps://www.tbmm.gov.tr/tutanak/donem26/yil3/ham/b22970oylama.htm\nit is empty\nit is empty\nit is empty\nit is empty\nit is empty\nit is empty\n['https://www.tbmm.gov.tr/tutanak/donem26/yil3/ham/b23140oylama.htm', 'https://www.tbmm.gov.tr/tutanak/donem26/yil3/ham/b23136oylama.htm', 'https://www.tbmm.gov.tr/tutanak/donem26/yil3/ham/b23132oylama.htm', 'https://www.tbmm.gov.tr/tutanak/donem26/yil3/ham/b23122oylama.htm', 'https://www.tbmm.gov.tr/tutanak/donem26/yil3/ham/b23120oylama.htm', 'https://www.tbmm.gov.tr/tutanak/donem26/yil3/ham/b23108oylama.htm', 'https://www.tbmm.gov.tr/tutanak/donem26/yil3/ham/b23102oylama.htm', 'https://www.tbmm.gov.tr/tutanak/donem26/yil3/ham/b23094oylama.htm', 'https://www.tbmm.gov.tr/tutanak/donem26/yil3/ham/b23074oylama.htm', 'https://www.tbmm.gov.tr/tutanak/donem26/yil3/ham/b23064oylama.htm', 'https://www.tbmm.gov.tr/tutanak/donem26/yil3/ham/b23058oylama.htm', 'https://www.tbmm.gov.tr/tutanak/donem26/yil3/ham/b23052oylama.htm', 'https://www.tbmm.gov.tr/tutanak/donem26/yil3/ham/b23040oylama.htm', 'https://www.tbmm.gov.tr/tutanak/donem26/yil3/ham/b23035oylama.htm', 'https://www.tbmm.gov.tr/tutanak/donem26/yil3/ham/b23015oylama.htm', 'https://www.tbmm.gov.tr/tutanak/donem26/yil3/ham/b23010oylama.htm', 'https://www.tbmm.gov.tr/tutanak/donem26/yil3/ham/b22988oylama.htm', 'https://www.tbmm.gov.tr/tutanak/donem26/yil3/ham/b22984oylama.htm', 'https://www.tbmm.gov.tr/tutanak/donem26/yil3/ham/b22982oylama.htm', 'https://www.tbmm.gov.tr/tutanak/donem26/yil3/ham/b22980oylama.htm', 'https://www.tbmm.gov.tr/tutanak/donem26/yil3/ham/b22978oylama.htm', 'https://www.tbmm.gov.tr/tutanak/donem26/yil3/ham/b22970oylama.htm']\nhttps://www.tbmm.gov.tr/tutanak/donem26/tutanak2.htm\n",
      "it is empty\nhttps://www.tbmm.gov.tr/tutanak/donem26/yil2/ham/b22954oylama.htm\nit is empty\nit is empty\nit is empty\nit is empty\nit is empty\nit is empty\nit is empty\nit is empty\nit is empty\nhttps://www.tbmm.gov.tr/tutanak/donem26/yil2/ham/b22934oylama.htm\nit is empty\nit is empty\nit is empty\nit is empty\nhttps://www.tbmm.gov.tr/tutanak/donem26/yil2/ham/b22924oylama.htm\nhttps://www.tbmm.gov.tr/tutanak/donem26/yil2/ham/b22922oylama.htm\nhttps://www.tbmm.gov.tr/tutanak/donem26/yil2/ham/b22920oylama.htm\nhttps://www.tbmm.gov.tr/tutanak/donem26/yil2/ham/b22918oylama.htm\nit is empty\nit is empty\nit is empty\nit is empty\nit is empty\nhttps://www.tbmm.gov.tr/tutanak/donem26/yil2/ham/b22906oylama.htm\nit is empty\nhttps://www.tbmm.gov.tr/tutanak/donem26/yil2/ham/b22902oylama.htm\nit is empty\nit is empty\nit is empty\nit is empty\nhttps://www.tbmm.gov.tr/tutanak/donem26/yil2/ham/b22892oylama.htm\nhttps://www.tbmm.gov.tr/tutanak/donem26/yil2/ham/b22890oylama.htm\nhttps://www.tbmm.gov.tr/tutanak/donem26/yil2/ham/b22884oylama.htm\nit is empty\nit is empty\nit is empty\nit is empty\nit is empty\nhttps://www.tbmm.gov.tr/tutanak/donem26/yil2/ham/b22870oylama.htm\nhttps://www.tbmm.gov.tr/tutanak/donem26/yil2/ham/b22868oylama.htm\nhttps://www.tbmm.gov.tr/tutanak/donem26/yil2/ham/b22866oylama.htm\nhttps://www.tbmm.gov.tr/tutanak/donem26/yil2/ham/b22864oylama.htm\nhttps://www.tbmm.gov.tr/tutanak/donem26/yil2/ham/b22862oylama.htm\nhttps://www.tbmm.gov.tr/tutanak/donem26/yil2/ham/b22860oylama.htm\nhttps://www.tbmm.gov.tr/tutanak/donem26/yil2/ham/b22858oylama.htm\nhttps://www.tbmm.gov.tr/tutanak/donem26/yil2/ham/b22856oylama.htm\nit is empty\nit is empty\nhttps://www.tbmm.gov.tr/tutanak/donem26/yil2/ham/b22850oylama.htm\nhttps://www.tbmm.gov.tr/tutanak/donem26/yil2/ham/b22848oylama.htm\nhttps://www.tbmm.gov.tr/tutanak/donem26/yil2/ham/b22846oylama.htm\nhttps://www.tbmm.gov.tr/tutanak/donem26/yil2/ham/b22844oylama.htm\nit is empty\nit is empty\nit is empty\nit is empty\nit is empty\nit is empty\nit is empty\nhttps://www.tbmm.gov.tr/tutanak/donem26/yil2/ham/b22828oylama.htm\nit is empty\nit is empty\nit is empty\nit is empty\nit is empty\nit is empty\nit is empty\nit is empty\nit is empty\nit is empty\nit is empty\nit is empty\nit is empty\nit is empty\nhttps://www.tbmm.gov.tr/tutanak/donem26/yil2/ham/b22799oylama.htm\nit is empty\nit is empty\nhttps://www.tbmm.gov.tr/tutanak/donem26/yil2/ham/b22793oylama.htm\nit is empty\nit is empty\nit is empty\nit is empty\nit is empty\nit is empty\nit is empty\nit is empty\nit is empty\nit is empty\nit is empty\nhttps://www.tbmm.gov.tr/tutanak/donem26/yil2/ham/b22769oylama.htm\nit is empty\nit is empty\nit is empty\nit is empty\nit is empty\nit is empty\nit is empty\nhttps://www.tbmm.gov.tr/tutanak/donem26/yil2/ham/b22753oylama.htm\nhttps://www.tbmm.gov.tr/tutanak/donem26/yil2/ham/b22751oylama.htm\nit is empty\nhttps://www.tbmm.gov.tr/tutanak/donem26/yil2/ham/b22747oylama.htm\nhttps://www.tbmm.gov.tr/tutanak/donem26/yil2/ham/b22745oylama.htm\nhttps://www.tbmm.gov.tr/tutanak/donem26/yil2/ham/b22743oylama.htm\nit is empty\nit is empty\nit is empty\nit is empty\nhttps://www.tbmm.gov.tr/tutanak/donem26/yil2/ham/b22734oylama.htm\nhttps://www.tbmm.gov.tr/tutanak/donem26/yil2/ham/b22733oylama.htm\nhttps://www.tbmm.gov.tr/tutanak/donem26/yil2/ham/b22731oylama.htm\nit is empty\nit is empty\nit is empty\nit is empty\nit is empty\nit is empty\nhttps://www.tbmm.gov.tr/tutanak/donem26/yil2/ham/b22719oylama.htm\nit is empty\nit is empty\n['https://www.tbmm.gov.tr/tutanak/donem26/yil2/ham/b22954oylama.htm', 'https://www.tbmm.gov.tr/tutanak/donem26/yil2/ham/b22934oylama.htm', 'https://www.tbmm.gov.tr/tutanak/donem26/yil2/ham/b22924oylama.htm', 'https://www.tbmm.gov.tr/tutanak/donem26/yil2/ham/b22922oylama.htm', 'https://www.tbmm.gov.tr/tutanak/donem26/yil2/ham/b22920oylama.htm', 'https://www.tbmm.gov.tr/tutanak/donem26/yil2/ham/b22918oylama.htm', 'https://www.tbmm.gov.tr/tutanak/donem26/yil2/ham/b22906oylama.htm', 'https://www.tbmm.gov.tr/tutanak/donem26/yil2/ham/b22902oylama.htm', 'https://www.tbmm.gov.tr/tutanak/donem26/yil2/ham/b22892oylama.htm', 'https://www.tbmm.gov.tr/tutanak/donem26/yil2/ham/b22890oylama.htm', 'https://www.tbmm.gov.tr/tutanak/donem26/yil2/ham/b22884oylama.htm', 'https://www.tbmm.gov.tr/tutanak/donem26/yil2/ham/b22870oylama.htm', 'https://www.tbmm.gov.tr/tutanak/donem26/yil2/ham/b22868oylama.htm', 'https://www.tbmm.gov.tr/tutanak/donem26/yil2/ham/b22866oylama.htm', 'https://www.tbmm.gov.tr/tutanak/donem26/yil2/ham/b22864oylama.htm', 'https://www.tbmm.gov.tr/tutanak/donem26/yil2/ham/b22862oylama.htm', 'https://www.tbmm.gov.tr/tutanak/donem26/yil2/ham/b22860oylama.htm', 'https://www.tbmm.gov.tr/tutanak/donem26/yil2/ham/b22858oylama.htm', 'https://www.tbmm.gov.tr/tutanak/donem26/yil2/ham/b22856oylama.htm', 'https://www.tbmm.gov.tr/tutanak/donem26/yil2/ham/b22850oylama.htm', 'https://www.tbmm.gov.tr/tutanak/donem26/yil2/ham/b22848oylama.htm', 'https://www.tbmm.gov.tr/tutanak/donem26/yil2/ham/b22846oylama.htm', 'https://www.tbmm.gov.tr/tutanak/donem26/yil2/ham/b22844oylama.htm', 'https://www.tbmm.gov.tr/tutanak/donem26/yil2/ham/b22828oylama.htm', 'https://www.tbmm.gov.tr/tutanak/donem26/yil2/ham/b22799oylama.htm', 'https://www.tbmm.gov.tr/tutanak/donem26/yil2/ham/b22793oylama.htm', 'https://www.tbmm.gov.tr/tutanak/donem26/yil2/ham/b22769oylama.htm', 'https://www.tbmm.gov.tr/tutanak/donem26/yil2/ham/b22753oylama.htm', 'https://www.tbmm.gov.tr/tutanak/donem26/yil2/ham/b22751oylama.htm', 'https://www.tbmm.gov.tr/tutanak/donem26/yil2/ham/b22747oylama.htm', 'https://www.tbmm.gov.tr/tutanak/donem26/yil2/ham/b22745oylama.htm', 'https://www.tbmm.gov.tr/tutanak/donem26/yil2/ham/b22743oylama.htm', 'https://www.tbmm.gov.tr/tutanak/donem26/yil2/ham/b22734oylama.htm', 'https://www.tbmm.gov.tr/tutanak/donem26/yil2/ham/b22733oylama.htm', 'https://www.tbmm.gov.tr/tutanak/donem26/yil2/ham/b22731oylama.htm', 'https://www.tbmm.gov.tr/tutanak/donem26/yil2/ham/b22719oylama.htm']\nhttps://www.tbmm.gov.tr/tutanak/donem26/tutanak1.htm\n",
      "https://www.tbmm.gov.tr/tutanak/donem26/yil1/ham/b22711oylama.htm\nhttps://www.tbmm.gov.tr/tutanak/donem26/yil1/ham/b22709oylama.htm\nhttps://www.tbmm.gov.tr/tutanak/donem26/yil1/ham/b22707oylama.htm\nit is empty\nhttps://www.tbmm.gov.tr/tutanak/donem26/yil1/ham/b22703oylama.htm\nhttps://www.tbmm.gov.tr/tutanak/donem26/yil1/ham/b22701oylama.htm\nhttps://www.tbmm.gov.tr/tutanak/donem26/yil1/ham/b22699oylama.htm\nit is empty\nhttps://www.tbmm.gov.tr/tutanak/donem26/yil1/ham/b22696oylama.htm\nit is empty\nit is empty\nhttps://www.tbmm.gov.tr/tutanak/donem26/yil1/ham/b22691oylama.htm\nit is empty\nhttps://www.tbmm.gov.tr/tutanak/donem26/yil1/ham/b22689oylama.htm\nit is empty\nhttps://www.tbmm.gov.tr/tutanak/donem26/yil1/ham/b22685oylama.htm\nit is empty\nit is empty\nhttps://www.tbmm.gov.tr/tutanak/donem26/yil1/ham/b22679oylama.htm\nit is empty\nit is empty\nit is empty\nhttps://www.tbmm.gov.tr/tutanak/donem26/yil1/ham/b22673oylama.htm\nit is empty\nit is empty\nhttps://www.tbmm.gov.tr/tutanak/donem26/yil1/ham/b22667oylama.htm\nit is empty\nit is empty\nit is empty\nhttps://www.tbmm.gov.tr/tutanak/donem26/yil1/ham/b22659oylama.htm\nhttps://www.tbmm.gov.tr/tutanak/donem26/yil1/ham/b22657oylama.htm\nit is empty\nit is empty\nit is empty\nhttps://www.tbmm.gov.tr/tutanak/donem26/yil1/ham/b22649oylama.htm\nit is empty\nit is empty\nit is empty\nit is empty\nit is empty\nhttps://www.tbmm.gov.tr/tutanak/donem26/yil1/ham/b22637oylama.htm\nhttps://www.tbmm.gov.tr/tutanak/donem26/yil1/ham/b22635oylama.htm\nit is empty\nit is empty\nhttps://www.tbmm.gov.tr/tutanak/donem26/yil1/ham/b22629oylama.htm\nit is empty\nit is empty\nhttps://www.tbmm.gov.tr/tutanak/donem26/yil1/ham/b22623oylama.htm\nhttps://www.tbmm.gov.tr/tutanak/donem26/yil1/ham/b22621oylama.htm\nit is empty\nit is empty\nit is empty\nhttps://www.tbmm.gov.tr/tutanak/donem26/yil1/ham/b22613oylama.htm\nit is empty\nit is empty\nhttps://www.tbmm.gov.tr/tutanak/donem26/yil1/ham/b22607oylama.htm\nit is empty\nit is empty\nit is empty\nhttps://www.tbmm.gov.tr/tutanak/donem26/yil1/ham/b22599oylama.htm\nhttps://www.tbmm.gov.tr/tutanak/donem26/yil1/ham/b22597oylama.htm\nit is empty\nit is empty\nit is empty\nhttps://www.tbmm.gov.tr/tutanak/donem26/yil1/ham/b22589oylama.htm\nit is empty\nit is empty\nhttps://www.tbmm.gov.tr/tutanak/donem26/yil1/ham/b22583oylama.htm\nit is empty\nit is empty\nhttps://www.tbmm.gov.tr/tutanak/donem26/yil1/ham/b22571oylama.htm\nhttps://www.tbmm.gov.tr/tutanak/donem26/yil1/ham/b22569oylama.htm\nit is empty\nit is empty\nit is empty\nit is empty\nit is empty\nit is empty\nit is empty\nit is empty\nit is empty\nit is empty\nit is empty\nit is empty\nhttps://www.tbmm.gov.tr/tutanak/donem26/yil1/ham/b22543oylama.htm\nhttps://www.tbmm.gov.tr/tutanak/donem26/yil1/ham/b22541oylama.htm\nit is empty\nit is empty\nit is empty\nhttps://www.tbmm.gov.tr/tutanak/donem26/yil1/ham/b22533oylama.htm\nit is empty\nit is empty\nit is empty\nhttps://www.tbmm.gov.tr/tutanak/donem26/yil1/ham/b22523oylama.htm\nhttps://www.tbmm.gov.tr/tutanak/donem26/yil1/ham/b22521oylama.htm\nhttps://www.tbmm.gov.tr/tutanak/donem26/yil1/ham/b22519oylama.htm\nit is empty\nit is empty\nit is empty\nit is empty\nhttps://www.tbmm.gov.tr/tutanak/donem26/yil1/ham/b22509oylama.htm\nit is empty\nit is empty\nhttps://www.tbmm.gov.tr/tutanak/donem26/yil1/ham/b22503oylama.htm\nhttps://www.tbmm.gov.tr/tutanak/donem26/yil1/ham/b22501oylama.htm\nit is empty\nhttps://www.tbmm.gov.tr/tutanak/donem26/yil1/ham/b22497oylama.htm\nit is empty\nhttps://www.tbmm.gov.tr/tutanak/donem26/yil1/ham/b22493oylama.htm\nit is empty\nit is empty\nit is empty\nhttps://www.tbmm.gov.tr/tutanak/donem26/yil1/ham/b22485oylama.htm\nit is empty\nit is empty\nit is empty\nit is empty\nit is empty\nit is empty\nit is empty\nit is empty\nhttps://www.tbmm.gov.tr/tutanak/donem26/yil1/ham/b22467oylama.htm\nit is empty\nit is empty\nit is empty\n['https://www.tbmm.gov.tr/tutanak/donem26/yil1/ham/b22711oylama.htm', 'https://www.tbmm.gov.tr/tutanak/donem26/yil1/ham/b22709oylama.htm', 'https://www.tbmm.gov.tr/tutanak/donem26/yil1/ham/b22707oylama.htm', 'https://www.tbmm.gov.tr/tutanak/donem26/yil1/ham/b22703oylama.htm', 'https://www.tbmm.gov.tr/tutanak/donem26/yil1/ham/b22701oylama.htm', 'https://www.tbmm.gov.tr/tutanak/donem26/yil1/ham/b22699oylama.htm', 'https://www.tbmm.gov.tr/tutanak/donem26/yil1/ham/b22696oylama.htm', 'https://www.tbmm.gov.tr/tutanak/donem26/yil1/ham/b22691oylama.htm', 'https://www.tbmm.gov.tr/tutanak/donem26/yil1/ham/b22689oylama.htm', 'https://www.tbmm.gov.tr/tutanak/donem26/yil1/ham/b22685oylama.htm', 'https://www.tbmm.gov.tr/tutanak/donem26/yil1/ham/b22679oylama.htm', 'https://www.tbmm.gov.tr/tutanak/donem26/yil1/ham/b22673oylama.htm', 'https://www.tbmm.gov.tr/tutanak/donem26/yil1/ham/b22667oylama.htm', 'https://www.tbmm.gov.tr/tutanak/donem26/yil1/ham/b22659oylama.htm', 'https://www.tbmm.gov.tr/tutanak/donem26/yil1/ham/b22657oylama.htm', 'https://www.tbmm.gov.tr/tutanak/donem26/yil1/ham/b22649oylama.htm', 'https://www.tbmm.gov.tr/tutanak/donem26/yil1/ham/b22637oylama.htm', 'https://www.tbmm.gov.tr/tutanak/donem26/yil1/ham/b22635oylama.htm', 'https://www.tbmm.gov.tr/tutanak/donem26/yil1/ham/b22629oylama.htm', 'https://www.tbmm.gov.tr/tutanak/donem26/yil1/ham/b22623oylama.htm', 'https://www.tbmm.gov.tr/tutanak/donem26/yil1/ham/b22621oylama.htm', 'https://www.tbmm.gov.tr/tutanak/donem26/yil1/ham/b22613oylama.htm', 'https://www.tbmm.gov.tr/tutanak/donem26/yil1/ham/b22607oylama.htm', 'https://www.tbmm.gov.tr/tutanak/donem26/yil1/ham/b22599oylama.htm', 'https://www.tbmm.gov.tr/tutanak/donem26/yil1/ham/b22597oylama.htm', 'https://www.tbmm.gov.tr/tutanak/donem26/yil1/ham/b22589oylama.htm', 'https://www.tbmm.gov.tr/tutanak/donem26/yil1/ham/b22583oylama.htm', 'https://www.tbmm.gov.tr/tutanak/donem26/yil1/ham/b22571oylama.htm', 'https://www.tbmm.gov.tr/tutanak/donem26/yil1/ham/b22569oylama.htm', 'https://www.tbmm.gov.tr/tutanak/donem26/yil1/ham/b22543oylama.htm', 'https://www.tbmm.gov.tr/tutanak/donem26/yil1/ham/b22541oylama.htm', 'https://www.tbmm.gov.tr/tutanak/donem26/yil1/ham/b22533oylama.htm', 'https://www.tbmm.gov.tr/tutanak/donem26/yil1/ham/b22523oylama.htm', 'https://www.tbmm.gov.tr/tutanak/donem26/yil1/ham/b22521oylama.htm', 'https://www.tbmm.gov.tr/tutanak/donem26/yil1/ham/b22519oylama.htm', 'https://www.tbmm.gov.tr/tutanak/donem26/yil1/ham/b22509oylama.htm', 'https://www.tbmm.gov.tr/tutanak/donem26/yil1/ham/b22503oylama.htm', 'https://www.tbmm.gov.tr/tutanak/donem26/yil1/ham/b22501oylama.htm', 'https://www.tbmm.gov.tr/tutanak/donem26/yil1/ham/b22497oylama.htm', 'https://www.tbmm.gov.tr/tutanak/donem26/yil1/ham/b22493oylama.htm', 'https://www.tbmm.gov.tr/tutanak/donem26/yil1/ham/b22485oylama.htm', 'https://www.tbmm.gov.tr/tutanak/donem26/yil1/ham/b22467oylama.htm']\nhttps://www.tbmm.gov.tr/tutanak/donem25/tutanak2.htm\nit is empty\n[]\nhttps://www.tbmm.gov.tr/tutanak/donem25/tutanak1.htm\n",
      "it is empty\nit is empty\nit is empty\nit is empty\nit is empty\nit is empty\nit is empty\nit is empty\nit is empty\n[]\nhttps://www.tbmm.gov.tr/tutanak/donem24/tutanak5.htm\n",
      "it is empty\nit is empty\nit is empty\nit is empty\nit is empty\nit is empty\nit is empty\nit is empty\nit is empty\nit is empty\nit is empty\nit is empty\nit is empty\nit is empty\nit is empty\nit is empty\nit is empty\nit is empty\nit is empty\nit is empty\nit is empty\nit is empty\nit is empty\nhttps://www.tbmm.gov.tr/tutanak/donem24/yil5/ham/b22375oylama.htm\nit is empty\nit is empty\nit is empty\nit is empty\nit is empty\nit is empty\nit is empty\nit is empty\nit is empty\nit is empty\nit is empty\nit is empty\nit is empty\nit is empty\nit is empty\nit is empty\nit is empty\nit is empty\nit is empty\nit is empty\nhttps://www.tbmm.gov.tr/tutanak/donem24/yil5/ham/b22338oylama.htm\nit is empty\nit is empty\nit is empty\nit is empty\nit is empty\nit is empty\nit is empty\nit is empty\nit is empty\nit is empty\nit is empty\nit is empty\nit is empty\nit is empty\nit is empty\nit is empty\nit is empty\nit is empty\nit is empty\nit is empty\nit is empty\nit is empty\nit is empty\nit is empty\nit is empty\nit is empty\nit is empty\nit is empty\nit is empty\nit is empty\nit is empty\nit is empty\nit is empty\nit is empty\nit is empty\nit is empty\nit is empty\nit is empty\nit is empty\nit is empty\nit is empty\nit is empty\nit is empty\n['https://www.tbmm.gov.tr/tutanak/donem24/yil5/ham/b22375oylama.htm', 'https://www.tbmm.gov.tr/tutanak/donem24/yil5/ham/b22338oylama.htm']\nhttps://www.tbmm.gov.tr/tutanak/donem24/tutanak4.htm\n",
      "it is empty\nit is empty\nit is empty\nit is empty\nit is empty\nit is empty\nit is empty\nit is empty\nit is empty\nit is empty\nit is empty\nit is empty\nit is empty\nit is empty\nit is empty\nit is empty\nit is empty\nit is empty\nit is empty\nit is empty\nit is empty\nit is empty\nit is empty\nit is empty\nit is empty\nit is empty\nit is empty\nit is empty\nit is empty\nit is empty\nit is empty\nit is empty\nit is empty\nit is empty\nit is empty\nit is empty\nit is empty\nit is empty\nit is empty\nit is empty\nit is empty\nit is empty\nit is empty\nit is empty\nit is empty\nit is empty\nit is empty\nit is empty\nit is empty\nit is empty\nit is empty\nit is empty\nit is empty\nit is empty\nit is empty\nit is empty\nit is empty\nit is empty\nit is empty\nit is empty\nit is empty\nit is empty\nit is empty\nit is empty\nit is empty\nit is empty\nit is empty\nit is empty\nit is empty\nit is empty\nit is empty\nit is empty\nit is empty\n[]\nhttps://www.tbmm.gov.tr/tutanak/donem24/tutanak3.htm\n",
      "it is empty\nit is empty\nit is empty\nit is empty\nit is empty\nit is empty\nit is empty\nit is empty\nit is empty\nit is empty\nit is empty\nit is empty\nit is empty\nit is empty\nit is empty\nit is empty\nit is empty\nit is empty\nit is empty\nit is empty\nit is empty\nit is empty\nit is empty\nit is empty\nit is empty\nit is empty\nit is empty\nit is empty\nit is empty\nit is empty\nit is empty\nit is empty\nit is empty\nit is empty\nit is empty\nit is empty\nit is empty\nit is empty\nit is empty\nit is empty\nit is empty\nit is empty\nit is empty\nit is empty\nit is empty\nit is empty\nit is empty\nit is empty\nit is empty\nit is empty\nit is empty\nit is empty\nit is empty\nit is empty\nit is empty\nit is empty\nit is empty\nit is empty\nit is empty\nit is empty\nit is empty\nit is empty\nit is empty\nit is empty\nit is empty\nit is empty\nit is empty\nit is empty\nit is empty\nit is empty\nit is empty\nit is empty\nit is empty\nit is empty\nit is empty\nit is empty\nit is empty\nit is empty\nit is empty\nit is empty\nit is empty\nit is empty\nit is empty\nit is empty\nit is empty\nit is empty\nit is empty\nit is empty\nit is empty\nit is empty\nit is empty\nit is empty\nit is empty\nit is empty\nit is empty\nit is empty\nit is empty\nit is empty\nit is empty\nit is empty\nit is empty\nit is empty\nit is empty\nit is empty\nit is empty\nit is empty\nit is empty\nit is empty\nit is empty\nit is empty\nit is empty\nit is empty\nit is empty\nit is empty\nit is empty\nit is empty\nit is empty\nit is empty\nit is empty\nit is empty\nit is empty\nit is empty\nit is empty\nit is empty\nit is empty\nit is empty\nit is empty\nit is empty\nit is empty\nit is empty\nit is empty\nit is empty\nit is empty\nit is empty\nit is empty\nit is empty\nit is empty\nit is empty\nit is empty\n[]\nhttps://www.tbmm.gov.tr/tutanak/donem24/tutanak2.htm\n",
      "it is empty\nit is empty\nit is empty\nit is empty\nit is empty\nit is empty\nit is empty\nit is empty\nit is empty\nit is empty\nit is empty\nit is empty\nit is empty\nit is empty\nit is empty\nit is empty\nit is empty\nit is empty\nit is empty\nit is empty\nit is empty\nit is empty\nit is empty\nit is empty\nit is empty\nit is empty\nit is empty\nit is empty\nit is empty\nit is empty\nit is empty\nit is empty\nit is empty\nit is empty\nit is empty\nit is empty\nit is empty\nit is empty\nit is empty\nit is empty\nit is empty\nit is empty\nit is empty\nit is empty\nit is empty\nit is empty\nit is empty\nit is empty\nit is empty\nit is empty\nit is empty\nit is empty\nit is empty\nit is empty\nit is empty\nit is empty\nit is empty\nit is empty\nit is empty\nit is empty\nit is empty\nit is empty\nit is empty\nit is empty\nit is empty\nit is empty\nit is empty\nit is empty\nit is empty\nit is empty\nit is empty\nit is empty\nit is empty\nit is empty\nit is empty\nit is empty\nit is empty\nit is empty\nit is empty\nit is empty\nit is empty\nit is empty\nit is empty\nit is empty\nit is empty\nit is empty\nit is empty\nit is empty\nit is empty\nit is empty\nit is empty\nit is empty\nit is empty\nit is empty\nit is empty\nit is empty\nit is empty\nit is empty\nit is empty\nit is empty\nit is empty\nit is empty\nit is empty\nit is empty\nit is empty\nit is empty\nit is empty\nit is empty\nit is empty\nit is empty\nit is empty\nit is empty\nit is empty\nit is empty\nit is empty\nit is empty\nit is empty\nit is empty\nit is empty\nit is empty\nit is empty\nit is empty\nit is empty\nit is empty\nit is empty\nit is empty\nit is empty\nit is empty\nit is empty\nit is empty\nit is empty\nit is empty\n[]\nhttps://www.tbmm.gov.tr/tutanak/donem24/tutanak1.htm\nit is empty\nit is empty\nit is empty\nit is empty\nit is empty\nit is empty\nit is empty\nit is empty\nit is empty\nit is empty\nit is empty\n[]\nhttps://www.tbmm.gov.tr/tutanak/donem23/tutanak5.htm\n",
      "it is empty\nit is empty\nit is empty\nit is empty\nit is empty\nit is empty\nit is empty\nit is empty\nit is empty\nit is empty\nit is empty\nit is empty\nit is empty\nit is empty\nit is empty\nit is empty\nit is empty\nit is empty\nit is empty\nit is empty\nit is empty\nit is empty\nit is empty\nit is empty\nit is empty\nit is empty\nit is empty\nit is empty\nit is empty\nit is empty\nit is empty\nit is empty\nit is empty\nit is empty\nit is empty\nit is empty\nit is empty\nit is empty\nit is empty\nit is empty\nit is empty\nit is empty\nit is empty\nit is empty\nit is empty\nit is empty\nit is empty\nit is empty\nit is empty\nit is empty\nit is empty\nit is empty\nit is empty\nit is empty\nit is empty\nit is empty\nit is empty\nit is empty\nit is empty\nit is empty\nit is empty\nit is empty\nit is empty\nit is empty\nit is empty\nit is empty\nit is empty\nit is empty\nit is empty\nit is empty\nit is empty\nit is empty\nit is empty\nit is empty\nit is empty\nit is empty\nit is empty\nit is empty\nit is empty\nit is empty\nit is empty\nit is empty\nit is empty\nit is empty\nit is empty\nit is empty\nit is empty\nit is empty\nit is empty\n[]\nhttps://www.tbmm.gov.tr/tutanak/donem23/tutanak4.htm\n",
      "it is empty\nit is empty\nit is empty\nit is empty\nit is empty\nit is empty\nit is empty\nit is empty\nit is empty\nit is empty\nit is empty\nit is empty\nit is empty\nit is empty\nit is empty\nit is empty\nit is empty\nit is empty\nit is empty\nit is empty\nit is empty\nit is empty\nit is empty\nit is empty\nit is empty\nit is empty\nit is empty\nit is empty\nit is empty\nit is empty\nit is empty\nit is empty\nit is empty\nit is empty\nit is empty\nit is empty\nit is empty\nit is empty\nit is empty\nit is empty\nit is empty\nit is empty\nit is empty\nit is empty\nit is empty\nit is empty\nit is empty\nit is empty\nit is empty\nit is empty\nit is empty\nit is empty\nit is empty\nit is empty\nit is empty\nit is empty\nit is empty\nit is empty\nit is empty\nit is empty\nit is empty\nit is empty\nit is empty\nit is empty\nit is empty\nit is empty\nit is empty\nit is empty\nit is empty\nit is empty\nit is empty\nit is empty\nit is empty\nit is empty\nit is empty\nit is empty\nit is empty\nit is empty\nit is empty\nit is empty\nit is empty\nit is empty\nit is empty\nit is empty\nit is empty\nit is empty\nit is empty\nit is empty\nit is empty\nit is empty\nit is empty\nit is empty\nit is empty\nit is empty\nit is empty\nit is empty\nit is empty\nit is empty\nit is empty\nit is empty\nit is empty\nit is empty\nit is empty\nit is empty\nit is empty\nit is empty\nit is empty\nit is empty\nit is empty\nit is empty\nit is empty\nit is empty\nit is empty\nit is empty\nit is empty\nit is empty\nit is empty\nit is empty\nit is empty\nit is empty\nit is empty\nit is empty\nit is empty\nit is empty\nit is empty\nit is empty\nit is empty\nit is empty\nit is empty\nit is empty\nit is empty\nit is empty\nit is empty\nit is empty\nit is empty\nit is empty\nit is empty\nit is empty\nit is empty\n[]\nhttps://www.tbmm.gov.tr/tutanak/donem23/tutanak3.htm\n",
      "it is empty\nit is empty\nit is empty\nit is empty\nit is empty\nit is empty\nit is empty\nit is empty\nit is empty\nit is empty\nit is empty\nit is empty\nit is empty\nit is empty\nit is empty\nit is empty\nit is empty\nit is empty\nit is empty\nit is empty\nit is empty\nit is empty\nit is empty\nit is empty\nit is empty\nit is empty\nit is empty\nit is empty\nit is empty\nit is empty\nit is empty\nit is empty\nit is empty\nit is empty\nit is empty\nit is empty\nit is empty\nit is empty\nit is empty\nit is empty\nit is empty\nit is empty\nit is empty\nit is empty\nit is empty\nit is empty\nit is empty\nit is empty\nit is empty\nit is empty\nit is empty\nit is empty\nit is empty\nit is empty\nit is empty\nit is empty\nit is empty\nit is empty\nit is empty\nit is empty\nit is empty\nit is empty\nit is empty\nit is empty\nit is empty\nit is empty\nit is empty\nit is empty\nit is empty\nit is empty\nit is empty\nit is empty\nit is empty\nit is empty\nit is empty\nit is empty\nit is empty\nit is empty\nit is empty\nit is empty\nit is empty\nit is empty\nit is empty\nit is empty\nit is empty\nit is empty\nit is empty\nit is empty\nit is empty\nit is empty\nit is empty\nit is empty\nit is empty\nit is empty\nit is empty\nit is empty\nit is empty\nit is empty\nit is empty\nit is empty\nit is empty\nit is empty\nit is empty\nit is empty\nit is empty\nit is empty\nit is empty\nit is empty\nit is empty\nit is empty\nit is empty\nit is empty\nit is empty\nit is empty\nit is empty\n[]\nhttps://www.tbmm.gov.tr/tutanak/donem23/tutanak2.htm\n",
      "it is empty\nit is empty\nit is empty\nit is empty\nit is empty\nit is empty\nit is empty\nit is empty\nit is empty\nit is empty\nit is empty\nit is empty\nit is empty\nit is empty\nit is empty\nit is empty\nit is empty\nit is empty\nit is empty\nit is empty\nit is empty\nit is empty\nit is empty\nit is empty\nit is empty\nit is empty\nit is empty\nit is empty\nit is empty\nit is empty\nit is empty\nit is empty\nit is empty\nit is empty\nit is empty\nit is empty\nit is empty\nit is empty\nit is empty\nit is empty\nit is empty\nit is empty\nit is empty\nit is empty\nit is empty\nit is empty\nit is empty\nit is empty\nit is empty\nit is empty\nit is empty\nit is empty\nit is empty\nit is empty\nit is empty\nit is empty\nit is empty\nit is empty\nit is empty\nit is empty\nit is empty\nit is empty\nit is empty\nit is empty\nit is empty\nit is empty\nit is empty\nit is empty\nit is empty\nit is empty\nit is empty\nit is empty\nit is empty\nit is empty\nit is empty\nit is empty\nit is empty\nit is empty\nit is empty\nit is empty\nit is empty\nit is empty\nit is empty\nit is empty\nit is empty\nit is empty\nit is empty\nit is empty\nit is empty\nit is empty\nit is empty\nit is empty\nit is empty\nit is empty\nit is empty\nit is empty\nit is empty\nit is empty\nit is empty\nit is empty\nit is empty\nit is empty\nit is empty\nit is empty\nit is empty\nit is empty\nit is empty\nit is empty\nit is empty\nit is empty\nit is empty\nit is empty\nit is empty\nit is empty\nit is empty\nit is empty\nit is empty\nit is empty\nit is empty\nit is empty\nit is empty\nit is empty\nit is empty\nit is empty\nit is empty\nit is empty\nit is empty\nit is empty\nit is empty\nit is empty\nit is empty\nit is empty\nit is empty\nit is empty\nit is empty\nit is empty\nit is empty\nit is empty\n[]\nhttps://www.tbmm.gov.tr/tutanak/donem23/tutanak1.htm\nit is empty\nit is empty\nit is empty\nit is empty\nit is empty\nit is empty\nit is empty\nit is empty\nit is empty\nit is empty\nit is empty\n[]\nhttps://www.tbmm.gov.tr/tutanak/donem22/tutanak5.htm\n",
      "it is empty\nit is empty\nit is empty\nit is empty\nit is empty\nit is empty\nit is empty\nit is empty\nit is empty\nit is empty\nit is empty\nit is empty\nit is empty\nit is empty\nit is empty\nit is empty\nit is empty\nit is empty\nit is empty\nit is empty\nit is empty\nit is empty\nit is empty\nit is empty\nit is empty\nit is empty\nit is empty\nit is empty\nit is empty\nit is empty\nit is empty\nit is empty\nit is empty\nit is empty\nit is empty\nit is empty\nit is empty\nit is empty\nit is empty\nit is empty\nit is empty\nit is empty\nit is empty\nit is empty\nit is empty\nit is empty\nit is empty\nit is empty\nit is empty\nit is empty\nit is empty\nit is empty\nit is empty\nit is empty\nit is empty\nit is empty\nit is empty\nit is empty\nit is empty\nit is empty\nit is empty\nit is empty\nit is empty\nit is empty\nit is empty\nit is empty\nit is empty\nit is empty\nit is empty\nit is empty\nit is empty\nit is empty\nit is empty\nit is empty\nit is empty\nit is empty\nit is empty\nit is empty\nit is empty\nit is empty\nit is empty\nit is empty\nit is empty\nit is empty\nit is empty\nit is empty\nit is empty\nit is empty\nit is empty\nit is empty\nit is empty\nit is empty\nit is empty\nit is empty\nit is empty\nit is empty\nit is empty\nit is empty\nit is empty\nit is empty\nit is empty\nit is empty\nit is empty\nit is empty\nit is empty\nit is empty\nit is empty\nit is empty\nit is empty\nit is empty\nit is empty\nit is empty\nit is empty\nit is empty\nit is empty\nit is empty\nit is empty\nit is empty\nit is empty\nit is empty\nit is empty\n[]\nhttps://www.tbmm.gov.tr/tutanak/donem22/tutanak4.htm\n",
      "it is empty\nit is empty\nit is empty\nit is empty\nit is empty\nit is empty\nit is empty\nit is empty\nit is empty\nit is empty\nit is empty\nit is empty\nit is empty\nit is empty\nit is empty\nit is empty\nit is empty\nit is empty\nit is empty\nit is empty\nit is empty\nit is empty\nit is empty\nit is empty\nit is empty\nit is empty\nit is empty\nit is empty\nit is empty\nit is empty\nit is empty\nit is empty\nit is empty\nit is empty\nit is empty\nit is empty\nit is empty\nit is empty\nit is empty\nit is empty\nit is empty\nit is empty\nit is empty\nit is empty\nit is empty\nit is empty\nit is empty\nit is empty\nit is empty\nit is empty\nit is empty\nit is empty\nit is empty\nit is empty\nit is empty\nit is empty\nit is empty\nit is empty\nit is empty\nit is empty\nit is empty\nit is empty\nit is empty\nit is empty\nit is empty\nit is empty\nit is empty\nit is empty\nit is empty\nit is empty\nit is empty\nit is empty\nit is empty\nit is empty\nit is empty\nit is empty\nit is empty\nit is empty\nit is empty\nit is empty\nit is empty\nit is empty\nit is empty\nit is empty\nit is empty\nit is empty\nit is empty\nit is empty\nit is empty\nit is empty\nit is empty\nit is empty\nit is empty\nit is empty\nit is empty\nit is empty\nit is empty\nit is empty\nit is empty\nit is empty\nit is empty\nit is empty\nit is empty\nit is empty\nit is empty\nit is empty\nit is empty\nit is empty\nit is empty\nit is empty\nit is empty\nit is empty\nit is empty\nit is empty\nit is empty\nit is empty\nit is empty\nit is empty\nit is empty\nit is empty\nit is empty\nit is empty\nit is empty\nit is empty\nit is empty\nit is empty\nit is empty\nit is empty\nit is empty\nit is empty\nit is empty\n[]\nhttps://www.tbmm.gov.tr/tutanak/donem22/tutanak3.htm\n",
      "it is empty\nit is empty\nit is empty\nit is empty\nit is empty\nit is empty\nit is empty\nit is empty\nit is empty\nit is empty\nit is empty\nit is empty\nit is empty\nit is empty\nit is empty\nit is empty\nit is empty\nit is empty\nit is empty\nit is empty\nit is empty\nit is empty\nit is empty\nit is empty\nit is empty\nit is empty\nit is empty\nit is empty\nit is empty\nit is empty\nit is empty\nit is empty\nit is empty\nit is empty\nit is empty\nit is empty\nit is empty\nit is empty\nit is empty\nit is empty\nit is empty\nit is empty\nit is empty\nit is empty\nit is empty\nit is empty\nit is empty\nit is empty\nit is empty\nit is empty\nit is empty\nit is empty\nit is empty\nit is empty\nit is empty\nit is empty\nit is empty\nit is empty\nit is empty\nit is empty\nit is empty\nit is empty\nit is empty\nit is empty\nit is empty\nit is empty\nit is empty\nit is empty\nit is empty\nit is empty\nit is empty\nit is empty\nit is empty\nit is empty\nit is empty\nit is empty\nit is empty\nit is empty\nit is empty\nit is empty\nit is empty\nit is empty\nit is empty\nit is empty\nit is empty\nit is empty\nit is empty\nit is empty\nit is empty\nit is empty\nit is empty\nit is empty\nit is empty\nit is empty\nit is empty\nit is empty\nit is empty\nit is empty\nit is empty\nit is empty\nit is empty\nit is empty\nit is empty\nit is empty\nit is empty\nit is empty\nit is empty\nit is empty\nit is empty\nit is empty\nit is empty\nit is empty\nit is empty\nit is empty\nit is empty\nit is empty\nit is empty\nit is empty\nit is empty\nit is empty\nit is empty\nit is empty\nit is empty\nit is empty\nit is empty\nit is empty\nit is empty\n[]\nhttps://www.tbmm.gov.tr/tutanak/donem22/tutanak2.htm\n",
      "it is empty\nit is empty\nit is empty\nit is empty\nit is empty\nit is empty\nit is empty\nit is empty\nit is empty\nit is empty\nit is empty\nit is empty\nit is empty\nit is empty\nit is empty\nit is empty\nit is empty\nit is empty\nit is empty\nit is empty\nit is empty\nit is empty\nit is empty\nit is empty\nit is empty\nit is empty\nit is empty\nit is empty\nit is empty\nit is empty\nit is empty\nit is empty\nit is empty\nit is empty\nit is empty\nit is empty\nit is empty\nit is empty\nit is empty\nit is empty\nit is empty\nit is empty\nit is empty\nit is empty\nit is empty\nit is empty\nit is empty\nit is empty\nit is empty\nit is empty\nit is empty\nit is empty\nit is empty\nit is empty\nit is empty\nit is empty\nit is empty\nit is empty\nit is empty\nit is empty\nit is empty\nit is empty\nit is empty\nit is empty\nit is empty\nit is empty\nit is empty\nit is empty\nit is empty\nit is empty\nit is empty\nit is empty\nit is empty\nit is empty\nit is empty\nit is empty\nit is empty\nit is empty\nit is empty\nit is empty\nit is empty\nit is empty\nit is empty\nit is empty\nit is empty\nit is empty\nit is empty\nit is empty\nit is empty\nit is empty\nit is empty\nit is empty\nit is empty\nit is empty\nit is empty\nit is empty\nit is empty\nit is empty\nit is empty\nit is empty\nit is empty\nit is empty\nit is empty\nit is empty\nit is empty\nit is empty\nit is empty\nit is empty\nit is empty\nit is empty\nit is empty\nit is empty\nit is empty\nit is empty\nit is empty\nit is empty\nit is empty\nit is empty\nit is empty\nit is empty\nit is empty\nit is empty\nit is empty\nit is empty\n[]\nhttps://www.tbmm.gov.tr/tutanak/donem22/tutanak1.htm\n",
      "it is empty\nit is empty\nit is empty\nit is empty\nit is empty\nit is empty\nit is empty\nit is empty\nit is empty\nit is empty\nit is empty\nit is empty\nit is empty\nit is empty\nit is empty\nit is empty\nit is empty\nit is empty\nit is empty\nit is empty\nit is empty\nit is empty\nit is empty\nit is empty\nit is empty\nit is empty\nit is empty\nit is empty\nit is empty\nit is empty\nit is empty\nit is empty\nit is empty\nit is empty\nit is empty\nit is empty\nit is empty\nit is empty\nit is empty\nit is empty\nit is empty\nit is empty\nit is empty\nit is empty\nit is empty\nit is empty\nit is empty\nit is empty\nit is empty\nit is empty\nit is empty\nit is empty\nit is empty\nit is empty\nit is empty\nit is empty\nit is empty\nit is empty\nit is empty\nit is empty\nit is empty\nit is empty\nit is empty\nit is empty\nit is empty\nit is empty\nit is empty\nit is empty\nit is empty\nit is empty\nit is empty\nit is empty\nit is empty\nit is empty\nit is empty\nit is empty\nit is empty\nit is empty\nit is empty\nit is empty\nit is empty\nit is empty\nit is empty\nit is empty\nit is empty\nit is empty\nit is empty\nit is empty\nit is empty\nit is empty\nit is empty\nit is empty\nit is empty\nit is empty\nit is empty\nit is empty\nit is empty\nit is empty\nit is empty\nit is empty\nit is empty\nit is empty\nit is empty\nit is empty\nit is empty\nit is empty\nit is empty\nit is empty\nit is empty\nit is empty\nit is empty\nit is empty\nit is empty\nit is empty\n[]\nhttps://www.tbmm.gov.tr/tutanak/donem21/tutanak4.htm\n"
     ],
     "output_type": "stream"
    },
    {
     "traceback": [
      "\u001b[1;31m---------------------------------------------------------------------------\u001b[0m",
      "\u001b[1;31mIndexError\u001b[0m                                Traceback (most recent call last)",
      "\u001b[1;32m<ipython-input-18-7a72da2758f5>\u001b[0m in \u001b[0;36m<module>\u001b[1;34m\u001b[0m\n\u001b[0;32m      4\u001b[0m     \u001b[1;32melse\u001b[0m\u001b[1;33m:\u001b[0m\u001b[1;33m\u001b[0m\u001b[1;33m\u001b[0m\u001b[0m\n\u001b[0;32m      5\u001b[0m         \u001b[0mprint\u001b[0m\u001b[1;33m(\u001b[0m\u001b[0myear\u001b[0m\u001b[1;33m)\u001b[0m\u001b[1;33m\u001b[0m\u001b[1;33m\u001b[0m\u001b[0m\n\u001b[1;32m----> 6\u001b[1;33m         \u001b[0mget_year_page\u001b[0m\u001b[1;33m(\u001b[0m\u001b[0myear\u001b[0m\u001b[1;33m)\u001b[0m\u001b[1;33m\u001b[0m\u001b[1;33m\u001b[0m\u001b[0m\n\u001b[0m",
      "\u001b[1;32m<ipython-input-3-8a306d8fa6e8>\u001b[0m in \u001b[0;36mget_year_page\u001b[1;34m(legislative_year_url)\u001b[0m\n\u001b[0;32m      6\u001b[0m     \u001b[0mlinks_list\u001b[0m \u001b[1;33m=\u001b[0m \u001b[1;33m[\u001b[0m\u001b[1;33m]\u001b[0m\u001b[1;33m\u001b[0m\u001b[1;33m\u001b[0m\u001b[0m\n\u001b[0;32m      7\u001b[0m     \u001b[1;32mfor\u001b[0m \u001b[0mrow\u001b[0m \u001b[1;32min\u001b[0m \u001b[0mrows\u001b[0m\u001b[1;33m:\u001b[0m\u001b[1;33m\u001b[0m\u001b[1;33m\u001b[0m\u001b[0m\n\u001b[1;32m----> 8\u001b[1;33m       \u001b[1;32mif\u001b[0m \u001b[1;33m(\u001b[0m\u001b[0mrow\u001b[0m\u001b[1;33m.\u001b[0m\u001b[0mfind_all\u001b[0m\u001b[1;33m(\u001b[0m\u001b[1;34m\"td\"\u001b[0m\u001b[1;33m)\u001b[0m\u001b[1;33m[\u001b[0m\u001b[1;36m5\u001b[0m\u001b[1;33m]\u001b[0m\u001b[1;33m.\u001b[0m\u001b[0mtext\u001b[0m \u001b[1;33m==\u001b[0m \u001b[1;34m'\\xa0'\u001b[0m\u001b[1;33m)\u001b[0m\u001b[1;33m:\u001b[0m\u001b[1;33m\u001b[0m\u001b[1;33m\u001b[0m\u001b[0m\n\u001b[0m\u001b[0;32m      9\u001b[0m         \u001b[0mprint\u001b[0m\u001b[1;33m(\u001b[0m\u001b[1;34m\"it is empty\"\u001b[0m\u001b[1;33m)\u001b[0m\u001b[1;33m\u001b[0m\u001b[1;33m\u001b[0m\u001b[0m\n\u001b[0;32m     10\u001b[0m       \u001b[1;32melse\u001b[0m\u001b[1;33m:\u001b[0m\u001b[1;33m\u001b[0m\u001b[1;33m\u001b[0m\u001b[0m\n",
      "\u001b[1;31mIndexError\u001b[0m: list index out of range"
     ],
     "ename": "IndexError",
     "evalue": "list index out of range",
     "output_type": "error"
    }
   ],
   "source": [
    "for year in all_legislative_year_urls:\n",
    "    if year == \"https://www.tbmm.gov.tr/tutanak/donem21/tutanak5.htm\":\n",
    "        pass\n",
    "    else:\n",
    "        print(year)\n",
    "        get_year_page(year)"
   ],
   "metadata": {
    "collapsed": false,
    "pycharm": {
     "name": "#%%\n",
     "is_executing": false
    }
   }
  },
  {
   "cell_type": "code",
   "execution_count": 111,
   "outputs": [
    {
     "data": {
      "text/plain": "['https://www.tbmm.gov.tr/tutanak/donem25/tutanak2.htm',\n 'https://www.tbmm.gov.tr/tutanak/donem25/tutanak1.htm']"
     },
     "metadata": {},
     "output_type": "execute_result",
     "execution_count": 111
    }
   ],
   "source": [
    "all_legislative_year_urls[6:8]"
   ],
   "metadata": {
    "collapsed": false,
    "pycharm": {
     "name": "#%%\n",
     "is_executing": false
    }
   }
  }
 ]
}