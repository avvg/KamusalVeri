{
 "nbformat": 4,
 "nbformat_minor": 0,
 "metadata": {
  "colab": {
   "name": "gazete_tiraj.ipynb",
   "provenance": [],
   "collapsed_sections": []
  },
  "kernelspec": {
   "name": "python3",
   "language": "python",
   "display_name": "Python 3"
  },
  "pycharm": {
   "stem_cell": {
    "cell_type": "raw",
    "source": [],
    "metadata": {
     "collapsed": false
    }
   }
  }
 },
 "cells": [
  {
   "cell_type": "markdown",
   "metadata": {
    "id": "C2U8ZjlIlp4p",
    "colab_type": "text"
   },
   "source": [
    "# Gazete Tiraj Verileri\n",
    "Bu script, haftalık gazete satış rakamlarını çekmektedir. Aşağıda verilen kaynakta haftalık olarak en çok satana göre 20 gazete sıralanmaktadır.\n",
    "\n",
    "**Senaryo**: Sayfada veri ajax ile güncellenmektedir. Sitenin sağ üst köşesinde yer alan tarih seçici ile hafta değiştirilir. Yıl içerisindeki her pazartesi seçilerek sayfada bulunan tablo güncellenir. Güncellemeden sonra sayfadaki tablo çekilerek DataFrame'e dönüştürülür ve bir listeye eklenir. Bir sonraki Pazartesi'ye geçilir.\n",
    "\n",
    "**Kapsam**: Görünüşe göre web sitesinde 2015'e kadar veri bulunmakta. 2015-2019 aralığındaki veriler yıllık olarak çekilmiştir.\n",
    "\n",
    "**Başlıklar**\n",
    "\n",
    "*   date (Tarih)\n",
    "*   newspaper (Gazete)\n",
    "*   circulation (Tiraj)\n",
    "\n",
    "**Erişim tarihi**: 01.11.2019\n",
    "\n",
    "**Kaynak**: gazetetirajları.com\n",
    "\n",
    "**Not**: Gazete tirajları resmi bir kaynaktan yapısal bir şekilde paylaşılmadığından, en sağlıklı kaynak olarak bu web sitesi seçilmiştir. Barındırdığı satış rakamlarının güvenilirliği test edilememektedir.\n",
    "\n",
    "Umut Irmaksever @ AVVG"
   ]
  },
  {
   "cell_type": "markdown",
   "metadata": {
    "id": "JAa7JE8MmyGb",
    "colab_type": "text"
   },
   "source": [
    "Gerekli paketler yüklenir ve Selenium instance'ı başlatılır, web sayfasına gidilir."
   ]
  },
  {
   "cell_type": "code",
   "metadata": {
    "id": "loSlDZKAtnq7",
    "colab_type": "code",
    "pycharm": {
     "is_executing": false
    },
    "colab": {}
   },
   "source": [
    "# install chromium, its driver, and selenium\n",
    "!apt install chromium-chromedriver\n",
    "!pip install selenium html5lib bs4\n",
    "!pip install BeautifulSoup4\n",
    "!pip install html5lib\n",
    "!pip install matplotlib\n",
    "# set options to be headless, ..\n",
    "from selenium import webdriver\n",
    "from selenium.webdriver.support.ui import WebDriverWait\n",
    "from selenium.webdriver.support import expected_conditions as EC\n",
    "from selenium.webdriver.common.by import By as By\n",
    "\n",
    "import html5lib\n",
    "import pandas as pd\n",
    "\n",
    "import datetime\n",
    "from time import sleep\n",
    "\n",
    "options = webdriver.ChromeOptions()\n",
    "options.add_argument('--no-sandbox')\n",
    "options.add_argument('--disable-dev-shm-usage')\n",
    "options.add_argument(\"--window-size=1920,1080\")\n",
    "# open it, go to a website, and get results\n",
    "wd = webdriver.Chrome('chromedriver',options=options)\n",
    "page = wd.get(\"http://gazetetirajlari.com/HaftalikTirajlar.aspx\")"
   ],
   "execution_count": 2,
   "outputs": [
    {
     "name": "stderr",
     "text": [
      "'apt' is not recognized as an internal or external command,\noperable program or batch file.\n",
      "You are using pip version 18.1, however version 19.3.1 is available.\nYou should consider upgrading via the 'python -m pip install --upgrade pip' command.\n",
      "You are using pip version 18.1, however version 19.3.1 is available.\nYou should consider upgrading via the 'python -m pip install --upgrade pip' command.\n",
      "You are using pip version 18.1, however version 19.3.1 is available.\nYou should consider upgrading via the 'python -m pip install --upgrade pip' command.\n",
      "You are using pip version 18.1, however version 19.3.1 is available.\nYou should consider upgrading via the 'python -m pip install --upgrade pip' command.\n"
     ],
     "output_type": "stream"
    },
    {
     "name": "stdout",
     "text": [
      "Requirement already satisfied: selenium in c:\\users\\da12\\appdata\\local\\programs\\python\\python36\\lib\\site-packages (3.141.0)\nRequirement already satisfied: html5lib in c:\\users\\da12\\appdata\\local\\programs\\python\\python36\\lib\\site-packages (1.0.1)\nRequirement already satisfied: bs4 in c:\\users\\da12\\appdata\\local\\programs\\python\\python36\\lib\\site-packages (0.0.1)\nRequirement already satisfied: urllib3 in c:\\users\\da12\\appdata\\local\\programs\\python\\python36\\lib\\site-packages (from selenium) (1.25.3)\nRequirement already satisfied: six>=1.9 in c:\\users\\da12\\appdata\\local\\programs\\python\\python36\\lib\\site-packages (from html5lib) (1.12.0)\nRequirement already satisfied: webencodings in c:\\users\\da12\\appdata\\local\\programs\\python\\python36\\lib\\site-packages (from html5lib) (0.5.1)\nRequirement already satisfied: beautifulsoup4 in c:\\users\\da12\\appdata\\local\\programs\\python\\python36\\lib\\site-packages (from bs4) (4.8.1)\nRequirement already satisfied: soupsieve>=1.2 in c:\\users\\da12\\appdata\\local\\programs\\python\\python36\\lib\\site-packages (from beautifulsoup4->bs4) (1.9.4)\n",
      "Requirement already satisfied: BeautifulSoup4 in c:\\users\\da12\\appdata\\local\\programs\\python\\python36\\lib\\site-packages (4.8.1)\nRequirement already satisfied: soupsieve>=1.2 in c:\\users\\da12\\appdata\\local\\programs\\python\\python36\\lib\\site-packages (from BeautifulSoup4) (1.9.4)\n",
      "Requirement already satisfied: html5lib in c:\\users\\da12\\appdata\\local\\programs\\python\\python36\\lib\\site-packages (1.0.1)\nRequirement already satisfied: six>=1.9 in c:\\users\\da12\\appdata\\local\\programs\\python\\python36\\lib\\site-packages (from html5lib) (1.12.0)\nRequirement already satisfied: webencodings in c:\\users\\da12\\appdata\\local\\programs\\python\\python36\\lib\\site-packages (from html5lib) (0.5.1)\n",
      "Requirement already satisfied: matplotlib in c:\\users\\da12\\appdata\\local\\programs\\python\\python36\\lib\\site-packages (3.1.1)\nRequirement already satisfied: cycler>=0.10 in c:\\users\\da12\\appdata\\local\\programs\\python\\python36\\lib\\site-packages (from matplotlib) (0.10.0)\nRequirement already satisfied: python-dateutil>=2.1 in c:\\users\\da12\\appdata\\local\\programs\\python\\python36\\lib\\site-packages (from matplotlib) (2.8.0)\nRequirement already satisfied: kiwisolver>=1.0.1 in c:\\users\\da12\\appdata\\local\\programs\\python\\python36\\lib\\site-packages (from matplotlib) (1.1.0)\nRequirement already satisfied: numpy>=1.11 in c:\\users\\da12\\appdata\\local\\programs\\python\\python36\\lib\\site-packages (from matplotlib) (1.17.1)\nRequirement already satisfied: pyparsing!=2.0.4,!=2.1.2,!=2.1.6,>=2.0.1 in c:\\users\\da12\\appdata\\local\\programs\\python\\python36\\lib\\site-packages (from matplotlib) (2.4.2)\nRequirement already satisfied: six in c:\\users\\da12\\appdata\\local\\programs\\python\\python36\\lib\\site-packages (from cycler>=0.10->matplotlib) (1.12.0)\nRequirement already satisfied: setuptools in c:\\users\\da12\\appdata\\local\\programs\\python\\python36\\lib\\site-packages (from kiwisolver>=1.0.1->matplotlib) (40.6.2)\n"
     ],
     "output_type": "stream"
    }
   ]
  },
  {
   "cell_type": "markdown",
   "metadata": {
    "id": "9yNtGek3s0d4",
    "colab_type": "text"
   },
   "source": [
    "Bir yıl içerisindeki tüm pazartesileri bir listeye kaydedelim."
   ]
  },
  {
   "cell_type": "code",
   "metadata": {
    "pycharm": {
     "name": "#%%\n",
     "is_executing": false
    },
    "id": "Jdw07oDjlml9",
    "colab_type": "code",
    "colab": {}
   },
   "source": [
    "def allmondays(year):\n",
    "    # Yılın ilk günü\n",
    "    d = datetime.date(year, 1, 1)\n",
    "    # Pazartesi'yi bul\n",
    "    d += datetime.timedelta(days=7-d.weekday())\n",
    "    # Yıl aynı olduğu sürece 7 gün artırarak devam et \n",
    "    while d.year == year:\n",
    "        yield d\n",
    "        d+= datetime.timedelta(days=7)\n",
    "    return(d)\n",
    "# Listedeki tüm tarih objelerini istenen formata sok-\n",
    "def get_mondays_list(year):\n",
    "    mondays = allmondays(year)\n",
    "    mondays = list(map(lambda x: x.strftime(\"%d.%m.%Y\"), mondays))\n",
    "    return mondays\n"
   ],
   "execution_count": 3,
   "outputs": []
  },
  {
   "cell_type": "markdown",
   "metadata": {
    "id": "cDaf1RWJuCI8",
    "colab_type": "text"
   },
   "source": [
    "Sayfadaki veri tablosunu bulup DataFrame'e çevirelim."
   ]
  },
  {
   "cell_type": "code",
   "metadata": {
    "id": "YRJ3GzfPugoW",
    "colab_type": "code",
    "pycharm": {
     "is_executing": false
    },
    "colab": {}
   },
   "source": [
    "def get_circulation_data():\n",
    "    data_table_div = wd.find_element_by_id(\"divHaftalikTirajAra\")\n",
    "    week = data_table_div.find_elements_by_tag_name(\"h3\")[0].text\n",
    "    data_table = data_table_div.find_elements_by_tag_name(\"table\")[0].get_attribute(\"outerHTML\")\n",
    "    data_table_pd = pd.read_html(data_table, flavor=\"bs4\")\n",
    "    data_table_pd = data_table_pd[0]\n",
    "    return data_table_pd"
   ],
   "execution_count": 4,
   "outputs": []
  },
  {
   "cell_type": "markdown",
   "metadata": {
    "id": "5tT85rZruLef",
    "colab_type": "text"
   },
   "source": [
    "Sayfadaki veri tablosunun üstünde başlık olarak o haftanın tarih aralığı belirtiliyor. Doğrulama amaçlı kullanılabilir. İkinci fonksiyon ise datepicker widget'ına istenen tarihi girip butona basıyor."
   ]
  },
  {
   "cell_type": "code",
   "metadata": {
    "id": "RFuOxKVEulxq",
    "colab_type": "code",
    "pycharm": {
     "is_executing": false,
     "name": "#%%\n"
    },
    "colab": {}
   },
   "source": [
    "def get_current_week():\n",
    "    week = wd.find_element_by_id(\"divHaftalikTirajAra\").find_elements_by_tag_name(\"h3\")[0].text\n",
    "    return week\n",
    "def change_date(date):\n",
    "    date_textfield = wd.find_element_by_id(\"txtHaftalikTirajTarih\")\n",
    "    date_textfield.clear()\n",
    "    # date_textfield.click()\n",
    "    date_textfield.send_keys(date)\n",
    "    wd.find_element_by_id(\"btnHaftalikTirajAra\").click()\n",
    "    # Tarih değiştirildikten sonra bir \"Yükleniyor\" mesajıyla bir modal çıkıyor.\n",
    "    # Scriptin sekteye uğramaması için bu modal kapanana kadar bekle.\n",
    "    element = WebDriverWait(wd, 10).until(\n",
    "        EC.invisibility_of_element_located((By.ID, 'loading')))"
   ],
   "execution_count": 5,
   "outputs": []
  },
  {
   "cell_type": "markdown",
   "metadata": {
    "id": "0gunborquioE",
    "colab_type": "text"
   },
   "source": [
    "Aşağıdaki helper (yardımcı) fonksiyon ile bir ya da daha fazla yıl içerisindeki Pazartesiler datepicker'da deneniyor ve o hafta için veri olup olmadığı belirleniyor. Veri bulunan haftalar \"success_weeks\" listesine, olmayan haftalar ise \"fail_weeks\" listesine kaydediliyor."
   ]
  },
  {
   "cell_type": "code",
   "metadata": {
    "pycharm": {
     "name": "#%%\n",
     "is_executing": false
    },
    "id": "knz-AeJMlmmE",
    "colab_type": "code",
    "colab": {}
   },
   "source": [
    "weeks_dict = {}\n",
    "years = range(2019, 2020)\n",
    "success_weeks = []\n",
    "fail_weeks = []\n",
    "def check_if_week_exists(years):\n",
    "    for year in years:\n",
    "        mondays_list = get_mondays_list(year)\n",
    "        for week in mondays_list:\n",
    "            change_date(week)\n",
    "            try:\n",
    "                week_from_website = get_current_week()\n",
    "                print(week, week_from_website)\n",
    "                # Hem python tarafından sağlanan tarih, hem de web sitesinden\n",
    "                # alınan hafta stringini kaydet.\n",
    "                success_weeks.append([week, week_from_website])\n",
    "            except IndexError:\n",
    "                print(\"nonexistent\")\n",
    "                fail_weeks.append([week, \"fail\"])\n",
    "check_if_week_exists(years)"
   ],
   "execution_count": 10,
   "outputs": [
    {
     "name": "stdout",
     "text": [
      "07.01.2019 07 - 13 OCAK 2019\n",
      "14.01.2019 14 - 20 OCAK 2019\n",
      "21.01.2019 21 - 27 OCAK 2019\n",
      "28.01.2019 28 OCAK - 03 ŞUBAT 2019\n",
      "04.02.2019 04 - 10 ŞUBAT 2019\n",
      "11.02.2019 11 - 17 ŞUBAT 2019\n",
      "18.02.2019 18 - 24 ŞUBAT 2019\n",
      "25.02.2019 25 ŞUBAT - 03 MART 2019\n",
      "04.03.2019 04 - 10 MART 2019\n",
      "11.03.2019 11 - 17 MART 2019\n",
      "18.03.2019 18 - 24 MART 2019\n",
      "25.03.2019 25 - 31 MART 2019\n",
      "01.04.2019 01 - 07 NISAN 2019\n",
      "08.04.2019 08 - 14 NISAN 2019\n",
      "15.04.2019 15 - 21 NISAN 2019\n",
      "22.04.2019 22 - 28 NISAN 2019\n",
      "29.04.2019 29 NISAN - 05 MAYIS 2019\n",
      "06.05.2019 06 - 12 MAYIS 2019\n",
      "13.05.2019 13 - 19 MAYIS 2019\n",
      "20.05.2019 20 - 26 MAYIS 2019\n",
      "27.05.2019 27 MAYIS - 02 HAZIRAN 2019\n",
      "03.06.2019 03 - 09 HAZIRAN 2019\n",
      "10.06.2019 10 - 16 HAZIRAN 2019\n",
      "17.06.2019 17 - 23 HAZIRAN 2019\n",
      "24.06.2019 24 - 30 HAZIRAN 2019\n",
      "01.07.2019 01 - 07 TEMMUZ 2019\n",
      "08.07.2019 08 - 14 TEMMUZ 2019\n",
      "15.07.2019 15 - 21 TEMMUZ 2019\n",
      "22.07.2019 22 - 28 TEMMUZ 2019\n",
      "29.07.2019 29 TEMMUZ - 04 AĞUSTOS 2019\n",
      "05.08.2019 05 - 11 AĞUSTOS 2019\n",
      "12.08.2019 12 - 18 AĞUSTOS 2019\n",
      "19.08.2019 19 - 25 AĞUSTOS 2019\n",
      "26.08.2019 26 AĞUSTOS - 01 EYLÜL 2019\n",
      "02.09.2019 02 - 08 EYLÜL 2019\n",
      "09.09.2019 09 - 15 EYLÜL 2019\n",
      "16.09.2019 16 - 22 EYLÜL 2019\n",
      "23.09.2019 23 - 29 EYLÜL 2019\n",
      "30.09.2019 30 EYLÜL - 06 EKIM 2019\n",
      "07.10.2019 07 - 13 EKIM 2019\n",
      "14.10.2019 14 - 20 EKIM 2019\n",
      "21.10.2019 21 - 27 EKIM 2019\n",
      "28.10.2019 28 EKIM - 03 KASIM 2019\n",
      "04.11.2019 04 - 10 KASIM 2019\n",
      "11.11.2019 11 - 17 KASIM 2019\n",
      "18.11.2019 18 - 24 KASIM 2019\n",
      "25.11.2019 25 KASIM - 01 ARALIK 2019\n",
      "02.12.2019 02 - 08 ARALIK 2019\n",
      "09.12.2019 09 - 15 ARALIK 2019\n",
      "16.12.2019 16 - 22 ARALIK 2019\n",
      "nonexistent\n",
      "nonexistent\n"
     ],
     "output_type": "stream"
    }
   ]
  },
  {
   "cell_type": "markdown",
   "metadata": {
    "id": "dA2jvFyDveli",
    "colab_type": "text"
   },
   "source": [
    "Veri olmayan haftaları kaydedelim."
   ]
  },
  {
   "cell_type": "code",
   "metadata": {
    "pycharm": {
     "name": "#%% Save failed weeks to file\n",
     "is_executing": false
    },
    "id": "Vbf6LRUulmmH",
    "colab_type": "code",
    "colab": {}
   },
   "source": [
    "# Fail olan haftaları bir dosyaya yazmak için aşağıdaki dosya ismini değiştirebilirsiniz.\n",
    "with open(\"fails_2019_2.txt\", mode=\"w+\")as file:\n",
    "    for fail in fail_weeks:\n",
    "        file.write(str(fail) + \"\\n\")\n",
    "    file.close()"
   ],
   "execution_count": 11,
   "outputs": []
  },
  {
   "cell_type": "markdown",
   "metadata": {
    "id": "YQqU5qQUv-UL",
    "colab_type": "text"
   },
   "source": [
    "Her hafta için veri tablosunu bir dict objesine kaydedelim."
   ]
  },
  {
   "cell_type": "code",
   "metadata": {
    "pycharm": {
     "name": "#%% Get weekly circulation table values and write them to a dict\n",
     "is_executing": false
    },
    "id": "wots7kRllmmJ",
    "colab_type": "code",
    "colab": {}
   },
   "source": [
    "weekly_circulation_list = {}\n",
    "for week in success_weeks:\n",
    "    print(week)\n",
    "    change_date(week[0])\n",
    "    sleep(0.5)\n",
    "    circulation_data = get_circulation_data()\n",
    "    # print(circulation_data)\n",
    "    weekly_circulation_list[week[0]] = circulation_data"
   ],
   "execution_count": 12,
   "outputs": [
    {
     "name": "stdout",
     "text": [
      "['07.01.2019', '07 - 13 OCAK 2019']\n",
      "['14.01.2019', '14 - 20 OCAK 2019']\n",
      "['21.01.2019', '21 - 27 OCAK 2019']\n",
      "['28.01.2019', '28 OCAK - 03 ŞUBAT 2019']\n",
      "['04.02.2019', '04 - 10 ŞUBAT 2019']\n",
      "['11.02.2019', '11 - 17 ŞUBAT 2019']\n",
      "['18.02.2019', '18 - 24 ŞUBAT 2019']\n",
      "['25.02.2019', '25 ŞUBAT - 03 MART 2019']\n",
      "['04.03.2019', '04 - 10 MART 2019']\n",
      "['11.03.2019', '11 - 17 MART 2019']\n",
      "['18.03.2019', '18 - 24 MART 2019']\n",
      "['25.03.2019', '25 - 31 MART 2019']\n",
      "['01.04.2019', '01 - 07 NISAN 2019']\n",
      "['08.04.2019', '08 - 14 NISAN 2019']\n",
      "['15.04.2019', '15 - 21 NISAN 2019']\n",
      "['22.04.2019', '22 - 28 NISAN 2019']\n",
      "['29.04.2019', '29 NISAN - 05 MAYIS 2019']\n",
      "['06.05.2019', '06 - 12 MAYIS 2019']\n",
      "['13.05.2019', '13 - 19 MAYIS 2019']\n",
      "['20.05.2019', '20 - 26 MAYIS 2019']\n",
      "['27.05.2019', '27 MAYIS - 02 HAZIRAN 2019']\n",
      "['03.06.2019', '03 - 09 HAZIRAN 2019']\n",
      "['10.06.2019', '10 - 16 HAZIRAN 2019']\n",
      "['17.06.2019', '17 - 23 HAZIRAN 2019']\n",
      "['24.06.2019', '24 - 30 HAZIRAN 2019']\n",
      "['01.07.2019', '01 - 07 TEMMUZ 2019']\n",
      "['08.07.2019', '08 - 14 TEMMUZ 2019']\n",
      "['15.07.2019', '15 - 21 TEMMUZ 2019']\n",
      "['22.07.2019', '22 - 28 TEMMUZ 2019']\n",
      "['29.07.2019', '29 TEMMUZ - 04 AĞUSTOS 2019']\n",
      "['05.08.2019', '05 - 11 AĞUSTOS 2019']\n",
      "['12.08.2019', '12 - 18 AĞUSTOS 2019']\n",
      "['19.08.2019', '19 - 25 AĞUSTOS 2019']\n",
      "['26.08.2019', '26 AĞUSTOS - 01 EYLÜL 2019']\n",
      "['02.09.2019', '02 - 08 EYLÜL 2019']\n",
      "['09.09.2019', '09 - 15 EYLÜL 2019']\n",
      "['16.09.2019', '16 - 22 EYLÜL 2019']\n",
      "['23.09.2019', '23 - 29 EYLÜL 2019']\n",
      "['30.09.2019', '30 EYLÜL - 06 EKIM 2019']\n",
      "['07.10.2019', '07 - 13 EKIM 2019']\n",
      "['14.10.2019', '14 - 20 EKIM 2019']\n",
      "['21.10.2019', '21 - 27 EKIM 2019']\n",
      "['28.10.2019', '28 EKIM - 03 KASIM 2019']\n",
      "['04.11.2019', '04 - 10 KASIM 2019']\n",
      "['11.11.2019', '11 - 17 KASIM 2019']\n",
      "['18.11.2019', '18 - 24 KASIM 2019']\n",
      "['25.11.2019', '25 KASIM - 01 ARALIK 2019']\n",
      "['02.12.2019', '02 - 08 ARALIK 2019']\n",
      "['09.12.2019', '09 - 15 ARALIK 2019']\n",
      "['16.12.2019', '16 - 22 ARALIK 2019']\n"
     ],
     "output_type": "stream"
    }
   ]
  },
  {
   "cell_type": "markdown",
   "metadata": {
    "id": "DU_50rHrwN6r",
    "colab_type": "text"
   },
   "source": [
    "Bir yıldaki tüm veri olan haftaların bulunduğu dict objesindeki değerler DataFrame şeklinde. Web sayfasındaki tabloyu bire bir kaydettiğimiz için sadece ihtiyacımız olanları alalım ve DataFrame listesini düzleştirelim."
   ]
  },
  {
   "cell_type": "code",
   "metadata": {
    "pycharm": {
     "name": "#%% Normalize tables of weeks, discard unneccessary columns and write all to a list with week value\n",
     "is_executing": false
    },
    "id": "48Akta4vlmmO",
    "colab_type": "code",
    "colab": {}
   },
   "source": [
    "rows_list = []\n",
    "for circulation_table in weekly_circulation_list.keys():\n",
    "    week = circulation_table\n",
    "    table = weekly_circulation_list[circulation_table]\n",
    "    for row in table.index:\n",
    "        newspaper_name = table[\"GAZETE ADI\"][row]\n",
    "        sales = table[\"GÜNCEL\"][row]\n",
    "        rows_list.append([week, newspaper_name, sales])\n",
    "        print(week, newspaper_name, sales)\n",
    "    print(circulation_table)"
   ],
   "execution_count": 13,
   "outputs": [
    {
     "name": "stdout",
     "text": [
      "07.01.2019 SABAH 274.631\n07.01.2019 HÜRRİYET 258.178\n07.01.2019 SÖZCÜ 251.476\n07.01.2019 POSTA 192.729\n07.01.2019 TÜRKİYE 132.87\n07.01.2019 MİLLİYET 128.627\n07.01.2019 YENİ ŞAFAK 110.045\n07.01.2019 TAKVİM 105.948\n07.01.2019 GÜNEŞ 103.31700000000001\n07.01.2019 AKŞAM 103.28\n07.01.2019 STAR 100.874\n07.01.2019 P.FOTOMAÇ 80.97\n07.01.2019 FANATİK 75.429\n07.01.2019 KORKUSUZ 53.67\n07.01.2019 AYDINLIK 51.361999999999995\n07.01.2019 YENİ ASIR 50.942\n07.01.2019 YENİ AKİT 50.463\n07.01.2019 CUMHURİYET 32.169000000000004\n07.01.2019 DOĞRU HABER 14.35\n07.01.2019 KARAR 11.039000000000001\n07.01.2019\n14.01.2019 SABAH 274.209\n14.01.2019 HÜRRİYET 262.306\n14.01.2019 SÖZCÜ 250.74200000000002\n14.01.2019 POSTA 189.082\n14.01.2019 TÜRKİYE 133.798\n14.01.2019 MİLLİYET 128.787\n14.01.2019 YENİ ŞAFAK 109.931\n14.01.2019 TAKVİM 106.146\n14.01.2019 GÜNEŞ 103.369\n14.01.2019 AKŞAM 102.602\n14.01.2019 STAR 100.749\n14.01.2019 P.FOTOMAÇ 79.706\n14.01.2019 FANATİK 77.811\n14.01.2019 KORKUSUZ 54.542\n14.01.2019 AYDINLIK 51.608999999999995\n14.01.2019 YENİ ASIR 51.272\n14.01.2019 YENİ AKİT 50.596000000000004\n14.01.2019 CUMHURİYET 31.173000000000002\n14.01.2019 DOĞRU HABER 14.364\n14.01.2019 KARAR 11.06\n14.01.2019\n21.01.2019 SABAH 274.277\n21.01.2019 HÜRRİYET 253.084\n21.01.2019 SÖZCÜ 249.39700000000002\n21.01.2019 POSTA 184.58900000000003\n21.01.2019 TÜRKİYE 133.976\n21.01.2019 MİLLİYET 126.715\n21.01.2019 YENİ ŞAFAK 109.89\n21.01.2019 TAKVİM 105.807\n21.01.2019 GÜNEŞ 103.211\n21.01.2019 AKŞAM 102.465\n21.01.2019 STAR 100.697\n21.01.2019 P.FOTOMAÇ 82.22200000000001\n21.01.2019 FANATİK 79.118\n21.01.2019 KORKUSUZ 53.347\n21.01.2019 YENİ ASIR 51.275\n21.01.2019 YENİ AKİT 51.236000000000004\n21.01.2019 AYDINLIK 50.73\n21.01.2019 CUMHURİYET 31.43\n21.01.2019 DOĞRU HABER 14.357000000000001\n21.01.2019 KARAR 11.133\n21.01.2019\n28.01.2019 SABAH 275.247\n28.01.2019 HÜRRİYET 253.74099999999999\n28.01.2019 SÖZCÜ 247.547\n28.01.2019 POSTA 187.166\n28.01.2019 TÜRKİYE 134.487\n28.01.2019 MİLLİYET 126.689\n28.01.2019 YENİ ŞAFAK 110.10799999999999\n28.01.2019 TAKVİM 106.493\n28.01.2019 GÜNEŞ 103.32\n28.01.2019 AKŞAM 102.844\n28.01.2019 STAR 101.006\n28.01.2019 P.FOTOMAÇ 84.791\n28.01.2019 FANATİK 80.98100000000001\n28.01.2019 KORKUSUZ 53.714\n28.01.2019 YENİ ASIR 51.341\n28.01.2019 YENİ AKİT 51.18899999999999\n28.01.2019 AYDINLIK 50.475\n28.01.2019 CUMHURİYET 29.546999999999997\n28.01.2019 DOĞRU HABER 14.251\n28.01.2019 KARAR 11.208\n28.01.2019\n04.02.2019 SABAH 276.11400000000003\n04.02.2019 HÜRRİYET 258.86400000000003\n04.02.2019 SÖZCÜ 246.18599999999998\n04.02.2019 POSTA 186.486\n04.02.2019 TÜRKİYE 134.327\n04.02.2019 MİLLİYET 131.055\n04.02.2019 YENİ ŞAFAK 110.054\n04.02.2019 TAKVİM 105.882\n04.02.2019 GÜNEŞ 103.27\n04.02.2019 AKŞAM 102.585\n04.02.2019 STAR 101.073\n04.02.2019 P.FOTOMAÇ 82.449\n04.02.2019 FANATİK 80.094\n04.02.2019 KORKUSUZ 53.56399999999999\n04.02.2019 YENİ AKİT 51.309\n04.02.2019 YENİ ASIR 50.961000000000006\n04.02.2019 AYDINLIK 46.927\n04.02.2019 CUMHURİYET 29.997\n04.02.2019 DOĞRU HABER 14.206\n04.02.2019 KARAR 11.311\n04.02.2019\n11.02.2019 SABAH 274.841\n11.02.2019 HÜRRİYET 256.257\n11.02.2019 SÖZCÜ 245.19400000000002\n11.02.2019 POSTA 188.683\n11.02.2019 TÜRKİYE 134.716\n11.02.2019 MİLLİYET 130.122\n11.02.2019 YENİ ŞAFAK 109.946\n11.02.2019 TAKVİM 104.94200000000001\n11.02.2019 GÜNEŞ 103.552\n11.02.2019 AKŞAM 102.807\n11.02.2019 STAR 101.161\n11.02.2019 P.FOTOMAÇ 82.486\n11.02.2019 FANATİK 78.812\n11.02.2019 KORKUSUZ 53.294\n11.02.2019 YENİ AKİT 51.266999999999996\n11.02.2019 YENİ ASIR 50.873999999999995\n11.02.2019 AYDINLIK 49.595\n11.02.2019 CUMHURİYET 29.18\n11.02.2019 DOĞRU HABER 14.088\n11.02.2019 KARAR 11.347000000000001\n11.02.2019\n18.02.2019 SABAH 274.64\n18.02.2019 HÜRRİYET 257.275\n18.02.2019 SÖZCÜ 245.972\n18.02.2019 POSTA 185.253\n18.02.2019 TÜRKİYE 135.343\n18.02.2019 MİLLİYET 126.71700000000001\n18.02.2019 YENİ ŞAFAK 109.488\n18.02.2019 TAKVİM 103.962\n18.02.2019 GÜNEŞ 103.51100000000001\n18.02.2019 AKŞAM 102.54700000000001\n18.02.2019 STAR 101.256\n18.02.2019 P.FOTOMAÇ 81.13\n18.02.2019 FANATİK 78.673\n18.02.2019 KORKUSUZ 53.553999999999995\n18.02.2019 YENİ ASIR 52.482\n18.02.2019 YENİ AKİT 51.178999999999995\n18.02.2019 AYDINLIK 47.163999999999994\n18.02.2019 CUMHURİYET 29.014\n18.02.2019 DOĞRU HABER 13.993\n18.02.2019 KARAR 11.347999999999999\n18.02.2019\n25.02.2019 SABAH 276.659\n25.02.2019 HÜRRİYET 257.248\n25.02.2019 SÖZCÜ 247.69\n25.02.2019 POSTA 187.8\n25.02.2019 TÜRKİYE 135.762\n25.02.2019 MİLLİYET 135.537\n25.02.2019 YENİ ŞAFAK 109.46799999999999\n25.02.2019 TAKVİM 104.33200000000001\n25.02.2019 GÜNEŞ 103.477\n25.02.2019 AKŞAM 102.72399999999999\n25.02.2019 STAR 101.395\n25.02.2019 P.FOTOMAÇ 82.74600000000001\n25.02.2019 FANATİK 79.643\n25.02.2019 KORKUSUZ 54.126000000000005\n25.02.2019 YENİ ASIR 52.321999999999996\n25.02.2019 YENİ AKİT 51.324\n25.02.2019 AYDINLIK 46.851000000000006\n25.02.2019 CUMHURİYET 29.909000000000002\n25.02.2019 DOĞRU HABER 13.914000000000001\n25.02.2019 KARAR 11.427999999999999\n25.02.2019\n04.03.2019 SABAH 278.95\n04.03.2019 HÜRRİYET 260.69\n04.03.2019 SÖZCÜ 248.38099999999997\n04.03.2019 POSTA 182.7\n04.03.2019 TÜRKİYE 135.029\n04.03.2019 MİLLİYET 130.371\n04.03.2019 YENİ ŞAFAK 109.29299999999999\n04.03.2019 TAKVİM 103.64\n04.03.2019 GÜNEŞ 103.28200000000001\n04.03.2019 AKŞAM 102.697\n04.03.2019 STAR 102.415\n04.03.2019 P.FOTOMAÇ 80.904\n04.03.2019 FANATİK 78.5\n04.03.2019 KORKUSUZ 53.95399999999999\n04.03.2019 YENİ ASIR 51.989\n04.03.2019 YENİ AKİT 51.226000000000006\n04.03.2019 AYDINLIK 49.611999999999995\n04.03.2019 CUMHURİYET 30.14\n04.03.2019 DOĞRU HABER 13.869000000000002\n04.03.2019 KARAR 11.512\n04.03.2019\n11.03.2019 SABAH 277.12\n11.03.2019 HÜRRİYET 256.065\n11.03.2019 SÖZCÜ 249.322\n11.03.2019 POSTA 192.769\n11.03.2019 TÜRKİYE 135.18\n11.03.2019 MİLLİYET 129.379\n11.03.2019 YENİ ŞAFAK 109.405\n11.03.2019 GÜNEŞ 103.29799999999999\n11.03.2019 TAKVİM 103.055\n11.03.2019 AKŞAM 102.47200000000001\n11.03.2019 STAR 101.46700000000001\n11.03.2019 P.FOTOMAÇ 80.83\n11.03.2019 FANATİK 79.01\n11.03.2019 YENİ ASIR 54.222\n11.03.2019 KORKUSUZ 53.607\n11.03.2019 YENİ AKİT 51.199\n11.03.2019 CUMHURİYET 29.578000000000003\n11.03.2019 AYDINLIK 28.098000000000003\n11.03.2019 DOĞRU HABER 13.888\n11.03.2019 KARAR 11.475\n11.03.2019\n18.03.2019 SABAH 274.3\n18.03.2019 HÜRRİYET 253.31599999999997\n18.03.2019 SÖZCÜ 253.13099999999997\n18.03.2019 POSTA 193.753\n18.03.2019 TÜRKİYE 135.34\n18.03.2019 MİLLİYET 133.26\n18.03.2019 YENİ ŞAFAK 109.245\n18.03.2019 GÜNEŞ 103.21\n18.03.2019 TAKVİM 102.87100000000001\n18.03.2019 AKŞAM 102.23\n18.03.2019 STAR 101.73\n18.03.2019 FANATİK 77.687\n18.03.2019 P.FOTOMAÇ 74.583\n18.03.2019 KORKUSUZ 54.376000000000005\n18.03.2019 YENİ ASIR 52.333999999999996\n18.03.2019 YENİ AKİT 51.04600000000001\n18.03.2019 CUMHURİYET 33.196\n18.03.2019 AYDINLIK 25.052\n18.03.2019 DOĞRU HABER 13.732000000000001\n18.03.2019 KARAR 11.482999999999999\n18.03.2019\n25.03.2019 SABAH 284.552\n25.03.2019 SÖZCÜ 253.75900000000001\n25.03.2019 HÜRRİYET 253.013\n25.03.2019 POSTA 177.65599999999998\n25.03.2019 TÜRKİYE 136.4\n25.03.2019 MİLLİYET 133.953\n25.03.2019 YENİ ŞAFAK 109.056\n25.03.2019 TAKVİM 102.06200000000001\n25.03.2019 GÜNEŞ 102.021\n25.03.2019 AKŞAM 101.829\n25.03.2019 STAR 101.765\n25.03.2019 P.FOTOMAÇ 71.16199999999999\n25.03.2019 FANATİK 69.46\n25.03.2019 KORKUSUZ 54.433\n25.03.2019 YENİ ASIR 51.406000000000006\n25.03.2019 YENİ AKİT 50.849\n25.03.2019 CUMHURİYET 31.493000000000002\n25.03.2019 AYDINLIK 24.339000000000002\n25.03.2019 DOĞRU HABER 13.809000000000001\n25.03.2019 KARAR 11.46\n25.03.2019\n01.04.2019 SÖZCÜ 279.847\n01.04.2019 SABAH 277.539\n01.04.2019 HÜRRİYET 252.72799999999998\n01.04.2019 POSTA 174.97\n01.04.2019 TÜRKİYE 134.08100000000002\n01.04.2019 MİLLİYET 127.052\n01.04.2019 YENİ ŞAFAK 108.92200000000001\n01.04.2019 AKŞAM 102.85799999999999\n01.04.2019 GÜNEŞ 102.79299999999999\n01.04.2019 TAKVİM 102.70200000000001\n01.04.2019 STAR 101.137\n01.04.2019 P.FOTOMAÇ 76.617\n01.04.2019 FANATİK 76.415\n01.04.2019 KORKUSUZ 57.905\n01.04.2019 YENİ AKİT 51.016999999999996\n01.04.2019 YENİ ASIR 50.632\n01.04.2019 CUMHURİYET 33.364000000000004\n01.04.2019 AYDINLIK 24.276999999999997\n01.04.2019 DOĞRU HABER 13.592\n01.04.2019 KARAR 11.584000000000001\n01.04.2019\n08.04.2019 SABAH 275.085\n08.04.2019 SÖZCÜ 264.991\n08.04.2019 HÜRRİYET 248.74900000000002\n08.04.2019 POSTA 171.234\n08.04.2019 TÜRKİYE 133.34799999999998\n08.04.2019 MİLLİYET 126.404\n08.04.2019 YENİ ŞAFAK 108.791\n08.04.2019 GÜNEŞ 102.37899999999999\n08.04.2019 AKŞAM 102.05799999999999\n08.04.2019 TAKVİM 101.757\n08.04.2019 STAR 100.694\n08.04.2019 P.FOTOMAÇ 77.597\n08.04.2019 FANATİK 76.747\n08.04.2019 KORKUSUZ 57.206\n08.04.2019 YENİ AKİT 50.778999999999996\n08.04.2019 YENİ ASIR 49.902\n08.04.2019 CUMHURİYET 31.861\n08.04.2019 AYDINLIK 22.75\n08.04.2019 DOĞRU HABER 13.644\n08.04.2019 KARAR 11.537\n08.04.2019\n15.04.2019 SABAH 275.147\n15.04.2019 SÖZCÜ 267.293\n15.04.2019 HÜRRİYET 246.373\n15.04.2019 POSTA 170.25599999999997\n15.04.2019 TÜRKİYE 133.885\n15.04.2019 MİLLİYET 126.60799999999999\n15.04.2019 YENİ ŞAFAK 108.76299999999999\n15.04.2019 GÜNEŞ 102.20200000000001\n15.04.2019 AKŞAM 101.916\n15.04.2019 TAKVİM 101.507\n15.04.2019 STAR 100.572\n15.04.2019 P.FOTOMAÇ 76.96300000000001\n15.04.2019 FANATİK 76.385\n15.04.2019 KORKUSUZ 58.611000000000004\n15.04.2019 YENİ ASIR 58.051\n15.04.2019 YENİ AKİT 50.871\n15.04.2019 CUMHURİYET 35.478\n15.04.2019 AYDINLIK 19.358\n15.04.2019 DOĞRU HABER 13.655999999999999\n15.04.2019 KARAR 11.529000000000002\n15.04.2019\n22.04.2019 SABAH 273.267\n22.04.2019 SÖZCÜ 266.808\n22.04.2019 HÜRRİYET 245.585\n22.04.2019 POSTA 169.317\n22.04.2019 TÜRKİYE 134.366\n22.04.2019 MİLLİYET 126.501\n22.04.2019 YENİ ŞAFAK 108.605\n22.04.2019 AKŞAM 102.262\n22.04.2019 TAKVİM 101.818\n22.04.2019 GÜNEŞ 101.765\n22.04.2019 STAR 100.60700000000001\n22.04.2019 P.FOTOMAÇ 78.547\n22.04.2019 FANATİK 77.158\n22.04.2019 KORKUSUZ 58.483999999999995\n22.04.2019 YENİ ASIR 51.422\n22.04.2019 YENİ AKİT 50.903999999999996\n22.04.2019 YENİ BİRLİK 31.816\n22.04.2019 CUMHURİYET 31.666\n22.04.2019 AYDINLIK 17.128\n22.04.2019 DOĞRU HABER 13.782\n22.04.2019 KARAR 11.624\n22.04.2019\n29.04.2019 SABAH 272.85400000000004\n29.04.2019 SÖZCÜ 260.755\n29.04.2019 HÜRRİYET 242.726\n29.04.2019 POSTA 168.10299999999998\n29.04.2019 TÜRKİYE 133.761\n29.04.2019 MİLLİYET 126.374\n29.04.2019 YENİ ŞAFAK 108.815\n29.04.2019 GÜNEŞ 101.574\n29.04.2019 AKŞAM 101.557\n29.04.2019 TAKVİM 101.12200000000001\n29.04.2019 STAR 100.59899999999999\n29.04.2019 P.FOTOMAÇ 77.479\n29.04.2019 FANATİK 76.70100000000001\n29.04.2019 KORKUSUZ 57.911\n29.04.2019 YENİ AKİT 56.317\n29.04.2019 YENİ ASIR 50.753\n29.04.2019 YENİ BİRLİK 31.811\n29.04.2019 CUMHURİYET 30.436999999999998\n29.04.2019 AYDINLIK 19.959\n29.04.2019 DOĞRU HABER 13.708\n29.04.2019 KARAR 11.654000000000002\n29.04.2019\n06.05.2019 SÖZCÜ 270.509\n06.05.2019 SABAH 267.781\n06.05.2019 HÜRRİYET 238.665\n06.05.2019 POSTA 163.31\n06.05.2019 TÜRKİYE 130.42700000000002\n06.05.2019 MİLLİYET 125.585\n06.05.2019 YENİ ŞAFAK 107.95\n06.05.2019 AKŞAM 100.902\n06.05.2019 TAKVİM 100.81200000000001\n06.05.2019 GÜNEŞ 100.67200000000001\n06.05.2019 STAR 100.01700000000001\n06.05.2019 P.FOTOMAÇ 76.083\n06.05.2019 FANATİK 74.137\n06.05.2019 KORKUSUZ 60.18600000000001\n06.05.2019 YENİ AKİT 58.157\n06.05.2019 YENİ ASIR 50.628\n06.05.2019 CUMHURİYET 32.054\n06.05.2019 YENİ BİRLİK 31.791\n06.05.2019 AYDINLIK 20.801\n06.05.2019 DOĞRU HABER 13.477\n06.05.2019 KARAR 11.738\n06.05.2019\n13.05.2019 SÖZCÜ 267.716\n13.05.2019 SABAH 267.422\n13.05.2019 HÜRRİYET 236.96200000000002\n13.05.2019 POSTA 160.29\n13.05.2019 TÜRKİYE 129.55700000000002\n13.05.2019 MİLLİYET 125.67399999999999\n13.05.2019 YENİ ŞAFAK 105.64\n13.05.2019 GÜNEŞ 101.40799999999999\n13.05.2019 AKŞAM 101.34899999999999\n13.05.2019 STAR 100.527\n13.05.2019 TAKVİM 100.016\n13.05.2019 P.FOTOMAÇ 75.49\n13.05.2019 FANATİK 73.038\n13.05.2019 KORKUSUZ 60.106\n13.05.2019 YENİ AKİT 57.867\n13.05.2019 YENİ ASIR 50.589\n13.05.2019 CUMHURİYET 35.608000000000004\n13.05.2019 YENİ BİRLİK 31.785999999999998\n13.05.2019 AYDINLIK 20.781999999999996\n13.05.2019 DOĞRU HABER 13.463\n13.05.2019 KARAR 11.773\n13.05.2019\n20.05.2019 SABAH 268.97900000000004\n20.05.2019 SÖZCÜ 261.916\n20.05.2019 HÜRRİYET 237.50400000000002\n20.05.2019 POSTA 160.27700000000002\n20.05.2019 TÜRKİYE 130.076\n20.05.2019 MİLLİYET 125.962\n20.05.2019 TAKVİM 104.37700000000001\n20.05.2019 AKŞAM 101.79299999999999\n20.05.2019 GÜNEŞ 101.65899999999999\n20.05.2019 YENİ ŞAFAK 101.652\n20.05.2019 STAR 100.999\n20.05.2019 P.FOTOMAÇ 76.806\n20.05.2019 FANATİK 74.843\n20.05.2019 KORKUSUZ 59.864\n20.05.2019 YENİ AKİT 57.84\n20.05.2019 YENİ ASIR 50.378\n20.05.2019 YENİ BİRLİK 31.781999999999996\n20.05.2019 CUMHURİYET 31.284000000000002\n20.05.2019 AYDINLIK 20.534000000000002\n20.05.2019 DOĞRU HABER 13.457\n20.05.2019 KARAR 11.751\n20.05.2019\n27.05.2019 SABAH 268.073\n27.05.2019 SÖZCÜ 261.64099999999996\n27.05.2019 HÜRRİYET 231.32299999999998\n27.05.2019 POSTA 159.041\n27.05.2019 TÜRKİYE 129.515\n27.05.2019 MİLLİYET 126.15799999999999\n27.05.2019 TAKVİM 105.279\n27.05.2019 AKŞAM 101.948\n27.05.2019 GÜNEŞ 101.87299999999999\n27.05.2019 YENİ ŞAFAK 101.65299999999999\n27.05.2019 STAR 101.162\n27.05.2019 P.FOTOMAÇ 73.729\n27.05.2019 FANATİK 73.143\n27.05.2019 KORKUSUZ 61.705\n27.05.2019 YENİ AKİT 57.838\n27.05.2019 YENİ ASIR 50.451\n27.05.2019 YENİ BİRLİK 31.8\n27.05.2019 CUMHURİYET 30.605999999999998\n27.05.2019 AYDINLIK 20.477999999999998\n27.05.2019 DOĞRU HABER 13.432\n27.05.2019 KARAR 11.793\n27.05.2019\n03.06.2019 SÖZCÜ 255.05900000000003\n03.06.2019 SABAH 252.62599999999998\n03.06.2019 HÜRRİYET 204.50599999999997\n03.06.2019 POSTA 146.811\n03.06.2019 MİLLİYET 124.802\n03.06.2019 TÜRKİYE 123.913\n03.06.2019 GÜNEŞ 102.891\n03.06.2019 AKŞAM 102.212\n03.06.2019 STAR 101.21700000000001\n03.06.2019 TAKVİM 101.21\n03.06.2019 YENİ ŞAFAK 97.706\n03.06.2019 FANATİK 75.863\n03.06.2019 P.FOTOMAÇ 74.994\n03.06.2019 KORKUSUZ 61.923\n03.06.2019 YENİ AKİT 57.92\n03.06.2019 YENİ ASIR 49.961999999999996\n03.06.2019 YENİ BİRLİK 31.785\n03.06.2019 CUMHURİYET 30.06\n03.06.2019 AYDINLIK 20.058\n03.06.2019 DOĞRU HABER 13.208\n03.06.2019 KARAR 11.648\n03.06.2019\n10.06.2019 SABAH 270.216\n10.06.2019 SÖZCÜ 265.476\n10.06.2019 HÜRRİYET 226.50900000000001\n10.06.2019 POSTA 163.19299999999998\n10.06.2019 TÜRKİYE 129.386\n10.06.2019 MİLLİYET 125.85\n10.06.2019 TAKVİM 104.072\n10.06.2019 GÜNEŞ 102.256\n10.06.2019 YENİ ŞAFAK 102.195\n10.06.2019 AKŞAM 102.162\n10.06.2019 STAR 101.596\n10.06.2019 FANATİK 74.807\n10.06.2019 P.FOTOMAÇ 73.91199999999999\n10.06.2019 KORKUSUZ 61.236999999999995\n10.06.2019 YENİ AKİT 57.922\n10.06.2019 YENİ ASIR 50.618\n10.06.2019 YENİ BİRLİK 31.805999999999997\n10.06.2019 CUMHURİYET 30.804000000000002\n10.06.2019 AYDINLIK 20.165\n10.06.2019 DOĞRU HABER 13.422\n10.06.2019 KARAR 11.595999999999998\n10.06.2019\n17.06.2019 SÖZCÜ 273.251\n17.06.2019 SABAH 271.44\n17.06.2019 HÜRRİYET 227.80599999999998\n17.06.2019 POSTA 164.862\n17.06.2019 TÜRKİYE 129.487\n17.06.2019 MİLLİYET 126.10700000000001\n17.06.2019 TAKVİM 104.72399999999999\n17.06.2019 AKŞAM 102.506\n17.06.2019 YENİ ŞAFAK 102.381\n17.06.2019 GÜNEŞ 102.085\n17.06.2019 STAR 101.822\n17.06.2019 FANATİK 74.785\n17.06.2019 P.FOTOMAÇ 72.438\n17.06.2019 KORKUSUZ 61.501000000000005\n17.06.2019 YENİ AKİT 58.06100000000001\n17.06.2019 YENİ ASIR 50.625\n17.06.2019 YENİ BİRLİK 31.759\n17.06.2019 CUMHURİYET 31.176\n17.06.2019 AYDINLIK 20.142\n17.06.2019 DOĞRU HABER 13.394\n17.06.2019 KARAR 11.437000000000001\n17.06.2019\n24.06.2019 SÖZCÜ 291.681\n24.06.2019 SABAH 268.909\n24.06.2019 HÜRRİYET 232.335\n24.06.2019 POSTA 167.283\n24.06.2019 TÜRKİYE 129.891\n24.06.2019 MİLLİYET 126.15299999999999\n24.06.2019 TAKVİM 105.031\n24.06.2019 AKŞAM 102.63799999999999\n24.06.2019 GÜNEŞ 102.34700000000001\n24.06.2019 YENİ ŞAFAK 102.28200000000001\n24.06.2019 STAR 101.726\n24.06.2019 FANATİK 77.555\n24.06.2019 P.FOTOMAÇ 74.794\n24.06.2019 KORKUSUZ 66.176\n24.06.2019 YENİ AKİT 58.191\n24.06.2019 YENİ ASIR 50.768\n24.06.2019 CUMHURİYET 33.382\n24.06.2019 YENİ BİRLİK 31.767\n24.06.2019 AYDINLIK 19.91\n24.06.2019 DOĞRU HABER 13.311\n24.06.2019 KARAR 11.585999999999999\n24.06.2019\n01.07.2019 SÖZCÜ 279.575\n01.07.2019 SABAH 267.448\n01.07.2019 HÜRRİYET 218.99\n01.07.2019 POSTA 169.52900000000002\n01.07.2019 TÜRKİYE 128.828\n01.07.2019 MİLLİYET 126.38600000000001\n01.07.2019 TAKVİM 106.804\n01.07.2019 AKŞAM 102.666\n01.07.2019 YENİ ŞAFAK 102.48200000000001\n01.07.2019 GÜNEŞ 101.85600000000001\n01.07.2019 STAR 101.73100000000001\n01.07.2019 FANATİK 75.28399999999999\n01.07.2019 P.FOTOMAÇ 74.243\n01.07.2019 KORKUSUZ 62.635\n01.07.2019 YENİ AKİT 57.424\n01.07.2019 YENİ ASIR 50.725\n01.07.2019 YENİ BİRLİK 31.761999999999997\n01.07.2019 CUMHURİYET 30.945\n01.07.2019 AYDINLIK 20.277\n01.07.2019 DOĞRU HABER 13.267999999999999\n01.07.2019 KARAR 11.46\n01.07.2019\n08.07.2019 SÖZCÜ 279.082\n08.07.2019 SABAH 267.552\n08.07.2019 HÜRRİYET 220.308\n08.07.2019 POSTA 171.229\n08.07.2019 TÜRKİYE 128.528\n08.07.2019 MİLLİYET 126.353\n08.07.2019 TAKVİM 105.98299999999999\n08.07.2019 YENİ ŞAFAK 102.78399999999999\n08.07.2019 AKŞAM 102.76700000000001\n08.07.2019 STAR 101.939\n08.07.2019 GÜNEŞ 101.76899999999999\n08.07.2019 FANATİK 76.26\n08.07.2019 P.FOTOMAÇ 74.764\n08.07.2019 KORKUSUZ 61.626000000000005\n08.07.2019 YENİ AKİT 57.433\n08.07.2019 YENİ ASIR 50.693999999999996\n08.07.2019 YENİ BİRLİK 31.725\n08.07.2019 CUMHURİYET 30.78\n08.07.2019 AYDINLIK 20.253\n08.07.2019 DOĞRU HABER 13.099\n08.07.2019 KARAR 11.28\n08.07.2019\n15.07.2019 SÖZCÜ 276.543\n15.07.2019 SABAH 268.02299999999997\n15.07.2019 HÜRRİYET 221.019\n15.07.2019 POSTA 172.27700000000002\n15.07.2019 TÜRKİYE 129.007\n15.07.2019 MİLLİYET 126.01\n15.07.2019 TAKVİM 106.109\n15.07.2019 YENİ ŞAFAK 104.126\n15.07.2019 AKŞAM 103.105\n15.07.2019 STAR 102.152\n15.07.2019 GÜNEŞ 102.06\n15.07.2019 FANATİK 78.923\n15.07.2019 P.FOTOMAÇ 76.84\n15.07.2019 KORKUSUZ 60.545\n15.07.2019 YENİ AKİT 57.501999999999995\n15.07.2019 YENİ ASIR 50.79600000000001\n15.07.2019 CUMHURİYET 31.926\n15.07.2019 YENİ BİRLİK 31.736\n15.07.2019 AYDINLIK 20.051\n15.07.2019 DOĞRU HABER 13.12\n15.07.2019 KARAR 10.844000000000001\n15.07.2019\n22.07.2019 SÖZCÜ 274.031\n22.07.2019 SABAH 267.11\n22.07.2019 HÜRRİYET 221.733\n22.07.2019 POSTA 175.32\n22.07.2019 TÜRKİYE 129.86\n22.07.2019 MİLLİYET 126.45\n22.07.2019 TAKVİM 105.801\n22.07.2019 YENİ ŞAFAK 104.146\n22.07.2019 GÜNEŞ 103.196\n22.07.2019 AKŞAM 102.66\n22.07.2019 STAR 102.04\n22.07.2019 FANATİK 77.47\n22.07.2019 P.FOTOMAÇ 76.513\n22.07.2019 KORKUSUZ 61.61600000000001\n22.07.2019 YENİ AKİT 57.42\n22.07.2019 YENİ ASIR 50.635\n22.07.2019 CUMHURİYET 32.647\n22.07.2019 YENİ BİRLİK 31.729\n22.07.2019 AYDINLIK 19.695999999999998\n22.07.2019 DOĞRU HABER 13.127\n22.07.2019 KARAR 10.882\n22.07.2019\n29.07.2019 SÖZCÜ 270.151\n29.07.2019 SABAH 266.7\n29.07.2019 HÜRRİYET 220.916\n29.07.2019 POSTA 171.592\n29.07.2019 TÜRKİYE 129.537\n29.07.2019 MİLLİYET 125.596\n29.07.2019 TAKVİM 105.417\n29.07.2019 YENİ ŞAFAK 104.06200000000001\n29.07.2019 GÜNEŞ 103.01100000000001\n29.07.2019 AKŞAM 102.355\n29.07.2019 STAR 102.03200000000001\n29.07.2019 P.FOTOMAÇ 76.546\n29.07.2019 FANATİK 76.32300000000001\n29.07.2019 KORKUSUZ 61.488\n29.07.2019 YENİ AKİT 57.361000000000004\n29.07.2019 YENİ ASIR 50.751000000000005\n29.07.2019 YENİ BİRLİK 31.735\n29.07.2019 CUMHURİYET 30.82\n29.07.2019 AYDINLIK 17.171\n29.07.2019 DOĞRU HABER 13.125\n29.07.2019 KARAR 10.832\n29.07.2019\n05.08.2019 SABAH 260.411\n05.08.2019 SÖZCÜ 260.14799999999997\n05.08.2019 HÜRRİYET 212.87099999999998\n05.08.2019 POSTA 162.042\n05.08.2019 TÜRKİYE 127.887\n05.08.2019 MİLLİYET 125.318\n05.08.2019 YENİ ŞAFAK 103.575\n05.08.2019 TAKVİM 103.17\n05.08.2019 GÜNEŞ 102.508\n05.08.2019 AKŞAM 102.225\n05.08.2019 STAR 102.00399999999999\n05.08.2019 P.FOTOMAÇ 76.291\n05.08.2019 FANATİK 74.31\n05.08.2019 KORKUSUZ 61.518\n05.08.2019 YENİ AKİT 57.383\n05.08.2019 YENİ ASIR 50.303999999999995\n05.08.2019 YENİ BİRLİK 31.73\n05.08.2019 CUMHURİYET 29.956\n05.08.2019 AYDINLIK 15.037\n05.08.2019 DOĞRU HABER 13.305\n05.08.2019 KARAR 10.805\n05.08.2019\n12.08.2019 SÖZCÜ 256.842\n12.08.2019 SABAH 251.632\n12.08.2019 HÜRRİYET 209.197\n12.08.2019 POSTA 155.81799999999998\n12.08.2019 MİLLİYET 123.98\n12.08.2019 TÜRKİYE 123.616\n12.08.2019 YENİ ŞAFAK 105.743\n12.08.2019 GÜNEŞ 101.779\n12.08.2019 STAR 101.54899999999999\n12.08.2019 AKŞAM 101.295\n12.08.2019 TAKVİM 101.181\n12.08.2019 P.FOTOMAÇ 80.445\n12.08.2019 FANATİK 78.755\n12.08.2019 KORKUSUZ 63.07899999999999\n12.08.2019 YENİ AKİT 56.982\n12.08.2019 YENİ ASIR 50.129\n12.08.2019 YENİ BİRLİK 31.72\n12.08.2019 CUMHURİYET 29.089000000000002\n12.08.2019 AYDINLIK 14.619000000000002\n12.08.2019 DOĞRU HABER 12.892000000000001\n12.08.2019 KARAR 10.663\n12.08.2019\n19.08.2019 SABAH 265.05400000000003\n19.08.2019 SÖZCÜ 263.233\n19.08.2019 HÜRRİYET 218.93099999999998\n19.08.2019 POSTA 168.986\n19.08.2019 TÜRKİYE 128.519\n19.08.2019 MİLLİYET 125.631\n19.08.2019 TAKVİM 105.459\n19.08.2019 YENİ ŞAFAK 103.947\n19.08.2019 GÜNEŞ 102.137\n19.08.2019 AKŞAM 101.751\n19.08.2019 STAR 101.329\n19.08.2019 P.FOTOMAÇ 82.99700000000001\n19.08.2019 FANATİK 78.819\n19.08.2019 KORKUSUZ 61.175\n19.08.2019 YENİ AKİT 57.088\n19.08.2019 YENİ ASIR 50.797\n19.08.2019 YENİ BİRLİK 31.738000000000003\n19.08.2019 CUMHURİYET 31.587\n19.08.2019 AYDINLIK 14.864\n19.08.2019 DOĞRU HABER 13.127\n19.08.2019 KARAR 10.877\n19.08.2019\n26.08.2019 SABAH 264.29200000000003\n26.08.2019 SÖZCÜ 263.82\n26.08.2019 HÜRRİYET 218.173\n26.08.2019 POSTA 167.929\n26.08.2019 TÜRKİYE 128.66\n26.08.2019 MİLLİYET 125.431\n26.08.2019 TAKVİM 104.96600000000001\n26.08.2019 YENİ ŞAFAK 103.103\n26.08.2019 GÜNEŞ 101.86\n26.08.2019 AKŞAM 100.971\n26.08.2019 STAR 100.917\n26.08.2019 P.FOTOMAÇ 82.14\n26.08.2019 FANATİK 78.98\n26.08.2019 KORKUSUZ 60.745\n26.08.2019 YENİ AKİT 57.001000000000005\n26.08.2019 YENİ ASIR 50.708999999999996\n26.08.2019 CUMHURİYET 32.754\n26.08.2019 YENİ BİRLİK 31.721\n26.08.2019 AYDINLIK 14.968\n26.08.2019 DOĞRU HABER 13.130999999999998\n26.08.2019 KARAR 10.859000000000002\n26.08.2019\n02.09.2019 SABAH 263.445\n02.09.2019 SÖZCÜ 261.89599999999996\n02.09.2019 HÜRRİYET 217.393\n02.09.2019 POSTA 165.49099999999999\n02.09.2019 TÜRKİYE 127.98299999999999\n02.09.2019 MİLLİYET 125.395\n02.09.2019 TAKVİM 104.279\n02.09.2019 YENİ ŞAFAK 103.338\n02.09.2019 GÜNEŞ 102.04\n02.09.2019 AKŞAM 101.305\n02.09.2019 STAR 101.18299999999999\n02.09.2019 P.FOTOMAÇ 74.316\n02.09.2019 FANATİK 73.729\n02.09.2019 KORKUSUZ 60.828\n02.09.2019 YENİ AKİT 57.06399999999999\n02.09.2019 YENİ ASIR 50.723\n02.09.2019 YENİ BİRLİK 31.709\n02.09.2019 CUMHURİYET 29.95\n02.09.2019 AYDINLIK 15.137\n02.09.2019 DOĞRU HABER 13.084000000000001\n02.09.2019 KARAR 10.939\n02.09.2019\n09.09.2019 SABAH 263.374\n09.09.2019 SÖZCÜ 258.344\n09.09.2019 HÜRRİYET 216.553\n09.09.2019 POSTA 165.127\n09.09.2019 TÜRKİYE 127.939\n09.09.2019 MİLLİYET 125.404\n09.09.2019 TAKVİM 103.561\n09.09.2019 YENİ ŞAFAK 103.27799999999999\n09.09.2019 GÜNEŞ 101.82\n09.09.2019 AKŞAM 101.215\n09.09.2019 STAR 101.16\n09.09.2019 P.FOTOMAÇ 72.707\n09.09.2019 FANATİK 71.335\n09.09.2019 KORKUSUZ 60.516000000000005\n09.09.2019 YENİ AKİT 56.935\n09.09.2019 YENİ ASIR 50.708\n09.09.2019 YENİ BİRLİK 31.712\n09.09.2019 CUMHURİYET 30.349\n09.09.2019 AYDINLIK 14.849\n09.09.2019 DOĞRU HABER 13.061\n09.09.2019 KARAR 11.045\n09.09.2019\n16.09.2019 SABAH 264.506\n16.09.2019 SÖZCÜ 258.941\n16.09.2019 HÜRRİYET 216.218\n16.09.2019 POSTA 164.917\n16.09.2019 TÜRKİYE 128.408\n16.09.2019 MİLLİYET 125.76\n16.09.2019 TAKVİM 103.64200000000001\n16.09.2019 YENİ ŞAFAK 103.19\n16.09.2019 GÜNEŞ 102.404\n16.09.2019 AKŞAM 101.80799999999999\n16.09.2019 STAR 101.58\n16.09.2019 P.FOTOMAÇ 73.538\n16.09.2019 FANATİK 70.926\n16.09.2019 KORKUSUZ 60.333\n16.09.2019 YENİ AKİT 56.974\n16.09.2019 YENİ ASIR 50.692\n16.09.2019 YENİ BİRLİK 31.704\n16.09.2019 CUMHURİYET 30.142\n16.09.2019 AYDINLIK 14.945\n16.09.2019 DOĞRU HABER 13.171\n16.09.2019 KARAR 11.052999999999999\n16.09.2019\n23.09.2019 SABAH 264.89099999999996\n23.09.2019 SÖZCÜ 253.97400000000002\n23.09.2019 HÜRRİYET 211.86\n23.09.2019 POSTA 164.912\n23.09.2019 TÜRKİYE 128.893\n23.09.2019 MİLLİYET 126.24799999999999\n23.09.2019 TAKVİM 103.932\n23.09.2019 YENİ ŞAFAK 103.17399999999999\n23.09.2019 GÜNEŞ 102.508\n23.09.2019 AKŞAM 101.625\n23.09.2019 STAR 101.31\n23.09.2019 P.FOTOMAÇ 71.86\n23.09.2019 FANATİK 70.006\n23.09.2019 KORKUSUZ 60.125\n23.09.2019 YENİ AKİT 57.07\n23.09.2019 YENİ ASIR 50.68\n23.09.2019 YENİ BİRLİK 31.705\n23.09.2019 CUMHURİYET 29.674\n23.09.2019 AYDINLIK 14.864\n23.09.2019 DOĞRU HABER 13.247\n23.09.2019 KARAR 10.984000000000002\n23.09.2019\n30.09.2019 SABAH 257.1\n30.09.2019 SÖZCÜ 250.433\n30.09.2019 HÜRRİYET 213.795\n30.09.2019 POSTA 163.894\n30.09.2019 TÜRKİYE 128.35299999999998\n30.09.2019 MİLLİYET 126.82700000000001\n30.09.2019 YENİ ŞAFAK 103.427\n30.09.2019 TAKVİM 102.891\n30.09.2019 GÜNEŞ 102.708\n30.09.2019 AKŞAM 101.994\n30.09.2019 STAR 101.589\n30.09.2019 P.FOTOMAÇ 70.935\n30.09.2019 FANATİK 69.07300000000001\n30.09.2019 KORKUSUZ 60.067\n30.09.2019 YENİ AKİT 57.082\n30.09.2019 YENİ ASIR 50.824\n30.09.2019 YENİ BİRLİK 31.706999999999997\n30.09.2019 CUMHURİYET 30.052\n30.09.2019 AYDINLIK 14.923\n30.09.2019 DOĞRU HABER 13.200999999999999\n30.09.2019 KARAR 10.907\n30.09.2019\n07.10.2019 SÖZCÜ 249.204\n07.10.2019 SABAH 248.58700000000002\n07.10.2019 HÜRRİYET 213.649\n07.10.2019 POSTA 163.499\n07.10.2019 TÜRKİYE 128.336\n07.10.2019 MİLLİYET 126.12\n07.10.2019 YENİ ŞAFAK 103.12\n07.10.2019 TAKVİM 102.18\n07.10.2019 GÜNEŞ 102.09299999999999\n07.10.2019 AKŞAM 101.82\n07.10.2019 STAR 101.147\n07.10.2019 FANATİK 66.345\n07.10.2019 P.FOTOMAÇ 65.641\n07.10.2019 KORKUSUZ 59.665\n07.10.2019 YENİ AKİT 56.976000000000006\n07.10.2019 YENİ ASIR 50.681999999999995\n07.10.2019 YENİ BİRLİK 31.709\n07.10.2019 CUMHURİYET 29.815\n07.10.2019 AYDINLIK 15.158\n07.10.2019 DOĞRU HABER 13.194\n07.10.2019 KARAR 10.972000000000001\n07.10.2019\n14.10.2019 SABAH 248.625\n14.10.2019 SÖZCÜ 248.56599999999997\n14.10.2019 HÜRRİYET 215.52700000000002\n14.10.2019 POSTA 162.738\n14.10.2019 TÜRKİYE 128.964\n14.10.2019 MİLLİYET 126.37100000000001\n14.10.2019 YENİ ŞAFAK 103.54899999999999\n14.10.2019 GÜNEŞ 102.488\n14.10.2019 AKŞAM 102.09299999999999\n14.10.2019 TAKVİM 101.87\n14.10.2019 STAR 101.426\n14.10.2019 P.FOTOMAÇ 68.35300000000001\n14.10.2019 FANATİK 66.191\n14.10.2019 KORKUSUZ 58.75899999999999\n14.10.2019 YENİ AKİT 57.12\n14.10.2019 YENİ ASIR 50.468999999999994\n14.10.2019 YENİ BİRLİK 31.721999999999998\n14.10.2019 CUMHURİYET 29.82\n14.10.2019 AYDINLIK 14.523\n14.10.2019 DOĞRU HABER 13.196\n14.10.2019 KARAR 10.950999999999999\n14.10.2019\n21.10.2019 SÖZCÜ 248.09099999999998\n21.10.2019 SABAH 247.97799999999998\n21.10.2019 HÜRRİYET 213.778\n21.10.2019 POSTA 162.52700000000002\n21.10.2019 TÜRKİYE 129.407\n21.10.2019 MİLLİYET 126.771\n21.10.2019 YENİ ŞAFAK 103.095\n21.10.2019 GÜNEŞ 102.81700000000001\n21.10.2019 TAKVİM 102.12\n21.10.2019 AKŞAM 101.906\n21.10.2019 STAR 101.244\n21.10.2019 P.FOTOMAÇ 69.219\n21.10.2019 FANATİK 68.146\n21.10.2019 KORKUSUZ 59.81100000000001\n21.10.2019 YENİ AKİT 56.95399999999999\n21.10.2019 YENİ ASIR 50.617\n21.10.2019 YENİ BİRLİK 31.706999999999997\n21.10.2019 CUMHURİYET 29.636999999999997\n21.10.2019 AYDINLIK 14.644\n21.10.2019 DOĞRU HABER 13.212\n21.10.2019 KARAR 10.907\n21.10.2019\n28.10.2019 SÖZCÜ 247.05599999999998\n28.10.2019 SABAH 246.127\n28.10.2019 HÜRRİYET 209.796\n28.10.2019 POSTA 161.18200000000002\n28.10.2019 TÜRKİYE 129.431\n28.10.2019 MİLLİYET 126.301\n28.10.2019 YENİ ŞAFAK 102.7\n28.10.2019 GÜNEŞ 102.421\n28.10.2019 TAKVİM 101.675\n28.10.2019 AKŞAM 101.63600000000001\n28.10.2019 STAR 100.825\n28.10.2019 FANATİK 67.807\n28.10.2019 P.FOTOMAÇ 67.792\n28.10.2019 KORKUSUZ 56.97\n28.10.2019 YENİ AKİT 56.797\n28.10.2019 YENİ ASIR 50.924\n28.10.2019 YENİ BİRLİK 31.698\n28.10.2019 CUMHURİYET 31.281\n28.10.2019 AYDINLIK 14.472999999999999\n28.10.2019 DOĞRU HABER 13.210999999999999\n28.10.2019 KARAR 10.822000000000001\n28.10.2019\n04.11.2019 SÖZCÜ 246.579\n04.11.2019 SABAH 244.734\n04.11.2019 HÜRRİYET 207.87900000000002\n04.11.2019 POSTA 160.71\n04.11.2019 TÜRKİYE 128.767\n04.11.2019 MİLLİYET 126.155\n04.11.2019 YENİ ŞAFAK 102.53200000000001\n04.11.2019 GÜNEŞ 102.37899999999999\n04.11.2019 AKŞAM 101.65700000000001\n04.11.2019 TAKVİM 101.045\n04.11.2019 STAR 100.78299999999999\n04.11.2019 P.FOTOMAÇ 67.915\n04.11.2019 FANATİK 66.37899999999999\n04.11.2019 YENİ AKİT 56.797\n04.11.2019 KORKUSUZ 56.633\n04.11.2019 YENİ ASIR 50.597\n04.11.2019 YENİ BİRLİK 31.738000000000003\n04.11.2019 CUMHURİYET 31.281\n04.11.2019 AYDINLIK 14.492\n04.11.2019 DOĞRU HABER 13.091\n04.11.2019 KARAR 10.883\n04.11.2019\n11.11.2019 SÖZCÜ 244.11700000000002\n11.11.2019 SABAH 244.025\n11.11.2019 HÜRRİYET 206.543\n11.11.2019 POSTA 160.178\n11.11.2019 TÜRKİYE 128.965\n11.11.2019 MİLLİYET 125.93700000000001\n11.11.2019 GÜNEŞ 102.094\n11.11.2019 YENİ ŞAFAK 102.04899999999999\n11.11.2019 AKŞAM 101.432\n11.11.2019 TAKVİM 101.259\n11.11.2019 STAR 100.655\n11.11.2019 FANATİK 65.257\n11.11.2019 P.FOTOMAÇ 63.92\n11.11.2019 YENİ AKİT 56.592\n11.11.2019 KORKUSUZ 56.452\n11.11.2019 YENİ ASIR 50.99100000000001\n11.11.2019 YENİ BİRLİK 31.712\n11.11.2019 CUMHURİYET 29.254\n11.11.2019 AYDINLIK 14.475999999999999\n11.11.2019 DOĞRU HABER 13.06\n11.11.2019 KARAR 10.764000000000001\n11.11.2019\n18.11.2019 SÖZCÜ 244.864\n18.11.2019 SABAH 244.076\n18.11.2019 HÜRRİYET 210.108\n18.11.2019 POSTA 160.264\n18.11.2019 TÜRKİYE 129.828\n18.11.2019 MİLLİYET 125.88\n18.11.2019 GÜNEŞ 102.31700000000001\n18.11.2019 YENİ ŞAFAK 102.05\n18.11.2019 TAKVİM 101.695\n18.11.2019 AKŞAM 101.53399999999999\n18.11.2019 STAR 100.678\n18.11.2019 P.FOTOMAÇ 66.066\n18.11.2019 FANATİK 65.501\n18.11.2019 YENİ AKİT 56.567\n18.11.2019 KORKUSUZ 55.958999999999996\n18.11.2019 YENİ ASIR 50.723\n18.11.2019 YENİ BİRLİK 31.689\n18.11.2019 CUMHURİYET 29.197\n18.11.2019 AYDINLIK 14.385\n18.11.2019 DOĞRU HABER 13.052\n18.11.2019 KARAR 10.744000000000002\n18.11.2019\n25.11.2019 SABAH 243.79\n25.11.2019 SÖZCÜ 243.195\n25.11.2019 HÜRRİYET 211.68599999999998\n25.11.2019 POSTA 160.296\n25.11.2019 TÜRKİYE 130.377\n25.11.2019 MİLLİYET 125.609\n25.11.2019 GÜNEŞ 102.221\n25.11.2019 TAKVİM 101.958\n25.11.2019 YENİ ŞAFAK 101.949\n25.11.2019 AKŞAM 101.434\n25.11.2019 STAR 100.479\n25.11.2019 P.FOTOMAÇ 66.292\n25.11.2019 FANATİK 65.391\n25.11.2019 YENİ AKİT 56.461999999999996\n25.11.2019 KORKUSUZ 56.43899999999999\n25.11.2019 YENİ ASIR 50.646\n25.11.2019 YENİ BİRLİK 32.154\n25.11.2019 CUMHURİYET 30.363000000000003\n25.11.2019 AYDINLIK 14.373\n25.11.2019 DOĞRU HABER 13.056\n25.11.2019 KARAR 10.707\n25.11.2019\n02.12.2019 SÖZCÜ 242.2\n02.12.2019 SABAH 242.19099999999997\n02.12.2019 HÜRRİYET 213.484\n02.12.2019 POSTA 160.34799999999998\n02.12.2019 TÜRKİYE 130.109\n02.12.2019 MİLLİYET 125.515\n02.12.2019 GÜNEŞ 102.14\n02.12.2019 TAKVİM 102.113\n02.12.2019 YENİ ŞAFAK 101.79899999999999\n02.12.2019 AKŞAM 101.436\n02.12.2019 STAR 100.38\n02.12.2019 P.FOTOMAÇ 66.202\n02.12.2019 FANATİK 65.563\n02.12.2019 KORKUSUZ 56.615\n02.12.2019 YENİ AKİT 56.49100000000001\n02.12.2019 YENİ ASIR 50.784\n02.12.2019 YENİ BİRLİK 32.543\n02.12.2019 CUMHURİYET 29.579\n02.12.2019 AYDINLIK 14.325999999999999\n02.12.2019 DOĞRU HABER 13.029000000000002\n02.12.2019 KARAR 10.664000000000001\n02.12.2019\n09.12.2019 SÖZCÜ 243.44799999999998\n09.12.2019 SABAH 242.722\n09.12.2019 HÜRRİYET 213.155\n09.12.2019 POSTA 160.871\n09.12.2019 TÜRKİYE 130.292\n09.12.2019 MİLLİYET 125.675\n09.12.2019 YENİ ŞAFAK 102.56700000000001\n09.12.2019 GÜNEŞ 102.316\n09.12.2019 TAKVİM 101.941\n09.12.2019 AKŞAM 101.604\n09.12.2019 STAR 100.61399999999999\n09.12.2019 P.FOTOMAÇ 66.805\n09.12.2019 FANATİK 65.407\n09.12.2019 YENİ AKİT 56.568000000000005\n09.12.2019 KORKUSUZ 55.995\n09.12.2019 YENİ ASIR 50.648999999999994\n09.12.2019 YENİ BİRLİK 32.658\n09.12.2019 CUMHURİYET 28.963\n09.12.2019 AYDINLIK 14.344000000000001\n09.12.2019 DOĞRU HABER 13.026\n09.12.2019 KARAR 10.765999999999998\n09.12.2019\n16.12.2019 SABAH 243.295\n16.12.2019 SÖZCÜ 241.938\n16.12.2019 HÜRRİYET 213.528\n16.12.2019 POSTA 160.404\n16.12.2019 TÜRKİYE 131.151\n16.12.2019 MİLLİYET 125.84700000000001\n16.12.2019 YENİ ŞAFAK 102.631\n16.12.2019 GÜNEŞ 102.359\n16.12.2019 TAKVİM 101.911\n16.12.2019 AKŞAM 101.656\n16.12.2019 STAR 101.116\n16.12.2019 P.FOTOMAÇ 65.52\n16.12.2019 FANATİK 65.357\n16.12.2019 YENİ AKİT 56.68\n16.12.2019 KORKUSUZ 55.79600000000001\n16.12.2019 YENİ ASIR 50.765\n16.12.2019 YENİ BİRLİK 32.665\n16.12.2019 CUMHURİYET 28.694000000000003\n16.12.2019 AYDINLIK 14.390999999999998\n16.12.2019 DOĞRU HABER 13.038\n16.12.2019 KARAR 10.758\n16.12.2019\n"
     ],
     "output_type": "stream"
    }
   ]
  },
  {
   "cell_type": "markdown",
   "metadata": {
    "id": "-1L3Pr_mwubD",
    "colab_type": "text"
   },
   "source": [
    "Düzleştirilmiş listeyi tekrardan DataFrame'e çevirerek csv formatında kaydedelim."
   ]
  },
  {
   "cell_type": "code",
   "metadata": {
    "pycharm": {
     "name": "#%% Convert to dataframe\n",
     "is_executing": false
    },
    "id": "ypzNvO8elmmQ",
    "colab_type": "code",
    "colab": {}
   },
   "source": [
    "rows_list_pd = pd.DataFrame(rows_list, columns=[\"date\", \"newspaper\", \"circulation\"])\n",
    "rows_list_pd.to_csv(\"tr_newspapers_2019.csv\")\n",
    "rows_list_pd"
   ],
   "execution_count": 15,
   "outputs": [
    {
     "data": {
      "text/plain": "            date    newspaper  circulation\n0     07.01.2019        SABAH      274.631\n1     07.01.2019     HÜRRİYET      258.178\n2     07.01.2019        SÖZCÜ      251.476\n3     07.01.2019        POSTA      192.729\n4     07.01.2019      TÜRKİYE      132.870\n...          ...          ...          ...\n1030  16.12.2019  YENİ BİRLİK       32.665\n1031  16.12.2019   CUMHURİYET       28.694\n1032  16.12.2019     AYDINLIK       14.391\n1033  16.12.2019  DOĞRU HABER       13.038\n1034  16.12.2019        KARAR       10.758\n\n[1035 rows x 3 columns]",
      "text/html": "<div>\n<style scoped>\n    .dataframe tbody tr th:only-of-type {\n        vertical-align: middle;\n    }\n\n    .dataframe tbody tr th {\n        vertical-align: top;\n    }\n\n    .dataframe thead th {\n        text-align: right;\n    }\n</style>\n<table border=\"1\" class=\"dataframe\">\n  <thead>\n    <tr style=\"text-align: right;\">\n      <th></th>\n      <th>date</th>\n      <th>newspaper</th>\n      <th>circulation</th>\n    </tr>\n  </thead>\n  <tbody>\n    <tr>\n      <td>0</td>\n      <td>07.01.2019</td>\n      <td>SABAH</td>\n      <td>274.631</td>\n    </tr>\n    <tr>\n      <td>1</td>\n      <td>07.01.2019</td>\n      <td>HÜRRİYET</td>\n      <td>258.178</td>\n    </tr>\n    <tr>\n      <td>2</td>\n      <td>07.01.2019</td>\n      <td>SÖZCÜ</td>\n      <td>251.476</td>\n    </tr>\n    <tr>\n      <td>3</td>\n      <td>07.01.2019</td>\n      <td>POSTA</td>\n      <td>192.729</td>\n    </tr>\n    <tr>\n      <td>4</td>\n      <td>07.01.2019</td>\n      <td>TÜRKİYE</td>\n      <td>132.870</td>\n    </tr>\n    <tr>\n      <td>...</td>\n      <td>...</td>\n      <td>...</td>\n      <td>...</td>\n    </tr>\n    <tr>\n      <td>1030</td>\n      <td>16.12.2019</td>\n      <td>YENİ BİRLİK</td>\n      <td>32.665</td>\n    </tr>\n    <tr>\n      <td>1031</td>\n      <td>16.12.2019</td>\n      <td>CUMHURİYET</td>\n      <td>28.694</td>\n    </tr>\n    <tr>\n      <td>1032</td>\n      <td>16.12.2019</td>\n      <td>AYDINLIK</td>\n      <td>14.391</td>\n    </tr>\n    <tr>\n      <td>1033</td>\n      <td>16.12.2019</td>\n      <td>DOĞRU HABER</td>\n      <td>13.038</td>\n    </tr>\n    <tr>\n      <td>1034</td>\n      <td>16.12.2019</td>\n      <td>KARAR</td>\n      <td>10.758</td>\n    </tr>\n  </tbody>\n</table>\n<p>1035 rows × 3 columns</p>\n</div>"
     },
     "metadata": {},
     "output_type": "execute_result",
     "execution_count": 15
    }
   ]
  }
 ]
}