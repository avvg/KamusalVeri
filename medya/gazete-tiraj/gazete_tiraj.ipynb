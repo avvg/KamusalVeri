{
 "nbformat": 4,
 "nbformat_minor": 0,
 "metadata": {
  "colab": {
   "name": "gazete_tiraj.ipynb",
   "provenance": [],
   "collapsed_sections": []
  },
  "kernelspec": {
   "name": "python3",
   "language": "python",
   "display_name": "Python 3"
  },
  "pycharm": {
   "stem_cell": {
    "cell_type": "raw",
    "source": [],
    "metadata": {
     "collapsed": false
    }
   }
  }
 },
 "cells": [
  {
   "cell_type": "markdown",
   "metadata": {
    "id": "C2U8ZjlIlp4p",
    "colab_type": "text"
   },
   "source": [
    "# Gazete Tiraj Verileri\n",
    "Bu script, haftalık gazete satış rakamlarını çekmektedir. Aşağıda verilen kaynakta haftalık olarak en çok satana göre 20 gazete sıralanmaktadır.\n",
    "\n",
    "**Senaryo**: Sayfada veri ajax ile güncellenmektedir. Sitenin sağ üst köşesinde yer alan tarih seçici ile hafta değiştirilir. Yıl içerisindeki her pazartesi seçilerek sayfada bulunan tablo güncellenir. Güncellemeden sonra sayfadaki tablo çekilerek DataFrame'e dönüştürülür ve bir listeye eklenir. Bir sonraki Pazartesi'ye geçilir.\n",
    "\n",
    "**Kapsam**: Görünüşe göre web sitesinde 2015'e kadar veri bulunmakta. 2015-2019 aralığındaki veriler yıllık olarak çekilmiştir.\n",
    "\n",
    "**Başlıklar**\n",
    "\n",
    "*   date (Tarih)\n",
    "*   newspaper (Gazete)\n",
    "*   circulation (Tiraj)\n",
    "\n",
    "**Erişim tarihi**: 01.11.2019\n",
    "\n",
    "**Kaynak**: gazetetirajları.com\n",
    "\n",
    "**Not**: Gazete tirajları resmi bir kaynaktan yapısal bir şekilde paylaşılmadığından, en sağlıklı kaynak olarak bu web sitesi seçilmiştir. Barındırdığı satış rakamlarının güvenilirliği test edilememektedir.\n",
    "\n",
    "Umut Irmaksever @ AVVG"
   ]
  },
  {
   "cell_type": "markdown",
   "metadata": {
    "id": "JAa7JE8MmyGb",
    "colab_type": "text"
   },
   "source": [
    "Gerekli paketler yüklenir ve Selenium instance'ı başlatılır, web sayfasına gidilir."
   ]
  },
  {
   "cell_type": "code",
   "metadata": {
    "id": "loSlDZKAtnq7",
    "colab_type": "code",
    "pycharm": {
     "is_executing": false
    },
    "colab": {}
   },
   "source": [
    "# install chromium, its driver, and selenium\n",
    "!apt install chromium-chromedriver\n",
    "!pip install selenium html5lib bs4\n",
    "!pip install BeautifulSoup4\n",
    "!pip install html5lib\n",
    "!pip install matplotlib\n",
    "# set options to be headless, ..\n",
    "from selenium import webdriver\n",
    "from selenium.webdriver.support.ui import WebDriverWait\n",
    "from selenium.webdriver.support import expected_conditions as EC\n",
    "from selenium.webdriver.common.by import By as By\n",
    "\n",
    "import html5lib\n",
    "import pandas as pd\n",
    "\n",
    "import datetime\n",
    "from time import sleep\n",
    "\n",
    "options = webdriver.ChromeOptions()\n",
    "options.add_argument('--no-sandbox')\n",
    "options.add_argument('--disable-dev-shm-usage')\n",
    "options.add_argument(\"--window-size=1920,1080\")\n",
    "# open it, go to a website, and get results\n",
    "wd = webdriver.Chrome('chromedriver',options=options)\n",
    "page = wd.get(\"http://gazetetirajlari.com/HaftalikTirajlar.aspx\")"
   ],
   "execution_count": 0,
   "outputs": []
  },
  {
   "cell_type": "markdown",
   "metadata": {
    "id": "9yNtGek3s0d4",
    "colab_type": "text"
   },
   "source": [
    "Bir yıl içerisindeki tüm pazartesileri bir listeye kaydedelim."
   ]
  },
  {
   "cell_type": "code",
   "metadata": {
    "pycharm": {
     "name": "#%%\n",
     "is_executing": false
    },
    "id": "Jdw07oDjlml9",
    "colab_type": "code",
    "colab": {}
   },
   "source": [
    "def allmondays(year):\n",
    "    # Yılın ilk günü\n",
    "    d = datetime.date(year, 1, 1)\n",
    "    # Pazartesi'yi bul\n",
    "    d += datetime.timedelta(days=7-d.weekday())\n",
    "    # Yıl aynı olduğu sürece 7 gün artırarak devam et \n",
    "    while d.year == year:\n",
    "        yield d\n",
    "        d+= datetime.timedelta(days=7)\n",
    "    return(d)\n",
    "# Listedeki tüm tarih objelerini istenen formata sok-\n",
    "def get_mondays_list(year):\n",
    "    mondays = allmondays(year)\n",
    "    mondays = list(map(lambda x: x.strftime(\"%d.%m.%Y\"), mondays))\n",
    "    return mondays\n"
   ],
   "execution_count": 0,
   "outputs": []
  },
  {
   "cell_type": "markdown",
   "metadata": {
    "id": "cDaf1RWJuCI8",
    "colab_type": "text"
   },
   "source": [
    "Sayfadaki veri tablosunu bulup DataFrame'e çevirelim."
   ]
  },
  {
   "cell_type": "code",
   "metadata": {
    "id": "YRJ3GzfPugoW",
    "colab_type": "code",
    "pycharm": {
     "is_executing": false
    },
    "colab": {}
   },
   "source": [
    "def get_circulation_data():\n",
    "    data_table_div = wd.find_element_by_id(\"divHaftalikTirajAra\")\n",
    "    week = data_table_div.find_elements_by_tag_name(\"h3\")[0].text\n",
    "    data_table = data_table_div.find_elements_by_tag_name(\"table\")[0].get_attribute(\"outerHTML\")\n",
    "    data_table_pd = pd.read_html(data_table, flavor=\"bs4\")\n",
    "    data_table_pd = data_table_pd[0]\n",
    "    return data_table_pd"
   ],
   "execution_count": 0,
   "outputs": []
  },
  {
   "cell_type": "markdown",
   "metadata": {
    "id": "5tT85rZruLef",
    "colab_type": "text"
   },
   "source": [
    "Sayfadaki veri tablosunun üstünde başlık olarak o haftanın tarih aralığı belirtiliyor. Doğrulama amaçlı kullanılabilir. İkinci fonksiyon ise datepicker widget'ına istenen tarihi girip butona basıyor."
   ]
  },
  {
   "cell_type": "code",
   "metadata": {
    "id": "RFuOxKVEulxq",
    "colab_type": "code",
    "pycharm": {
     "is_executing": false,
     "name": "#%%\n"
    },
    "colab": {}
   },
   "source": [
    "def get_current_week():\n",
    "    week = wd.find_element_by_id(\"divHaftalikTirajAra\").find_elements_by_tag_name(\"h3\")[0].text\n",
    "    return week\n",
    "def change_date(date):\n",
    "    date_textfield = wd.find_element_by_id(\"txtHaftalikTirajTarih\")\n",
    "    date_textfield.clear()\n",
    "    # date_textfield.click()\n",
    "    date_textfield.send_keys(date)\n",
    "    wd.find_element_by_id(\"btnHaftalikTirajAra\").click()\n",
    "    # Tarih değiştirildikten sonra bir \"Yükleniyor\" mesajıyla bir modal çıkıyor.\n",
    "    # Scriptin sekteye uğramaması için bu modal kapanana kadar bekle.\n",
    "    element = WebDriverWait(wd, 10).until(\n",
    "        EC.invisibility_of_element_located((By.ID, 'loading')))"
   ],
   "execution_count": 0,
   "outputs": []
  },
  {
   "cell_type": "markdown",
   "metadata": {
    "id": "0gunborquioE",
    "colab_type": "text"
   },
   "source": [
    "Aşağıdaki helper (uardımcı) fonksiyon ile bir ya da daha fazla yıl içerisindeki Pazartesiler datepicker'da deneniyor ve o hafta için veri olup olmadığı belirleniyor. Veri bulunan haftalar \"success_weeks\" listesine, olmayan haftalar ise \"fail_weeks\" listesine kaydediliyor."
   ]
  },
  {
   "cell_type": "code",
   "metadata": {
    "pycharm": {
     "name": "#%%\n",
     "is_executing": false
    },
    "id": "knz-AeJMlmmE",
    "colab_type": "code",
    "colab": {}
   },
   "source": [
    "weeks_dict = {}\n",
    "years = range(2011, 2012)\n",
    "success_weeks = []\n",
    "fail_weeks = []\n",
    "def check_if_week_exists(years):\n",
    "    for year in years:\n",
    "        mondays_list = get_mondays_list(year)\n",
    "        for week in mondays_list:\n",
    "            change_date(week)\n",
    "            try:\n",
    "                week_from_website = get_current_week()\n",
    "                print(week, week_from_website)\n",
    "                # Hem python tarafından sağlanan tarih, hem de web sitesinden\n",
    "                # alınan hafta stringini kaydet.\n",
    "                success_weeks.append([week, week_from_website])\n",
    "            except IndexError:\n",
    "                print(\"nonexistent\")\n",
    "                fail_weeks.append([week, \"fail\"])\n",
    "check_if_week_exists(years)"
   ],
   "execution_count": 0,
   "outputs": []
  },
  {
   "cell_type": "markdown",
   "metadata": {
    "id": "dA2jvFyDveli",
    "colab_type": "text"
   },
   "source": [
    "Veri olmayan haftaları kaydedelim."
   ]
  },
  {
   "cell_type": "code",
   "metadata": {
    "pycharm": {
     "name": "#%% Save failed weeks to file\n",
     "is_executing": false
    },
    "id": "Vbf6LRUulmmH",
    "colab_type": "code",
    "colab": {}
   },
   "source": [
    "# Fail olan haftaları bir dosyaya yazmak için aşağıdaki dosya ismini değiştirebilirsiniz.\n",
    "with open(\"fails_2015_2.txt\", mode=\"w+\")as file:\n",
    "    for fail in fail_weeks:\n",
    "        file.write(str(fail) + \"\\n\")\n",
    "    file.close()"
   ],
   "execution_count": 0,
   "outputs": []
  },
  {
   "cell_type": "markdown",
   "metadata": {
    "id": "YQqU5qQUv-UL",
    "colab_type": "text"
   },
   "source": [
    "Her hafta için veri tablosunu bir dict objesine kaydedelim."
   ]
  },
  {
   "cell_type": "code",
   "metadata": {
    "pycharm": {
     "name": "#%% Get weekly circulation table values and write them to a dict\n",
     "is_executing": false
    },
    "id": "wots7kRllmmJ",
    "colab_type": "code",
    "colab": {}
   },
   "source": [
    "weekly_circulation_list = {}\n",
    "for week in success_weeks:\n",
    "    print(week)\n",
    "    change_date(week[0])\n",
    "    sleep(0.5)\n",
    "    circulation_data = get_circulation_data()\n",
    "    # print(circulation_data)\n",
    "    weekly_circulation_list[week[0]] = circulation_data"
   ],
   "execution_count": 0,
   "outputs": []
  },
  {
   "cell_type": "markdown",
   "metadata": {
    "id": "DU_50rHrwN6r",
    "colab_type": "text"
   },
   "source": [
    "Bir yıldaki tüm veri olan haftaların bulunduğu dict objesindeki değerler DataFrame şeklinde. Web sayfasındaki tabloyu bire bir kaydettiğimiz için sadece ihtiyacımız olanları alalım ve DataFrame listesini düzleştirelim."
   ]
  },
  {
   "cell_type": "code",
   "metadata": {
    "pycharm": {
     "name": "#%% Normalize tables of weeks, discard unneccessary columns and write all to a list with week value\n",
     "is_executing": false
    },
    "id": "48Akta4vlmmO",
    "colab_type": "code",
    "colab": {}
   },
   "source": [
    "rows_list = []\n",
    "for circulation_table in weekly_circulation_list.keys():\n",
    "    week = circulation_table\n",
    "    table = weekly_circulation_list[circulation_table]\n",
    "    for row in table.index:\n",
    "        newspaper_name = table[\"GAZETE ADI\"][row]\n",
    "        sales = table[\"GÜNCEL\"][row]\n",
    "        rows_list.append([week, newspaper_name, sales])\n",
    "        print(week, newspaper_name, sales)\n",
    "    print(circulation_table)"
   ],
   "execution_count": 0,
   "outputs": []
  },
  {
   "cell_type": "markdown",
   "metadata": {
    "id": "-1L3Pr_mwubD",
    "colab_type": "text"
   },
   "source": [
    "Düzleştirilmiş listeyi tekrardan DataFrame'e çevirerek csv formatında kaydedelim."
   ]
  },
  {
   "cell_type": "code",
   "metadata": {
    "pycharm": {
     "name": "#%% Convert to dataframe\n",
     "is_executing": false
    },
    "id": "ypzNvO8elmmQ",
    "colab_type": "code",
    "colab": {}
   },
   "source": [
    "rows_list_pd = pd.DataFrame(rows_list, columns=[\"date\", \"newspaper\", \"circulation\"])\n",
    "rows_list_pd.to_csv(\"tr_newspapers_2015.csv\")\n",
    "rows_list_pd-"
   ],
   "execution_count": 0,
   "outputs": []
  }
 ]
}