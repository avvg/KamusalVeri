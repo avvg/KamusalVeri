{
 "cells": [
  {
   "cell_type": "code",
   "execution_count": 2,
   "metadata": {
    "collapsed": true,
    "pycharm": {
     "name": "#%%\n",
     "is_executing": false
    }
   },
   "outputs": [],
   "source": [
    "import pandas as pd\n",
    "import numpy as np\n",
    "import datetime\n",
    "dateparse = lambda x: pd.datetime.strptime(x, \"%d.%m.%Y\")"
   ]
  },
  {
   "cell_type": "code",
   "execution_count": 76,
   "outputs": [],
   "source": [
    "import glob\n",
    "filenames = glob.glob(\"yearly/*.csv\")\n",
    "# filenames = [\"tr_newspapers_2019.csv\"]"
   ],
   "metadata": {
    "collapsed": false,
    "pycharm": {
     "name": "#%%\n",
     "is_executing": false
    }
   }
  },
  {
   "cell_type": "code",
   "execution_count": 77,
   "outputs": [],
   "source": [
    "years_pd = []\n",
    "for filename in filenames:\n",
    "    with open(filename, encoding=\"utf8\") as file:\n",
    "        yearly_data = pd.read_csv(file, index_col=[0], parse_dates=[\"date\"], date_parser=dateparse)\n",
    "    years_pd.append(yearly_data)"
   ],
   "metadata": {
    "collapsed": false,
    "pycharm": {
     "name": "#%%\n",
     "is_executing": false
    }
   }
  },
  {
   "cell_type": "code",
   "execution_count": 78,
   "outputs": [],
   "source": [
    "years_data = pd.concat(years_pd, ignore_index=True)"
   ],
   "metadata": {
    "collapsed": false,
    "pycharm": {
     "name": "#%%\n",
     "is_executing": false
    }
   }
  },
  {
   "cell_type": "code",
   "execution_count": 79,
   "outputs": [
    {
     "name": "stdout",
     "text": [
      "0       2015-03\n1       2015-03\n2       2015-03\n3       2015-03\n4       2015-03\n         ...   \n5779    2019-12\n5780    2019-12\n5781    2019-12\n5782    2019-12\n5783    2019-12\nName: month, Length: 5784, dtype: object\n"
     ],
     "output_type": "stream"
    }
   ],
   "source": [
    "years_data[\"month\"] = years_data[\"date\"].map(lambda x: datetime.datetime.strftime(x, \"%Y-%m\")) # str(x.year) + \"-\" + str(x.month)\n",
    "print(years_data[\"month\"])\n",
    "years_data[\"circulation\"] = years_data[\"circulation\"] * 1000"
   ],
   "metadata": {
    "collapsed": false,
    "pycharm": {
     "name": "#%%\n",
     "is_executing": false
    }
   }
  },
  {
   "cell_type": "code",
   "execution_count": 84,
   "outputs": [
    {
     "data": {
      "text/plain": "           date    newspaper  circulation    month                      owner  \\\n0    2015-03-23        ZAMAN     881764.0  2015-03            Feza Yayıncılık   \n1    2015-03-23        POSTA     377938.0  2015-03                  Demirören   \n2    2015-03-23     HÜRRİYET     361721.0  2015-03                  Demirören   \n3    2015-03-23        SÖZCÜ     332245.0  2015-03                Burak Akbay   \n4    2015-03-23        SABAH     304894.0  2015-03                   Turkuvaz   \n...         ...          ...          ...      ...                        ...   \n5779 2019-12-16  YENİ BİRLİK      32665.0  2019-12           Ufuk Gazetecilik   \n5780 2019-12-16   CUMHURİYET      28694.0  2019-12           Cumhuriyet Vakfı   \n5781 2019-12-16     AYDINLIK      14391.0  2019-12         Şefik Hüsnü Değmer   \n5782 2019-12-16  DOĞRU HABER      13038.0  2019-12  Doğru Basım ve Yayıncılık   \n5783 2019-12-16        KARAR      10758.0  2019-12           Karar Yayıncılık   \n\n     owner_political_status  \n0                  destekçi  \n1                  destekçi  \n2                  destekçi  \n3                   muhalif  \n4                  destekçi  \n...                     ...  \n5779               destekçi  \n5780                muhalif  \n5781                muhalif  \n5782               destekçi  \n5783               destekçi  \n\n[5784 rows x 6 columns]",
      "text/html": "<div>\n<style scoped>\n    .dataframe tbody tr th:only-of-type {\n        vertical-align: middle;\n    }\n\n    .dataframe tbody tr th {\n        vertical-align: top;\n    }\n\n    .dataframe thead th {\n        text-align: right;\n    }\n</style>\n<table border=\"1\" class=\"dataframe\">\n  <thead>\n    <tr style=\"text-align: right;\">\n      <th></th>\n      <th>date</th>\n      <th>newspaper</th>\n      <th>circulation</th>\n      <th>month</th>\n      <th>owner</th>\n      <th>owner_political_status</th>\n    </tr>\n  </thead>\n  <tbody>\n    <tr>\n      <td>0</td>\n      <td>2015-03-23</td>\n      <td>ZAMAN</td>\n      <td>881764.0</td>\n      <td>2015-03</td>\n      <td>Feza Yayıncılık</td>\n      <td>destekçi</td>\n    </tr>\n    <tr>\n      <td>1</td>\n      <td>2015-03-23</td>\n      <td>POSTA</td>\n      <td>377938.0</td>\n      <td>2015-03</td>\n      <td>Demirören</td>\n      <td>destekçi</td>\n    </tr>\n    <tr>\n      <td>2</td>\n      <td>2015-03-23</td>\n      <td>HÜRRİYET</td>\n      <td>361721.0</td>\n      <td>2015-03</td>\n      <td>Demirören</td>\n      <td>destekçi</td>\n    </tr>\n    <tr>\n      <td>3</td>\n      <td>2015-03-23</td>\n      <td>SÖZCÜ</td>\n      <td>332245.0</td>\n      <td>2015-03</td>\n      <td>Burak Akbay</td>\n      <td>muhalif</td>\n    </tr>\n    <tr>\n      <td>4</td>\n      <td>2015-03-23</td>\n      <td>SABAH</td>\n      <td>304894.0</td>\n      <td>2015-03</td>\n      <td>Turkuvaz</td>\n      <td>destekçi</td>\n    </tr>\n    <tr>\n      <td>...</td>\n      <td>...</td>\n      <td>...</td>\n      <td>...</td>\n      <td>...</td>\n      <td>...</td>\n      <td>...</td>\n    </tr>\n    <tr>\n      <td>5779</td>\n      <td>2019-12-16</td>\n      <td>YENİ BİRLİK</td>\n      <td>32665.0</td>\n      <td>2019-12</td>\n      <td>Ufuk Gazetecilik</td>\n      <td>destekçi</td>\n    </tr>\n    <tr>\n      <td>5780</td>\n      <td>2019-12-16</td>\n      <td>CUMHURİYET</td>\n      <td>28694.0</td>\n      <td>2019-12</td>\n      <td>Cumhuriyet Vakfı</td>\n      <td>muhalif</td>\n    </tr>\n    <tr>\n      <td>5781</td>\n      <td>2019-12-16</td>\n      <td>AYDINLIK</td>\n      <td>14391.0</td>\n      <td>2019-12</td>\n      <td>Şefik Hüsnü Değmer</td>\n      <td>muhalif</td>\n    </tr>\n    <tr>\n      <td>5782</td>\n      <td>2019-12-16</td>\n      <td>DOĞRU HABER</td>\n      <td>13038.0</td>\n      <td>2019-12</td>\n      <td>Doğru Basım ve Yayıncılık</td>\n      <td>destekçi</td>\n    </tr>\n    <tr>\n      <td>5783</td>\n      <td>2019-12-16</td>\n      <td>KARAR</td>\n      <td>10758.0</td>\n      <td>2019-12</td>\n      <td>Karar Yayıncılık</td>\n      <td>destekçi</td>\n    </tr>\n  </tbody>\n</table>\n<p>5784 rows × 6 columns</p>\n</div>"
     },
     "metadata": {},
     "output_type": "execute_result",
     "execution_count": 84
    }
   ],
   "source": [
    "years_data"
   ],
   "metadata": {
    "collapsed": false,
    "pycharm": {
     "name": "#%%\n",
     "is_executing": false
    }
   }
  },
  {
   "cell_type": "code",
   "execution_count": 97,
   "outputs": [],
   "source": [
    "date_pivot = years_data.pivot_table(values=[\"circulation\"], columns=[\"month\"], index=[\"newspaper\"], aggfunc=np.sum)\n",
    "date_pivot.to_excel(\"date_pivot_2016.xlsx\")"
   ],
   "metadata": {
    "collapsed": false,
    "pycharm": {
     "name": "#%%\n",
     "is_executing": false
    }
   }
  },
  {
   "cell_type": "code",
   "execution_count": 40,
   "outputs": [
    {
     "traceback": [
      "\u001b[1;31m---------------------------------------------------------------------------\u001b[0m",
      "\u001b[1;31mTypeError\u001b[0m                                 Traceback (most recent call last)",
      "\u001b[1;32m<ipython-input-40-6d78f1bc6de0>\u001b[0m in \u001b[0;36m<module>\u001b[1;34m\u001b[0m\n\u001b[1;32m----> 1\u001b[1;33m \u001b[0myears_data\u001b[0m\u001b[1;33m[\u001b[0m\u001b[0myears_data\u001b[0m\u001b[1;33m[\u001b[0m\u001b[1;34m\"newspaper\"\u001b[0m\u001b[1;33m]\u001b[0m \u001b[1;33m==\u001b[0m \u001b[1;34m\"ÖZGÜR DÜŞÜNCE\"\u001b[0m\u001b[1;33m]\u001b[0m\u001b[1;33m.\u001b[0m\u001b[0mplot\u001b[0m\u001b[1;33m(\u001b[0m\u001b[0mx\u001b[0m\u001b[1;33m=\u001b[0m\u001b[1;34m\"date\"\u001b[0m\u001b[1;33m,\u001b[0m \u001b[0my\u001b[0m\u001b[1;33m=\u001b[0m\u001b[1;34m\"circulation\"\u001b[0m\u001b[1;33m,\u001b[0m \u001b[0mkind\u001b[0m\u001b[1;33m=\u001b[0m\u001b[1;34m\"line\"\u001b[0m\u001b[1;33m)\u001b[0m\u001b[1;33m\u001b[0m\u001b[1;33m\u001b[0m\u001b[0m\n\u001b[0m\u001b[0;32m      2\u001b[0m \u001b[1;33m\u001b[0m\u001b[0m\n",
      "\u001b[1;32mc:\\users\\da12\\appdata\\local\\programs\\python\\python36\\lib\\site-packages\\pandas\\plotting\\_core.py\u001b[0m in \u001b[0;36m__call__\u001b[1;34m(self, *args, **kwargs)\u001b[0m\n\u001b[0;32m    792\u001b[0m                     \u001b[0mdata\u001b[0m\u001b[1;33m.\u001b[0m\u001b[0mcolumns\u001b[0m \u001b[1;33m=\u001b[0m \u001b[0mlabel_name\u001b[0m\u001b[1;33m\u001b[0m\u001b[1;33m\u001b[0m\u001b[0m\n\u001b[0;32m    793\u001b[0m \u001b[1;33m\u001b[0m\u001b[0m\n\u001b[1;32m--> 794\u001b[1;33m         \u001b[1;32mreturn\u001b[0m \u001b[0mplot_backend\u001b[0m\u001b[1;33m.\u001b[0m\u001b[0mplot\u001b[0m\u001b[1;33m(\u001b[0m\u001b[0mdata\u001b[0m\u001b[1;33m,\u001b[0m \u001b[0mkind\u001b[0m\u001b[1;33m=\u001b[0m\u001b[0mkind\u001b[0m\u001b[1;33m,\u001b[0m \u001b[1;33m**\u001b[0m\u001b[0mkwargs\u001b[0m\u001b[1;33m)\u001b[0m\u001b[1;33m\u001b[0m\u001b[1;33m\u001b[0m\u001b[0m\n\u001b[0m\u001b[0;32m    795\u001b[0m \u001b[1;33m\u001b[0m\u001b[0m\n\u001b[0;32m    796\u001b[0m     \u001b[1;32mdef\u001b[0m \u001b[0mline\u001b[0m\u001b[1;33m(\u001b[0m\u001b[0mself\u001b[0m\u001b[1;33m,\u001b[0m \u001b[0mx\u001b[0m\u001b[1;33m=\u001b[0m\u001b[1;32mNone\u001b[0m\u001b[1;33m,\u001b[0m \u001b[0my\u001b[0m\u001b[1;33m=\u001b[0m\u001b[1;32mNone\u001b[0m\u001b[1;33m,\u001b[0m \u001b[1;33m**\u001b[0m\u001b[0mkwargs\u001b[0m\u001b[1;33m)\u001b[0m\u001b[1;33m:\u001b[0m\u001b[1;33m\u001b[0m\u001b[1;33m\u001b[0m\u001b[0m\n",
      "\u001b[1;32mc:\\users\\da12\\appdata\\local\\programs\\python\\python36\\lib\\site-packages\\pandas\\plotting\\_matplotlib\\__init__.py\u001b[0m in \u001b[0;36mplot\u001b[1;34m(data, kind, **kwargs)\u001b[0m\n\u001b[0;32m     60\u001b[0m             \u001b[0mkwargs\u001b[0m\u001b[1;33m[\u001b[0m\u001b[1;34m\"ax\"\u001b[0m\u001b[1;33m]\u001b[0m \u001b[1;33m=\u001b[0m \u001b[0mgetattr\u001b[0m\u001b[1;33m(\u001b[0m\u001b[0max\u001b[0m\u001b[1;33m,\u001b[0m \u001b[1;34m\"left_ax\"\u001b[0m\u001b[1;33m,\u001b[0m \u001b[0max\u001b[0m\u001b[1;33m)\u001b[0m\u001b[1;33m\u001b[0m\u001b[1;33m\u001b[0m\u001b[0m\n\u001b[0;32m     61\u001b[0m     \u001b[0mplot_obj\u001b[0m \u001b[1;33m=\u001b[0m \u001b[0mPLOT_CLASSES\u001b[0m\u001b[1;33m[\u001b[0m\u001b[0mkind\u001b[0m\u001b[1;33m]\u001b[0m\u001b[1;33m(\u001b[0m\u001b[0mdata\u001b[0m\u001b[1;33m,\u001b[0m \u001b[1;33m**\u001b[0m\u001b[0mkwargs\u001b[0m\u001b[1;33m)\u001b[0m\u001b[1;33m\u001b[0m\u001b[1;33m\u001b[0m\u001b[0m\n\u001b[1;32m---> 62\u001b[1;33m     \u001b[0mplot_obj\u001b[0m\u001b[1;33m.\u001b[0m\u001b[0mgenerate\u001b[0m\u001b[1;33m(\u001b[0m\u001b[1;33m)\u001b[0m\u001b[1;33m\u001b[0m\u001b[1;33m\u001b[0m\u001b[0m\n\u001b[0m\u001b[0;32m     63\u001b[0m     \u001b[0mplot_obj\u001b[0m\u001b[1;33m.\u001b[0m\u001b[0mdraw\u001b[0m\u001b[1;33m(\u001b[0m\u001b[1;33m)\u001b[0m\u001b[1;33m\u001b[0m\u001b[1;33m\u001b[0m\u001b[0m\n\u001b[0;32m     64\u001b[0m     \u001b[1;32mreturn\u001b[0m \u001b[0mplot_obj\u001b[0m\u001b[1;33m.\u001b[0m\u001b[0mresult\u001b[0m\u001b[1;33m\u001b[0m\u001b[1;33m\u001b[0m\u001b[0m\n",
      "\u001b[1;32mc:\\users\\da12\\appdata\\local\\programs\\python\\python36\\lib\\site-packages\\pandas\\plotting\\_matplotlib\\core.py\u001b[0m in \u001b[0;36mgenerate\u001b[1;34m(self)\u001b[0m\n\u001b[0;32m    277\u001b[0m     \u001b[1;32mdef\u001b[0m \u001b[0mgenerate\u001b[0m\u001b[1;33m(\u001b[0m\u001b[0mself\u001b[0m\u001b[1;33m)\u001b[0m\u001b[1;33m:\u001b[0m\u001b[1;33m\u001b[0m\u001b[1;33m\u001b[0m\u001b[0m\n\u001b[0;32m    278\u001b[0m         \u001b[0mself\u001b[0m\u001b[1;33m.\u001b[0m\u001b[0m_args_adjust\u001b[0m\u001b[1;33m(\u001b[0m\u001b[1;33m)\u001b[0m\u001b[1;33m\u001b[0m\u001b[1;33m\u001b[0m\u001b[0m\n\u001b[1;32m--> 279\u001b[1;33m         \u001b[0mself\u001b[0m\u001b[1;33m.\u001b[0m\u001b[0m_compute_plot_data\u001b[0m\u001b[1;33m(\u001b[0m\u001b[1;33m)\u001b[0m\u001b[1;33m\u001b[0m\u001b[1;33m\u001b[0m\u001b[0m\n\u001b[0m\u001b[0;32m    280\u001b[0m         \u001b[0mself\u001b[0m\u001b[1;33m.\u001b[0m\u001b[0m_setup_subplots\u001b[0m\u001b[1;33m(\u001b[0m\u001b[1;33m)\u001b[0m\u001b[1;33m\u001b[0m\u001b[1;33m\u001b[0m\u001b[0m\n\u001b[0;32m    281\u001b[0m         \u001b[0mself\u001b[0m\u001b[1;33m.\u001b[0m\u001b[0m_make_plot\u001b[0m\u001b[1;33m(\u001b[0m\u001b[1;33m)\u001b[0m\u001b[1;33m\u001b[0m\u001b[1;33m\u001b[0m\u001b[0m\n",
      "\u001b[1;32mc:\\users\\da12\\appdata\\local\\programs\\python\\python36\\lib\\site-packages\\pandas\\plotting\\_matplotlib\\core.py\u001b[0m in \u001b[0;36m_compute_plot_data\u001b[1;34m(self)\u001b[0m\n\u001b[0;32m    412\u001b[0m         \u001b[1;31m# no non-numeric frames or series allowed\u001b[0m\u001b[1;33m\u001b[0m\u001b[1;33m\u001b[0m\u001b[1;33m\u001b[0m\u001b[0m\n\u001b[0;32m    413\u001b[0m         \u001b[1;32mif\u001b[0m \u001b[0mis_empty\u001b[0m\u001b[1;33m:\u001b[0m\u001b[1;33m\u001b[0m\u001b[1;33m\u001b[0m\u001b[0m\n\u001b[1;32m--> 414\u001b[1;33m             \u001b[1;32mraise\u001b[0m \u001b[0mTypeError\u001b[0m\u001b[1;33m(\u001b[0m\u001b[1;34m\"no numeric data to plot\"\u001b[0m\u001b[1;33m)\u001b[0m\u001b[1;33m\u001b[0m\u001b[1;33m\u001b[0m\u001b[0m\n\u001b[0m\u001b[0;32m    415\u001b[0m \u001b[1;33m\u001b[0m\u001b[0m\n\u001b[0;32m    416\u001b[0m         \u001b[1;31m# GH25587: cast ExtensionArray of pandas (IntegerArray, etc.) to\u001b[0m\u001b[1;33m\u001b[0m\u001b[1;33m\u001b[0m\u001b[1;33m\u001b[0m\u001b[0m\n",
      "\u001b[1;31mTypeError\u001b[0m: no numeric data to plot"
     ],
     "ename": "TypeError",
     "evalue": "no numeric data to plot",
     "output_type": "error"
    }
   ],
   "source": [
    "years_data[years_data[\"newspaper\"] == \"ÖZGÜR DÜŞÜNCE\"].plot(x=\"date\", y=\"circulation\", kind=\"line\")\n"
   ],
   "metadata": {
    "collapsed": false,
    "pycharm": {
     "name": "#%%\n",
     "is_executing": false
    }
   }
  },
  {
   "cell_type": "code",
   "execution_count": 81,
   "outputs": [
    {
     "data": {
      "text/plain": "({'\\ufeffnewspaper': 'owner',\n  'ZAMAN': 'Feza Yayıncılık',\n  'POSTA': 'Demirören',\n  'HÜRRİYET': 'Demirören',\n  'SÖZCÜ': 'Burak Akbay',\n  'SABAH': 'Turkuvaz',\n  'HABERTÜRK': 'Ciner Holding',\n  'P.FOTOMAÇ': 'Turkuvaz',\n  'TÜRKİYE': 'İhlas Holding',\n  'MİLLİYET': 'Demirören',\n  'FANATİK': 'Demirören',\n  'BUGÜN': 'Koza İpek Holding',\n  'YENİ ŞAFAK': 'Albayrak',\n  'TAKVİM': 'Turkuvaz',\n  'AKŞAM': 'T Medya',\n  'VATAN': 'Demirören',\n  'GÜNEŞ': 'T Medya',\n  'STAR': 'Star Medya',\n  'TARAF': 'Alkım Gazetecilik',\n  'AYDINLIK': 'Şefik Hüsnü Değmer',\n  'CUMHURİYET': 'Cumhuriyet Vakfı',\n  'YENİ ÇAĞ': 'Yeni Çağ Gazetecilik ve Baskı',\n  'YENİ ASYA': 'Yeni Asya Gazetecilik ve Baskı',\n  'MİLLET': 'İleri Gazetecilik',\n  'YENİ AKİT': '\\u200eRamazan Fatih Uğurlu',\n  'AMK': '\\u200eBurak Akbay',\n  'ŞOK': 'ABC Medya Ajansı',\n  'MİLLİ GAZETE': 'Yeni Neşriyat',\n  'YURT': 'Ayna Gazetecilik ve Yapım',\n  'MEYDAN': 'Feza Yayıncılık',\n  'KORKUSUZ': 'Burak Akbay',\n  'MİLAT': 'MEKA Gazetecilik',\n  'YENİ YÜZYIL': 'Mansur Topçuoğlu',\n  'İSTİKLAL': 'Hüseyin Arif Çakmak',\n  'YARINA BAKIŞ': 'Feza Yayıncılık',\n  'KARAR': 'Karar Yayıncılık',\n  'ÖZGÜR DÜŞÜNCE': 'Feza Yayıncılık',\n  'YENİ HAYAT': 'Feza Yayıncılık',\n  'DOĞRU HABER': 'Doğru Basım ve Yayıncılık',\n  'YENİ ASIR': 'Turkuvaz',\n  'YENİ BİRLİK': 'Ufuk Gazetecilik'},\n {'\\ufeffnewspaper': 'status',\n  'ZAMAN': 'destekçi',\n  'POSTA': 'destekçi',\n  'HÜRRİYET': 'destekçi',\n  'SÖZCÜ': 'muhalif',\n  'SABAH': 'destekçi',\n  'HABERTÜRK': 'destekçi',\n  'P.FOTOMAÇ': 'destekçi',\n  'TÜRKİYE': 'destekçi',\n  'MİLLİYET': 'destekçi',\n  'FANATİK': 'destekçi',\n  'BUGÜN': 'destekçi',\n  'YENİ ŞAFAK': 'destekçi',\n  'TAKVİM': 'destekçi',\n  'AKŞAM': 'destekçi',\n  'VATAN': 'destekçi',\n  'GÜNEŞ': 'destekçi',\n  'STAR': 'destekçi',\n  'TARAF': 'muhalif',\n  'AYDINLIK': 'muhalif',\n  'CUMHURİYET': 'muhalif',\n  'YENİ ÇAĞ': 'muhalif',\n  'YENİ ASYA': 'destekçi',\n  'MİLLET': 'destekçi',\n  'YENİ AKİT': 'destekçi',\n  'AMK': 'muhalif',\n  'ŞOK': 'destekçi',\n  'MİLLİ GAZETE': 'destekçi',\n  'YURT': 'destekçi',\n  'MEYDAN': 'destekçi',\n  'KORKUSUZ': 'muhalif',\n  'MİLAT': 'destekçi',\n  'YENİ YÜZYIL': 'destekçi',\n  'İSTİKLAL': 'destekçi',\n  'YARINA BAKIŞ': 'destekçi',\n  'KARAR': 'destekçi',\n  'ÖZGÜR DÜŞÜNCE': 'destekçi',\n  'YENİ HAYAT': 'destekçi',\n  'DOĞRU HABER': 'destekçi',\n  'YENİ ASIR': 'destekçi',\n  'YENİ BİRLİK': 'destekçi'})"
     },
     "metadata": {},
     "output_type": "execute_result",
     "execution_count": 81
    }
   ],
   "source": [
    "years_data[\"newspaper\"].unique()\n",
    "owners = {}\n",
    "owners_political_status = {}\n",
    "with open(\"owners.csv\", encoding=\"utf8\") as owners_file:\n",
    "    for line in owners_file.readlines():\n",
    "        line = line.split(\",\")\n",
    "        owners[line[0]] = line[1]\n",
    "        owners_political_status[line[0]] = line[2].replace(\"\\n\", \"\")\n",
    "owners, owners_political_status"
   ],
   "metadata": {
    "collapsed": false,
    "pycharm": {
     "name": "#%%\n",
     "is_executing": false
    }
   }
  },
  {
   "cell_type": "code",
   "execution_count": 22,
   "outputs": [
    {
     "data": {
      "text/plain": "{'\\ufeffnewspaper': 'status',\n 'ZAMAN': 'destekçi',\n 'POSTA': 'destekçi',\n 'HÜRRİYET': 'destekçi',\n 'SÖZCÜ': 'muhalif',\n 'SABAH': 'destekçi',\n 'HABERTÜRK': 'destekçi',\n 'P.FOTOMAÇ': 'destekçi',\n 'TÜRKİYE': 'destekçi',\n 'MİLLİYET': 'destekçi',\n 'FANATİK': 'destekçi',\n 'BUGÜN': 'destekçi',\n 'YENİ ŞAFAK': 'destekçi',\n 'TAKVİM': 'destekçi',\n 'AKŞAM': 'destekçi',\n 'VATAN': 'destekçi',\n 'GÜNEŞ': 'destekçi',\n 'STAR': 'destekçi',\n 'TARAF': 'muhalif',\n 'AYDINLIK': 'muhalif',\n 'CUMHURİYET': 'muhalif',\n 'YENİ ÇAĞ': 'destekçi',\n 'YENİ ASYA': 'destekçi',\n 'MİLLET': 'destekçi',\n 'YENİ AKİT': 'destekçi',\n 'AMK': 'muhalif',\n 'ŞOK': 'destekçi',\n 'MİLLİ GAZETE': 'destekçi',\n 'YURT': 'destekçi',\n 'MEYDAN': 'destekçi',\n 'KORKUSUZ': 'muhalif',\n 'MİLAT': 'destekçi',\n 'YENİ YÜZYIL': 'destekçi',\n 'İSTİKLAL': 'destekçi',\n 'YARINA BAKIŞ': 'destekçi',\n 'KARAR': 'destekçi',\n 'ÖZGÜR DÜŞÜNCE': 'destekçi',\n 'YENİ HAYAT': 'destekçi',\n 'DOĞRU HABER': 'destekçi',\n 'YENİ ASIR': 'destekçi',\n 'YENİ BİRLİK': 'destekçi'}"
     },
     "metadata": {},
     "output_type": "execute_result",
     "execution_count": 22
    }
   ],
   "source": [
    "owners_political_status"
   ],
   "metadata": {
    "collapsed": false,
    "pycharm": {
     "name": "#%%\n",
     "is_executing": false
    }
   }
  },
  {
   "cell_type": "code",
   "execution_count": 83,
   "outputs": [
    {
     "name": "stderr",
     "text": [
      "c:\\users\\da12\\appdata\\local\\programs\\python\\python36\\lib\\site-packages\\ipykernel_launcher.py:5: SettingWithCopyWarning: \nA value is trying to be set on a copy of a slice from a DataFrame\n\nSee the caveats in the documentation: http://pandas.pydata.org/pandas-docs/stable/user_guide/indexing.html#returning-a-view-versus-a-copy\n  \"\"\"\nc:\\users\\da12\\appdata\\local\\programs\\python\\python36\\lib\\site-packages\\ipykernel_launcher.py:6: SettingWithCopyWarning: \nA value is trying to be set on a copy of a slice from a DataFrame\n\nSee the caveats in the documentation: http://pandas.pydata.org/pandas-docs/stable/user_guide/indexing.html#returning-a-view-versus-a-copy\n  \n"
     ],
     "output_type": "stream"
    }
   ],
   "source": [
    "years_data[\"owner\"] = None\n",
    "years_data[\"owner_political_status\"] = None\n",
    "for record in years_data.index:\n",
    "    newspaper_name = years_data[\"newspaper\"][record]\n",
    "    years_data[\"owner\"][record] = owners[newspaper_name]\n",
    "    years_data[\"owner_political_status\"][record] = owners_political_status[newspaper_name]"
   ],
   "metadata": {
    "collapsed": false,
    "pycharm": {
     "name": "#%%\n",
     "is_executing": false
    }
   }
  },
  {
   "cell_type": "code",
   "execution_count": 24,
   "outputs": [
    {
     "data": {
      "text/plain": "                                                    circulation\nowner                                                          \nABC Media Agency                                       816201.0\nAlbayrak                                             25920389.0\nAyna Journalism and Production                         272666.0\nBaşar Arslan (?)                                      3232325.0\nBurak Akbay                                          77436500.0\nCiner Holding                                        33359263.0\nCumhuriyet Vakfı                                      9891667.0\nDemirören                                           208837645.0\nDoğru Print and Publishing                            3604479.0\nFeza Publications                                    35240944.0\nFeza Publications (?)                                 2387145.0\nFeza Publishing (?)                                   5084711.0\nHüseyin Arif Çakmak                                   1379398.0\nKarar Publications                                    7380593.0\nKoza İpek Holding                                     3741451.0\nMEKA Journalism                                       1818902.0\nMansur Topçuoğlu                                       473114.0\nStar Media (?)                                       24223579.0\nT Media                                              49374681.0\nTurkuvaz                                            135320755.0\nUfuk Journalism                                        857174.0\nYeni Asya Journalism Printing and Publishing (M...    3008526.0\nYeni Neşriyat                                         2293079.0\nYeni Çağ Journalism and Printing (?)                  3863184.0\nİhlas Holding                                        32652127.0\nİleri Journalism                                      1689775.0\nŞefik Hüsnü Değmer (?)                               10932347.0\n‎Burak Akbay                                          1218098.0\n‎Ramazan Fatih Uğurlu                                10848323.0",
      "text/html": "<div>\n<style scoped>\n    .dataframe tbody tr th:only-of-type {\n        vertical-align: middle;\n    }\n\n    .dataframe tbody tr th {\n        vertical-align: top;\n    }\n\n    .dataframe thead th {\n        text-align: right;\n    }\n</style>\n<table border=\"1\" class=\"dataframe\">\n  <thead>\n    <tr style=\"text-align: right;\">\n      <th></th>\n      <th>circulation</th>\n    </tr>\n    <tr>\n      <th>owner</th>\n      <th></th>\n    </tr>\n  </thead>\n  <tbody>\n    <tr>\n      <td>ABC Media Agency</td>\n      <td>816201.0</td>\n    </tr>\n    <tr>\n      <td>Albayrak</td>\n      <td>25920389.0</td>\n    </tr>\n    <tr>\n      <td>Ayna Journalism and Production</td>\n      <td>272666.0</td>\n    </tr>\n    <tr>\n      <td>Başar Arslan (?)</td>\n      <td>3232325.0</td>\n    </tr>\n    <tr>\n      <td>Burak Akbay</td>\n      <td>77436500.0</td>\n    </tr>\n    <tr>\n      <td>Ciner Holding</td>\n      <td>33359263.0</td>\n    </tr>\n    <tr>\n      <td>Cumhuriyet Vakfı</td>\n      <td>9891667.0</td>\n    </tr>\n    <tr>\n      <td>Demirören</td>\n      <td>208837645.0</td>\n    </tr>\n    <tr>\n      <td>Doğru Print and Publishing</td>\n      <td>3604479.0</td>\n    </tr>\n    <tr>\n      <td>Feza Publications</td>\n      <td>35240944.0</td>\n    </tr>\n    <tr>\n      <td>Feza Publications (?)</td>\n      <td>2387145.0</td>\n    </tr>\n    <tr>\n      <td>Feza Publishing (?)</td>\n      <td>5084711.0</td>\n    </tr>\n    <tr>\n      <td>Hüseyin Arif Çakmak</td>\n      <td>1379398.0</td>\n    </tr>\n    <tr>\n      <td>Karar Publications</td>\n      <td>7380593.0</td>\n    </tr>\n    <tr>\n      <td>Koza İpek Holding</td>\n      <td>3741451.0</td>\n    </tr>\n    <tr>\n      <td>MEKA Journalism</td>\n      <td>1818902.0</td>\n    </tr>\n    <tr>\n      <td>Mansur Topçuoğlu</td>\n      <td>473114.0</td>\n    </tr>\n    <tr>\n      <td>Star Media (?)</td>\n      <td>24223579.0</td>\n    </tr>\n    <tr>\n      <td>T Media</td>\n      <td>49374681.0</td>\n    </tr>\n    <tr>\n      <td>Turkuvaz</td>\n      <td>135320755.0</td>\n    </tr>\n    <tr>\n      <td>Ufuk Journalism</td>\n      <td>857174.0</td>\n    </tr>\n    <tr>\n      <td>Yeni Asya Journalism Printing and Publishing (Mehmet Kutlular)</td>\n      <td>3008526.0</td>\n    </tr>\n    <tr>\n      <td>Yeni Neşriyat</td>\n      <td>2293079.0</td>\n    </tr>\n    <tr>\n      <td>Yeni Çağ Journalism and Printing (?)</td>\n      <td>3863184.0</td>\n    </tr>\n    <tr>\n      <td>İhlas Holding</td>\n      <td>32652127.0</td>\n    </tr>\n    <tr>\n      <td>İleri Journalism</td>\n      <td>1689775.0</td>\n    </tr>\n    <tr>\n      <td>Şefik Hüsnü Değmer (?)</td>\n      <td>10932347.0</td>\n    </tr>\n    <tr>\n      <td>‎Burak Akbay</td>\n      <td>1218098.0</td>\n    </tr>\n    <tr>\n      <td>‎Ramazan Fatih Uğurlu</td>\n      <td>10848323.0</td>\n    </tr>\n  </tbody>\n</table>\n</div>"
     },
     "metadata": {},
     "output_type": "execute_result",
     "execution_count": 24
    }
   ],
   "source": [
    "circulation_by_owner = years_data.groupby(\"owner\").sum()\n",
    "# circulation_by_owner.to_excel(\"circulation_by_owner.xlsx\")\n",
    "circulation_by_owner[\"owner_political_status\"]"
   ],
   "metadata": {
    "collapsed": false,
    "pycharm": {
     "name": "#%%\n",
     "is_executing": false
    }
   }
  },
  {
   "cell_type": "code",
   "execution_count": 85,
   "outputs": [],
   "source": [
    "years_data.to_excel(\"years_data.xlsx\")"
   ],
   "metadata": {
    "collapsed": false,
    "pycharm": {
     "name": "#%%\n",
     "is_executing": false
    }
   }
  },
  {
   "cell_type": "code",
   "execution_count": 66,
   "outputs": [
    {
     "name": "stderr",
     "text": [
      "c:\\users\\da12\\appdata\\local\\programs\\python\\python36\\lib\\site-packages\\ipykernel_launcher.py:1: FutureWarning: Comparing Series of datetimes with 'datetime.date'.  Currently, the\n'datetime.date' is coerced to a datetime. In the future pandas will\nnot coerce, and a TypeError will be raised. To retain the current\nbehavior, convert the 'datetime.date' to a datetime with\n'pd.Timestamp'.\n  \"\"\"Entry point for launching an IPython kernel.\n"
     ],
     "output_type": "stream"
    },
    {
     "data": {
      "text/plain": "21"
     },
     "metadata": {},
     "output_type": "execute_result",
     "execution_count": 66
    }
   ],
   "source": [
    "years_data[years_data[\"date\"] > datetime.date(2019,1,1)][\"newspaper\"].nunique()"
   ],
   "metadata": {
    "collapsed": false,
    "pycharm": {
     "name": "#%%\n",
     "is_executing": false
    }
   }
  },
  {
   "cell_type": "code",
   "execution_count": 75,
   "outputs": [
    {
     "traceback": [
      "\u001b[1;31m---------------------------------------------------------------------------\u001b[0m",
      "\u001b[1;31mValueError\u001b[0m                                Traceback (most recent call last)",
      "\u001b[1;32m<ipython-input-75-5d13d163f040>\u001b[0m in \u001b[0;36m<module>\u001b[1;34m\u001b[0m\n\u001b[1;32m----> 1\u001b[1;33m \u001b[0mpd\u001b[0m\u001b[1;33m.\u001b[0m\u001b[0mDataFrame\u001b[0m\u001b[1;33m.\u001b[0m\u001b[0mfrom_dict\u001b[0m\u001b[1;33m(\u001b[0m\u001b[0mowners\u001b[0m\u001b[1;33m,\u001b[0m \u001b[1;33m)\u001b[0m\u001b[1;33m\u001b[0m\u001b[1;33m\u001b[0m\u001b[0m\n\u001b[0m",
      "\u001b[1;32mc:\\users\\da12\\appdata\\local\\programs\\python\\python36\\lib\\site-packages\\pandas\\core\\frame.py\u001b[0m in \u001b[0;36mfrom_dict\u001b[1;34m(cls, data, orient, dtype, columns)\u001b[0m\n\u001b[0;32m   1188\u001b[0m             \u001b[1;32mraise\u001b[0m \u001b[0mValueError\u001b[0m\u001b[1;33m(\u001b[0m\u001b[1;34m\"only recognize index or columns for orient\"\u001b[0m\u001b[1;33m)\u001b[0m\u001b[1;33m\u001b[0m\u001b[1;33m\u001b[0m\u001b[0m\n\u001b[0;32m   1189\u001b[0m \u001b[1;33m\u001b[0m\u001b[0m\n\u001b[1;32m-> 1190\u001b[1;33m         \u001b[1;32mreturn\u001b[0m \u001b[0mcls\u001b[0m\u001b[1;33m(\u001b[0m\u001b[0mdata\u001b[0m\u001b[1;33m,\u001b[0m \u001b[0mindex\u001b[0m\u001b[1;33m=\u001b[0m\u001b[0mindex\u001b[0m\u001b[1;33m,\u001b[0m \u001b[0mcolumns\u001b[0m\u001b[1;33m=\u001b[0m\u001b[0mcolumns\u001b[0m\u001b[1;33m,\u001b[0m \u001b[0mdtype\u001b[0m\u001b[1;33m=\u001b[0m\u001b[0mdtype\u001b[0m\u001b[1;33m)\u001b[0m\u001b[1;33m\u001b[0m\u001b[1;33m\u001b[0m\u001b[0m\n\u001b[0m\u001b[0;32m   1191\u001b[0m \u001b[1;33m\u001b[0m\u001b[0m\n\u001b[0;32m   1192\u001b[0m     \u001b[1;32mdef\u001b[0m \u001b[0mto_numpy\u001b[0m\u001b[1;33m(\u001b[0m\u001b[0mself\u001b[0m\u001b[1;33m,\u001b[0m \u001b[0mdtype\u001b[0m\u001b[1;33m=\u001b[0m\u001b[1;32mNone\u001b[0m\u001b[1;33m,\u001b[0m \u001b[0mcopy\u001b[0m\u001b[1;33m=\u001b[0m\u001b[1;32mFalse\u001b[0m\u001b[1;33m)\u001b[0m\u001b[1;33m:\u001b[0m\u001b[1;33m\u001b[0m\u001b[1;33m\u001b[0m\u001b[0m\n",
      "\u001b[1;32mc:\\users\\da12\\appdata\\local\\programs\\python\\python36\\lib\\site-packages\\pandas\\core\\frame.py\u001b[0m in \u001b[0;36m__init__\u001b[1;34m(self, data, index, columns, dtype, copy)\u001b[0m\n\u001b[0;32m    409\u001b[0m             )\n\u001b[0;32m    410\u001b[0m         \u001b[1;32melif\u001b[0m \u001b[0misinstance\u001b[0m\u001b[1;33m(\u001b[0m\u001b[0mdata\u001b[0m\u001b[1;33m,\u001b[0m \u001b[0mdict\u001b[0m\u001b[1;33m)\u001b[0m\u001b[1;33m:\u001b[0m\u001b[1;33m\u001b[0m\u001b[1;33m\u001b[0m\u001b[0m\n\u001b[1;32m--> 411\u001b[1;33m             \u001b[0mmgr\u001b[0m \u001b[1;33m=\u001b[0m \u001b[0minit_dict\u001b[0m\u001b[1;33m(\u001b[0m\u001b[0mdata\u001b[0m\u001b[1;33m,\u001b[0m \u001b[0mindex\u001b[0m\u001b[1;33m,\u001b[0m \u001b[0mcolumns\u001b[0m\u001b[1;33m,\u001b[0m \u001b[0mdtype\u001b[0m\u001b[1;33m=\u001b[0m\u001b[0mdtype\u001b[0m\u001b[1;33m)\u001b[0m\u001b[1;33m\u001b[0m\u001b[1;33m\u001b[0m\u001b[0m\n\u001b[0m\u001b[0;32m    412\u001b[0m         \u001b[1;32melif\u001b[0m \u001b[0misinstance\u001b[0m\u001b[1;33m(\u001b[0m\u001b[0mdata\u001b[0m\u001b[1;33m,\u001b[0m \u001b[0mma\u001b[0m\u001b[1;33m.\u001b[0m\u001b[0mMaskedArray\u001b[0m\u001b[1;33m)\u001b[0m\u001b[1;33m:\u001b[0m\u001b[1;33m\u001b[0m\u001b[1;33m\u001b[0m\u001b[0m\n\u001b[0;32m    413\u001b[0m             \u001b[1;32mimport\u001b[0m \u001b[0mnumpy\u001b[0m\u001b[1;33m.\u001b[0m\u001b[0mma\u001b[0m\u001b[1;33m.\u001b[0m\u001b[0mmrecords\u001b[0m \u001b[1;32mas\u001b[0m \u001b[0mmrecords\u001b[0m\u001b[1;33m\u001b[0m\u001b[1;33m\u001b[0m\u001b[0m\n",
      "\u001b[1;32mc:\\users\\da12\\appdata\\local\\programs\\python\\python36\\lib\\site-packages\\pandas\\core\\internals\\construction.py\u001b[0m in \u001b[0;36minit_dict\u001b[1;34m(data, index, columns, dtype)\u001b[0m\n\u001b[0;32m    255\u001b[0m             \u001b[0marr\u001b[0m \u001b[1;32mif\u001b[0m \u001b[1;32mnot\u001b[0m \u001b[0mis_datetime64tz_dtype\u001b[0m\u001b[1;33m(\u001b[0m\u001b[0marr\u001b[0m\u001b[1;33m)\u001b[0m \u001b[1;32melse\u001b[0m \u001b[0marr\u001b[0m\u001b[1;33m.\u001b[0m\u001b[0mcopy\u001b[0m\u001b[1;33m(\u001b[0m\u001b[1;33m)\u001b[0m \u001b[1;32mfor\u001b[0m \u001b[0marr\u001b[0m \u001b[1;32min\u001b[0m \u001b[0marrays\u001b[0m\u001b[1;33m\u001b[0m\u001b[1;33m\u001b[0m\u001b[0m\n\u001b[0;32m    256\u001b[0m         ]\n\u001b[1;32m--> 257\u001b[1;33m     \u001b[1;32mreturn\u001b[0m \u001b[0marrays_to_mgr\u001b[0m\u001b[1;33m(\u001b[0m\u001b[0marrays\u001b[0m\u001b[1;33m,\u001b[0m \u001b[0mdata_names\u001b[0m\u001b[1;33m,\u001b[0m \u001b[0mindex\u001b[0m\u001b[1;33m,\u001b[0m \u001b[0mcolumns\u001b[0m\u001b[1;33m,\u001b[0m \u001b[0mdtype\u001b[0m\u001b[1;33m=\u001b[0m\u001b[0mdtype\u001b[0m\u001b[1;33m)\u001b[0m\u001b[1;33m\u001b[0m\u001b[1;33m\u001b[0m\u001b[0m\n\u001b[0m\u001b[0;32m    258\u001b[0m \u001b[1;33m\u001b[0m\u001b[0m\n\u001b[0;32m    259\u001b[0m \u001b[1;33m\u001b[0m\u001b[0m\n",
      "\u001b[1;32mc:\\users\\da12\\appdata\\local\\programs\\python\\python36\\lib\\site-packages\\pandas\\core\\internals\\construction.py\u001b[0m in \u001b[0;36marrays_to_mgr\u001b[1;34m(arrays, arr_names, index, columns, dtype)\u001b[0m\n\u001b[0;32m     75\u001b[0m     \u001b[1;31m# figure out the index, if necessary\u001b[0m\u001b[1;33m\u001b[0m\u001b[1;33m\u001b[0m\u001b[1;33m\u001b[0m\u001b[0m\n\u001b[0;32m     76\u001b[0m     \u001b[1;32mif\u001b[0m \u001b[0mindex\u001b[0m \u001b[1;32mis\u001b[0m \u001b[1;32mNone\u001b[0m\u001b[1;33m:\u001b[0m\u001b[1;33m\u001b[0m\u001b[1;33m\u001b[0m\u001b[0m\n\u001b[1;32m---> 77\u001b[1;33m         \u001b[0mindex\u001b[0m \u001b[1;33m=\u001b[0m \u001b[0mextract_index\u001b[0m\u001b[1;33m(\u001b[0m\u001b[0marrays\u001b[0m\u001b[1;33m)\u001b[0m\u001b[1;33m\u001b[0m\u001b[1;33m\u001b[0m\u001b[0m\n\u001b[0m\u001b[0;32m     78\u001b[0m     \u001b[1;32melse\u001b[0m\u001b[1;33m:\u001b[0m\u001b[1;33m\u001b[0m\u001b[1;33m\u001b[0m\u001b[0m\n\u001b[0;32m     79\u001b[0m         \u001b[0mindex\u001b[0m \u001b[1;33m=\u001b[0m \u001b[0mensure_index\u001b[0m\u001b[1;33m(\u001b[0m\u001b[0mindex\u001b[0m\u001b[1;33m)\u001b[0m\u001b[1;33m\u001b[0m\u001b[1;33m\u001b[0m\u001b[0m\n",
      "\u001b[1;32mc:\\users\\da12\\appdata\\local\\programs\\python\\python36\\lib\\site-packages\\pandas\\core\\internals\\construction.py\u001b[0m in \u001b[0;36mextract_index\u001b[1;34m(data)\u001b[0m\n\u001b[0;32m    356\u001b[0m \u001b[1;33m\u001b[0m\u001b[0m\n\u001b[0;32m    357\u001b[0m         \u001b[1;32mif\u001b[0m \u001b[1;32mnot\u001b[0m \u001b[0mindexes\u001b[0m \u001b[1;32mand\u001b[0m \u001b[1;32mnot\u001b[0m \u001b[0mraw_lengths\u001b[0m\u001b[1;33m:\u001b[0m\u001b[1;33m\u001b[0m\u001b[1;33m\u001b[0m\u001b[0m\n\u001b[1;32m--> 358\u001b[1;33m             \u001b[1;32mraise\u001b[0m \u001b[0mValueError\u001b[0m\u001b[1;33m(\u001b[0m\u001b[1;34m\"If using all scalar values, you must pass an index\"\u001b[0m\u001b[1;33m)\u001b[0m\u001b[1;33m\u001b[0m\u001b[1;33m\u001b[0m\u001b[0m\n\u001b[0m\u001b[0;32m    359\u001b[0m \u001b[1;33m\u001b[0m\u001b[0m\n\u001b[0;32m    360\u001b[0m         \u001b[1;32mif\u001b[0m \u001b[0mhave_series\u001b[0m\u001b[1;33m:\u001b[0m\u001b[1;33m\u001b[0m\u001b[1;33m\u001b[0m\u001b[0m\n",
      "\u001b[1;31mValueError\u001b[0m: If using all scalar values, you must pass an index"
     ],
     "ename": "ValueError",
     "evalue": "If using all scalar values, you must pass an index",
     "output_type": "error"
    }
   ],
   "source": [
    "pd.DataFrame.from_dict(owners,)"
   ],
   "metadata": {
    "collapsed": false,
    "pycharm": {
     "name": "#%%\n",
     "is_executing": false
    }
   }
  }
 ],
 "metadata": {
  "language_info": {
   "codemirror_mode": {
    "name": "ipython",
    "version": 2
   },
   "file_extension": ".py",
   "mimetype": "text/x-python",
   "name": "python",
   "nbconvert_exporter": "python",
   "pygments_lexer": "ipython2",
   "version": "2.7.6"
  },
  "kernelspec": {
   "name": "python3",
   "language": "python",
   "display_name": "Python 3"
  },
  "pycharm": {
   "stem_cell": {
    "cell_type": "raw",
    "source": [],
    "metadata": {
     "collapsed": false
    }
   }
  }
 },
 "nbformat": 4,
 "nbformat_minor": 0
}