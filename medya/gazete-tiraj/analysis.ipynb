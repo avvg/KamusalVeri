{
 "cells": [
  {
   "cell_type": "code",
   "execution_count": 86,
   "metadata": {
    "collapsed": true,
    "pycharm": {
     "name": "#%%\n",
     "is_executing": false
    }
   },
   "outputs": [],
   "source": [
    "import pandas as pd\n",
    "import numpy as np\n",
    "import datetime\n",
    "dateparse = lambda x: pd.datetime.strptime(x, \"%d.%m.%Y\")"
   ]
  },
  {
   "cell_type": "code",
   "execution_count": 90,
   "outputs": [],
   "source": [
    "import glob\n",
    "filenames = glob.glob(\"yearly/*.csv\")"
   ],
   "metadata": {
    "collapsed": false,
    "pycharm": {
     "name": "#%%\n",
     "is_executing": false
    }
   }
  },
  {
   "cell_type": "code",
   "execution_count": 91,
   "outputs": [],
   "source": [
    "years_pd = []\n",
    "for filename in filenames:\n",
    "    with open(filename, encoding=\"utf8\") as file:\n",
    "        yearly_data = pd.read_csv(file, index_col=[0], parse_dates=[\"date\"], date_parser=dateparse)\n",
    "    years_pd.append(yearly_data)"
   ],
   "metadata": {
    "collapsed": false,
    "pycharm": {
     "name": "#%%\n",
     "is_executing": false
    }
   }
  },
  {
   "cell_type": "code",
   "execution_count": 92,
   "outputs": [],
   "source": [
    "years_data = pd.concat(years_pd, ignore_index=True)"
   ],
   "metadata": {
    "collapsed": false,
    "pycharm": {
     "name": "#%%\n",
     "is_executing": false
    }
   }
  },
  {
   "cell_type": "code",
   "execution_count": 93,
   "outputs": [],
   "source": [
    "years_data[\"month\"] = years_data[\"date\"].map(lambda x: datetime.datetime.strftime(x, \"%Y-%m\")) # str(x.year) + \"-\" + str(x.month)\n",
    "years_data[\"month\"]\n",
    "years_data[\"circulation\"] = years_data[\"circulation\"] * 1000"
   ],
   "metadata": {
    "collapsed": false,
    "pycharm": {
     "name": "#%%\n",
     "is_executing": false
    }
   }
  },
  {
   "cell_type": "code",
   "execution_count": 96,
   "outputs": [
    {
     "data": {
      "text/plain": "0       881764.0\n1       377938.0\n2       361721.0\n3       332245.0\n4       304894.0\n          ...   \n5611     31707.0\n5612     29637.0\n5613     14644.0\n5614     13212.0\n5615     10907.0\nName: circulation, Length: 5616, dtype: float64"
     },
     "metadata": {},
     "output_type": "execute_result",
     "execution_count": 96
    }
   ],
   "source": [
    "years_data[\"circulation\"]"
   ],
   "metadata": {
    "collapsed": false,
    "pycharm": {
     "name": "#%%\n",
     "is_executing": false
    }
   }
  },
  {
   "cell_type": "code",
   "execution_count": 97,
   "outputs": [],
   "source": [
    "date_pivot = years_data.pivot_table(values=[\"circulation\"], columns=[\"month\"], index=[\"newspaper\"], aggfunc=np.sum)\n",
    "date_pivot.to_excel(\"date_pivot_2016.xlsx\")"
   ],
   "metadata": {
    "collapsed": false,
    "pycharm": {
     "name": "#%%\n",
     "is_executing": false
    }
   }
  },
  {
   "cell_type": "code",
   "execution_count": 98,
   "outputs": [
    {
     "data": {
      "text/plain": "<matplotlib.axes._subplots.AxesSubplot at 0x27a71b0f1d0>"
     },
     "metadata": {},
     "output_type": "execute_result",
     "execution_count": 98
    },
    {
     "data": {
      "text/plain": "<Figure size 432x288 with 1 Axes>",
      "image/png": "[encoded data removed]"
     },
     "metadata": {
      "needs_background": "light"
     },
     "output_type": "display_data"
    }
   ],
   "source": [
    "years_data[years_data[\"newspaper\"] == \"ÖZGÜR DÜŞÜNCE\"].plot(x=\"date\", y=\"circulation\", kind=\"line\")\n"
   ],
   "metadata": {
    "collapsed": false,
    "pycharm": {
     "name": "#%%\n",
     "is_executing": false
    }
   }
  },
  {
   "cell_type": "code",
   "execution_count": 99,
   "outputs": [
    {
     "data": {
      "text/plain": "{'newspaper': ' owner',\n 'ZAMAN': ' Feza Publications',\n 'POSTA': ' Demirören',\n 'HÜRRİYET': ' Demirören',\n 'SÖZCÜ': ' Burak Akbay',\n 'SABAH': ' Turkuvaz',\n 'HABERTÜRK': ' Ciner Holding',\n 'P.FOTOMAÇ': ' Turkuvaz',\n 'TÜRKİYE': ' İhlas Holding',\n 'MİLLİYET': ' Demirören',\n 'FANATİK': ' Demirören',\n 'BUGÜN': ' Koza İpek Holding',\n 'YENİ ŞAFAK': ' Albayrak',\n 'TAKVİM': ' Turkuvaz',\n 'AKŞAM': ' T Media',\n 'VATAN': ' Demirören',\n 'GÜNEŞ': ' T Media',\n 'STAR': ' Star Media (?)',\n 'TARAF': ' Başar Arslan (?)',\n 'AYDINLIK': ' Şefik Hüsnü Değmer (?)',\n 'CUMHURİYET': ' Cumhuriyet Vakfı',\n 'YENİ ÇAĞ': ' Yeni Çağ Journalism and Printing (?)',\n 'YENİ ASYA': ' Yeni Asya Journalism Printing and Publishing (Mehmet Kutlular)',\n 'MİLLET': ' İleri Journalism',\n 'YENİ AKİT': ' \\u200eRamazan Fatih Uğurlu',\n 'AMK': ' \\u200eBurak Akbay',\n 'ŞOK': ' ABC Media Agency',\n 'MİLLİ GAZETE': ' Yeni Neşriyat',\n 'YURT': ' Ayna Journalism and Production',\n 'MEYDAN': ' Feza Publishing (?)',\n 'KORKUSUZ': ' Burak Akbay',\n 'MİLAT': ' MEKA Journalism',\n 'YENİ YÜZYIL': ' Mansur Topçuoğlu',\n 'İSTİKLAL': ' Hüseyin Arif Çakmak',\n 'YARINA BAKIŞ': ' Feza Publications (?)',\n 'KARAR': ' Karar Publications',\n 'ÖZGÜR DÜŞÜNCE': ' Feza Publications (?)',\n 'YENİ HAYAT': ' Feza Publications (?)',\n 'DOĞRU HABER': ' Doğru Print and Publishing',\n 'YENİ ASIR': ' Turkuvaz',\n 'YENİ BİRLİK': ' Ufuk Journalism'}"
     },
     "metadata": {},
     "output_type": "execute_result",
     "execution_count": 99
    }
   ],
   "source": [
    "years_data[\"newspaper\"].unique()\n",
    "owners = {}\n",
    "with open(\"owners.csv\", encoding=\"utf8\") as owners_file:\n",
    "    for line in owners_file.readlines():\n",
    "        line = line.split(\",\")\n",
    "        owners[line[0]] = line[1].replace(\"\\n\", \"\")\n",
    "owners"
   ],
   "metadata": {
    "collapsed": false,
    "pycharm": {
     "name": "#%%\n",
     "is_executing": false
    }
   }
  },
  {
   "cell_type": "code",
   "execution_count": 100,
   "outputs": [
    {
     "name": "stderr",
     "text": [
      "c:\\users\\da12\\appdata\\local\\programs\\python\\python36\\lib\\site-packages\\ipykernel_launcher.py:4: SettingWithCopyWarning: \nA value is trying to be set on a copy of a slice from a DataFrame\n\nSee the caveats in the documentation: http://pandas.pydata.org/pandas-docs/stable/user_guide/indexing.html#returning-a-view-versus-a-copy\n  after removing the cwd from sys.path.\n"
     ],
     "output_type": "stream"
    }
   ],
   "source": [
    "years_data[\"owner\"] = None\n",
    "for record in years_data.index:\n",
    "    newspaper_name = years_data[\"newspaper\"][record]\n",
    "    years_data[\"owner\"][record] = owners[newspaper_name]"
   ],
   "metadata": {
    "collapsed": false,
    "pycharm": {
     "name": "#%%\n",
     "is_executing": false
    }
   }
  },
  {
   "cell_type": "code",
   "execution_count": 105,
   "outputs": [
    {
     "data": {
      "text/plain": "                                                    circulation\nowner                                                          \n ABC Media Agency                                      816201.0\n Albayrak                                            25920389.0\n Ayna Journalism and Production                        272666.0\n Başar Arslan (?)                                     3232325.0\n Burak Akbay                                         77436500.0\n Ciner Holding                                       33359263.0\n Cumhuriyet Vakfı                                     9891667.0\n Demirören                                          208837645.0\n Doğru Print and Publishing                           3604479.0\n Feza Publications                                   35240944.0\n Feza Publications (?)                                2387145.0\n Feza Publishing (?)                                  5084711.0\n Hüseyin Arif Çakmak                                  1379398.0\n Karar Publications                                   7380593.0\n Koza İpek Holding                                    3741451.0\n MEKA Journalism                                      1818902.0\n Mansur Topçuoğlu                                      473114.0\n Star Media (?)                                      24223579.0\n T Media                                             49374681.0\n Turkuvaz                                           135320755.0\n Ufuk Journalism                                       857174.0\n Yeni Asya Journalism Printing and Publishing (...    3008526.0\n Yeni Neşriyat                                        2293079.0\n Yeni Çağ Journalism and Printing (?)                 3863184.0\n İhlas Holding                                       32652127.0\n İleri Journalism                                     1689775.0\n Şefik Hüsnü Değmer (?)                              10932347.0\n ‎Burak Akbay                                         1218098.0\n ‎Ramazan Fatih Uğurlu                               10848323.0",
      "text/html": "<div>\n<style scoped>\n    .dataframe tbody tr th:only-of-type {\n        vertical-align: middle;\n    }\n\n    .dataframe tbody tr th {\n        vertical-align: top;\n    }\n\n    .dataframe thead th {\n        text-align: right;\n    }\n</style>\n<table border=\"1\" class=\"dataframe\">\n  <thead>\n    <tr style=\"text-align: right;\">\n      <th></th>\n      <th>circulation</th>\n    </tr>\n    <tr>\n      <th>owner</th>\n      <th></th>\n    </tr>\n  </thead>\n  <tbody>\n    <tr>\n      <td>ABC Media Agency</td>\n      <td>816201.0</td>\n    </tr>\n    <tr>\n      <td>Albayrak</td>\n      <td>25920389.0</td>\n    </tr>\n    <tr>\n      <td>Ayna Journalism and Production</td>\n      <td>272666.0</td>\n    </tr>\n    <tr>\n      <td>Başar Arslan (?)</td>\n      <td>3232325.0</td>\n    </tr>\n    <tr>\n      <td>Burak Akbay</td>\n      <td>77436500.0</td>\n    </tr>\n    <tr>\n      <td>Ciner Holding</td>\n      <td>33359263.0</td>\n    </tr>\n    <tr>\n      <td>Cumhuriyet Vakfı</td>\n      <td>9891667.0</td>\n    </tr>\n    <tr>\n      <td>Demirören</td>\n      <td>208837645.0</td>\n    </tr>\n    <tr>\n      <td>Doğru Print and Publishing</td>\n      <td>3604479.0</td>\n    </tr>\n    <tr>\n      <td>Feza Publications</td>\n      <td>35240944.0</td>\n    </tr>\n    <tr>\n      <td>Feza Publications (?)</td>\n      <td>2387145.0</td>\n    </tr>\n    <tr>\n      <td>Feza Publishing (?)</td>\n      <td>5084711.0</td>\n    </tr>\n    <tr>\n      <td>Hüseyin Arif Çakmak</td>\n      <td>1379398.0</td>\n    </tr>\n    <tr>\n      <td>Karar Publications</td>\n      <td>7380593.0</td>\n    </tr>\n    <tr>\n      <td>Koza İpek Holding</td>\n      <td>3741451.0</td>\n    </tr>\n    <tr>\n      <td>MEKA Journalism</td>\n      <td>1818902.0</td>\n    </tr>\n    <tr>\n      <td>Mansur Topçuoğlu</td>\n      <td>473114.0</td>\n    </tr>\n    <tr>\n      <td>Star Media (?)</td>\n      <td>24223579.0</td>\n    </tr>\n    <tr>\n      <td>T Media</td>\n      <td>49374681.0</td>\n    </tr>\n    <tr>\n      <td>Turkuvaz</td>\n      <td>135320755.0</td>\n    </tr>\n    <tr>\n      <td>Ufuk Journalism</td>\n      <td>857174.0</td>\n    </tr>\n    <tr>\n      <td>Yeni Asya Journalism Printing and Publishing (Mehmet Kutlular)</td>\n      <td>3008526.0</td>\n    </tr>\n    <tr>\n      <td>Yeni Neşriyat</td>\n      <td>2293079.0</td>\n    </tr>\n    <tr>\n      <td>Yeni Çağ Journalism and Printing (?)</td>\n      <td>3863184.0</td>\n    </tr>\n    <tr>\n      <td>İhlas Holding</td>\n      <td>32652127.0</td>\n    </tr>\n    <tr>\n      <td>İleri Journalism</td>\n      <td>1689775.0</td>\n    </tr>\n    <tr>\n      <td>Şefik Hüsnü Değmer (?)</td>\n      <td>10932347.0</td>\n    </tr>\n    <tr>\n      <td>‎Burak Akbay</td>\n      <td>1218098.0</td>\n    </tr>\n    <tr>\n      <td>‎Ramazan Fatih Uğurlu</td>\n      <td>10848323.0</td>\n    </tr>\n  </tbody>\n</table>\n</div>"
     },
     "metadata": {},
     "output_type": "execute_result",
     "execution_count": 105
    }
   ],
   "source": [
    "circulation_by_owner = years_data.groupby(\"owner\").sum()\n",
    "circulation_by_owner.to_excel(\"circulation_by_owner.xlsx\")\n",
    "circulation_by_owner"
   ],
   "metadata": {
    "collapsed": false,
    "pycharm": {
     "name": "#%%\n",
     "is_executing": false
    }
   }
  },
  {
   "cell_type": "code",
   "execution_count": 102,
   "outputs": [
    {
     "data": {
      "text/plain": "Empty DataFrame\nColumns: [date, newspaper, circulation, month, owner]\nIndex: []",
      "text/html": "<div>\n<style scoped>\n    .dataframe tbody tr th:only-of-type {\n        vertical-align: middle;\n    }\n\n    .dataframe tbody tr th {\n        vertical-align: top;\n    }\n\n    .dataframe thead th {\n        text-align: right;\n    }\n</style>\n<table border=\"1\" class=\"dataframe\">\n  <thead>\n    <tr style=\"text-align: right;\">\n      <th></th>\n      <th>date</th>\n      <th>newspaper</th>\n      <th>circulation</th>\n      <th>month</th>\n      <th>owner</th>\n    </tr>\n  </thead>\n  <tbody>\n  </tbody>\n</table>\n</div>"
     },
     "metadata": {},
     "output_type": "execute_result",
     "execution_count": 102
    }
   ],
   "source": [
    "years_data[years_data[\"owner\"] == \"Demirören\"]"
   ],
   "metadata": {
    "collapsed": false,
    "pycharm": {
     "name": "#%%\n",
     "is_executing": false
    }
   }
  },
  {
   "cell_type": "code",
   "execution_count": 103,
   "outputs": [
    {
     "data": {
      "text/plain": "208837645.0"
     },
     "metadata": {},
     "output_type": "execute_result",
     "execution_count": 103
    }
   ],
   "source": [
    "years_data[years_data[\"owner\"] == \" Demirören\"][\"circulation\"].sum()"
   ],
   "metadata": {
    "collapsed": false,
    "pycharm": {
     "name": "#%%\n",
     "is_executing": false
    }
   }
  },
  {
   "cell_type": "code",
   "execution_count": 107,
   "outputs": [
    {
     "traceback": [
      "\u001b[1;31m---------------------------------------------------------------------------\u001b[0m",
      "\u001b[1;31mValueError\u001b[0m                                Traceback (most recent call last)",
      "\u001b[1;32m<ipython-input-107-7e09892f74b5>\u001b[0m in \u001b[0;36m<module>\u001b[1;34m\u001b[0m\n\u001b[1;32m----> 1\u001b[1;33m \u001b[0mpd\u001b[0m\u001b[1;33m.\u001b[0m\u001b[0mDataFrame\u001b[0m\u001b[1;33m.\u001b[0m\u001b[0mfrom_dict\u001b[0m\u001b[1;33m(\u001b[0m\u001b[0mowners\u001b[0m\u001b[1;33m)\u001b[0m\u001b[1;33m\u001b[0m\u001b[1;33m\u001b[0m\u001b[0m\n\u001b[0m",
      "\u001b[1;32mc:\\users\\da12\\appdata\\local\\programs\\python\\python36\\lib\\site-packages\\pandas\\core\\frame.py\u001b[0m in \u001b[0;36mfrom_dict\u001b[1;34m(cls, data, orient, dtype, columns)\u001b[0m\n\u001b[0;32m   1188\u001b[0m             \u001b[1;32mraise\u001b[0m \u001b[0mValueError\u001b[0m\u001b[1;33m(\u001b[0m\u001b[1;34m\"only recognize index or columns for orient\"\u001b[0m\u001b[1;33m)\u001b[0m\u001b[1;33m\u001b[0m\u001b[1;33m\u001b[0m\u001b[0m\n\u001b[0;32m   1189\u001b[0m \u001b[1;33m\u001b[0m\u001b[0m\n\u001b[1;32m-> 1190\u001b[1;33m         \u001b[1;32mreturn\u001b[0m \u001b[0mcls\u001b[0m\u001b[1;33m(\u001b[0m\u001b[0mdata\u001b[0m\u001b[1;33m,\u001b[0m \u001b[0mindex\u001b[0m\u001b[1;33m=\u001b[0m\u001b[0mindex\u001b[0m\u001b[1;33m,\u001b[0m \u001b[0mcolumns\u001b[0m\u001b[1;33m=\u001b[0m\u001b[0mcolumns\u001b[0m\u001b[1;33m,\u001b[0m \u001b[0mdtype\u001b[0m\u001b[1;33m=\u001b[0m\u001b[0mdtype\u001b[0m\u001b[1;33m)\u001b[0m\u001b[1;33m\u001b[0m\u001b[1;33m\u001b[0m\u001b[0m\n\u001b[0m\u001b[0;32m   1191\u001b[0m \u001b[1;33m\u001b[0m\u001b[0m\n\u001b[0;32m   1192\u001b[0m     \u001b[1;32mdef\u001b[0m \u001b[0mto_numpy\u001b[0m\u001b[1;33m(\u001b[0m\u001b[0mself\u001b[0m\u001b[1;33m,\u001b[0m \u001b[0mdtype\u001b[0m\u001b[1;33m=\u001b[0m\u001b[1;32mNone\u001b[0m\u001b[1;33m,\u001b[0m \u001b[0mcopy\u001b[0m\u001b[1;33m=\u001b[0m\u001b[1;32mFalse\u001b[0m\u001b[1;33m)\u001b[0m\u001b[1;33m:\u001b[0m\u001b[1;33m\u001b[0m\u001b[1;33m\u001b[0m\u001b[0m\n",
      "\u001b[1;32mc:\\users\\da12\\appdata\\local\\programs\\python\\python36\\lib\\site-packages\\pandas\\core\\frame.py\u001b[0m in \u001b[0;36m__init__\u001b[1;34m(self, data, index, columns, dtype, copy)\u001b[0m\n\u001b[0;32m    409\u001b[0m             )\n\u001b[0;32m    410\u001b[0m         \u001b[1;32melif\u001b[0m \u001b[0misinstance\u001b[0m\u001b[1;33m(\u001b[0m\u001b[0mdata\u001b[0m\u001b[1;33m,\u001b[0m \u001b[0mdict\u001b[0m\u001b[1;33m)\u001b[0m\u001b[1;33m:\u001b[0m\u001b[1;33m\u001b[0m\u001b[1;33m\u001b[0m\u001b[0m\n\u001b[1;32m--> 411\u001b[1;33m             \u001b[0mmgr\u001b[0m \u001b[1;33m=\u001b[0m \u001b[0minit_dict\u001b[0m\u001b[1;33m(\u001b[0m\u001b[0mdata\u001b[0m\u001b[1;33m,\u001b[0m \u001b[0mindex\u001b[0m\u001b[1;33m,\u001b[0m \u001b[0mcolumns\u001b[0m\u001b[1;33m,\u001b[0m \u001b[0mdtype\u001b[0m\u001b[1;33m=\u001b[0m\u001b[0mdtype\u001b[0m\u001b[1;33m)\u001b[0m\u001b[1;33m\u001b[0m\u001b[1;33m\u001b[0m\u001b[0m\n\u001b[0m\u001b[0;32m    412\u001b[0m         \u001b[1;32melif\u001b[0m \u001b[0misinstance\u001b[0m\u001b[1;33m(\u001b[0m\u001b[0mdata\u001b[0m\u001b[1;33m,\u001b[0m \u001b[0mma\u001b[0m\u001b[1;33m.\u001b[0m\u001b[0mMaskedArray\u001b[0m\u001b[1;33m)\u001b[0m\u001b[1;33m:\u001b[0m\u001b[1;33m\u001b[0m\u001b[1;33m\u001b[0m\u001b[0m\n\u001b[0;32m    413\u001b[0m             \u001b[1;32mimport\u001b[0m \u001b[0mnumpy\u001b[0m\u001b[1;33m.\u001b[0m\u001b[0mma\u001b[0m\u001b[1;33m.\u001b[0m\u001b[0mmrecords\u001b[0m \u001b[1;32mas\u001b[0m \u001b[0mmrecords\u001b[0m\u001b[1;33m\u001b[0m\u001b[1;33m\u001b[0m\u001b[0m\n",
      "\u001b[1;32mc:\\users\\da12\\appdata\\local\\programs\\python\\python36\\lib\\site-packages\\pandas\\core\\internals\\construction.py\u001b[0m in \u001b[0;36minit_dict\u001b[1;34m(data, index, columns, dtype)\u001b[0m\n\u001b[0;32m    255\u001b[0m             \u001b[0marr\u001b[0m \u001b[1;32mif\u001b[0m \u001b[1;32mnot\u001b[0m \u001b[0mis_datetime64tz_dtype\u001b[0m\u001b[1;33m(\u001b[0m\u001b[0marr\u001b[0m\u001b[1;33m)\u001b[0m \u001b[1;32melse\u001b[0m \u001b[0marr\u001b[0m\u001b[1;33m.\u001b[0m\u001b[0mcopy\u001b[0m\u001b[1;33m(\u001b[0m\u001b[1;33m)\u001b[0m \u001b[1;32mfor\u001b[0m \u001b[0marr\u001b[0m \u001b[1;32min\u001b[0m \u001b[0marrays\u001b[0m\u001b[1;33m\u001b[0m\u001b[1;33m\u001b[0m\u001b[0m\n\u001b[0;32m    256\u001b[0m         ]\n\u001b[1;32m--> 257\u001b[1;33m     \u001b[1;32mreturn\u001b[0m \u001b[0marrays_to_mgr\u001b[0m\u001b[1;33m(\u001b[0m\u001b[0marrays\u001b[0m\u001b[1;33m,\u001b[0m \u001b[0mdata_names\u001b[0m\u001b[1;33m,\u001b[0m \u001b[0mindex\u001b[0m\u001b[1;33m,\u001b[0m \u001b[0mcolumns\u001b[0m\u001b[1;33m,\u001b[0m \u001b[0mdtype\u001b[0m\u001b[1;33m=\u001b[0m\u001b[0mdtype\u001b[0m\u001b[1;33m)\u001b[0m\u001b[1;33m\u001b[0m\u001b[1;33m\u001b[0m\u001b[0m\n\u001b[0m\u001b[0;32m    258\u001b[0m \u001b[1;33m\u001b[0m\u001b[0m\n\u001b[0;32m    259\u001b[0m \u001b[1;33m\u001b[0m\u001b[0m\n",
      "\u001b[1;32mc:\\users\\da12\\appdata\\local\\programs\\python\\python36\\lib\\site-packages\\pandas\\core\\internals\\construction.py\u001b[0m in \u001b[0;36marrays_to_mgr\u001b[1;34m(arrays, arr_names, index, columns, dtype)\u001b[0m\n\u001b[0;32m     75\u001b[0m     \u001b[1;31m# figure out the index, if necessary\u001b[0m\u001b[1;33m\u001b[0m\u001b[1;33m\u001b[0m\u001b[1;33m\u001b[0m\u001b[0m\n\u001b[0;32m     76\u001b[0m     \u001b[1;32mif\u001b[0m \u001b[0mindex\u001b[0m \u001b[1;32mis\u001b[0m \u001b[1;32mNone\u001b[0m\u001b[1;33m:\u001b[0m\u001b[1;33m\u001b[0m\u001b[1;33m\u001b[0m\u001b[0m\n\u001b[1;32m---> 77\u001b[1;33m         \u001b[0mindex\u001b[0m \u001b[1;33m=\u001b[0m \u001b[0mextract_index\u001b[0m\u001b[1;33m(\u001b[0m\u001b[0marrays\u001b[0m\u001b[1;33m)\u001b[0m\u001b[1;33m\u001b[0m\u001b[1;33m\u001b[0m\u001b[0m\n\u001b[0m\u001b[0;32m     78\u001b[0m     \u001b[1;32melse\u001b[0m\u001b[1;33m:\u001b[0m\u001b[1;33m\u001b[0m\u001b[1;33m\u001b[0m\u001b[0m\n\u001b[0;32m     79\u001b[0m         \u001b[0mindex\u001b[0m \u001b[1;33m=\u001b[0m \u001b[0mensure_index\u001b[0m\u001b[1;33m(\u001b[0m\u001b[0mindex\u001b[0m\u001b[1;33m)\u001b[0m\u001b[1;33m\u001b[0m\u001b[1;33m\u001b[0m\u001b[0m\n",
      "\u001b[1;32mc:\\users\\da12\\appdata\\local\\programs\\python\\python36\\lib\\site-packages\\pandas\\core\\internals\\construction.py\u001b[0m in \u001b[0;36mextract_index\u001b[1;34m(data)\u001b[0m\n\u001b[0;32m    356\u001b[0m \u001b[1;33m\u001b[0m\u001b[0m\n\u001b[0;32m    357\u001b[0m         \u001b[1;32mif\u001b[0m \u001b[1;32mnot\u001b[0m \u001b[0mindexes\u001b[0m \u001b[1;32mand\u001b[0m \u001b[1;32mnot\u001b[0m \u001b[0mraw_lengths\u001b[0m\u001b[1;33m:\u001b[0m\u001b[1;33m\u001b[0m\u001b[1;33m\u001b[0m\u001b[0m\n\u001b[1;32m--> 358\u001b[1;33m             \u001b[1;32mraise\u001b[0m \u001b[0mValueError\u001b[0m\u001b[1;33m(\u001b[0m\u001b[1;34m\"If using all scalar values, you must pass an index\"\u001b[0m\u001b[1;33m)\u001b[0m\u001b[1;33m\u001b[0m\u001b[1;33m\u001b[0m\u001b[0m\n\u001b[0m\u001b[0;32m    359\u001b[0m \u001b[1;33m\u001b[0m\u001b[0m\n\u001b[0;32m    360\u001b[0m         \u001b[1;32mif\u001b[0m \u001b[0mhave_series\u001b[0m\u001b[1;33m:\u001b[0m\u001b[1;33m\u001b[0m\u001b[1;33m\u001b[0m\u001b[0m\n",
      "\u001b[1;31mValueError\u001b[0m: If using all scalar values, you must pass an index"
     ],
     "ename": "ValueError",
     "evalue": "If using all scalar values, you must pass an index",
     "output_type": "error"
    }
   ],
   "source": [],
   "metadata": {
    "collapsed": false,
    "pycharm": {
     "name": "#%%\n",
     "is_executing": false
    }
   }
  }
 ],
 "metadata": {
  "language_info": {
   "codemirror_mode": {
    "name": "ipython",
    "version": 2
   },
   "file_extension": ".py",
   "mimetype": "text/x-python",
   "name": "python",
   "nbconvert_exporter": "python",
   "pygments_lexer": "ipython2",
   "version": "2.7.6"
  },
  "kernelspec": {
   "name": "python3",
   "language": "python",
   "display_name": "Python 3"
  },
  "pycharm": {
   "stem_cell": {
    "cell_type": "raw",
    "source": [],
    "metadata": {
     "collapsed": false
    }
   }
  }
 },
 "nbformat": 4,
 "nbformat_minor": 0
}