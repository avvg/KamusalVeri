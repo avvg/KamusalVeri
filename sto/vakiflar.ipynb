{
 "cells": [
  {
   "cell_type": "markdown",
   "metadata": {},
   "source": [
    "# Vakif bilgilerinin cekilmesi\n",
    "Turkiye'de kayitli vakiflarin bilgilerini [Selenium](https://www.seleniumhq.org/) web tarayici emulatoru kullanarak, bir Python 3 scripti ile nasil cekilebilecegini adim adim anlatiyorum. Veriler icin kaynagimiz Vakiflar Genel Mudurlugu (https://www.vgm.gov.tr/) sistemi.\n",
    "Ortaminizda Selenium kurulu degil ise pip ile kurabilirsiniz."
   ]
  },
  {
   "cell_type": "code",
   "execution_count": null,
   "metadata": {},
   "outputs": [],
   "source": [
    "pip install selenium"
   ]
  },
  {
   "cell_type": "markdown",
   "metadata": {},
   "source": [
    "Kutuphaneleri import edelim."
   ]
  },
  {
   "cell_type": "code",
   "execution_count": null,
   "metadata": {},
   "outputs": [],
   "source": [
    "import csv\n",
    "from selenium import webdriver"
   ]
  },
  {
   "cell_type": "markdown",
   "metadata": {},
   "source": [
    "VGM, vakiflari farkli gruplara ayirmis. Her bir gruba farkli ´endpoint´lerden ulasacagiz ama hepsi icin yontem ayni. URL parametresini degistirerek ayni yolu izleyebilirsiniz. "
   ]
  },
  {
   "cell_type": "code",
   "execution_count": null,
   "metadata": {},
   "outputs": [],
   "source": [
    "# url = \"https://www.vgm.gov.tr/vakiflar/Sayfalar/Yeni-Vak%C4%B1f.aspx\"  # yeni vakiflar\n",
    "# url = \"https://www.vgm.gov.tr/vakiflar/Sayfalar/Yabanc%C4%B1-Vak%C4%B1f.aspx\"  # yabanci vakiflar\n",
    "# url = \"https://www.vgm.gov.tr/vakiflar/Sayfalar/M%C3%BClhak-Vak%C4%B1f.aspx\"  # mulhak vakiflar\n",
    "# url = \"https://www.vgm.gov.tr/vakiflar/Sayfalar/Cemaat-Vak%C4%B1flar%C4%B1.aspx\"  # cemaat vakiflari\n",
    "url = \"https://www.vgm.gov.tr/vakiflar/Sayfalar/Burs-Veren-Vak%C4%B1flar.aspx\"  # burs veren vakiflar"
   ]
  },
  {
   "cell_type": "markdown",
   "metadata": {},
   "source": [
    "Asagidaki komut, Python script'imiz kontrolunda bir tarayici acacak. "
   ]
  },
  {
   "cell_type": "code",
   "execution_count": null,
   "metadata": {},
   "outputs": [],
   "source": [
    "driver = webdriver.Chrome()"
   ]
  },
  {
   "cell_type": "markdown",
   "metadata": {},
   "source": [
    "Form sayfasina gidip butona tikliyoruz. Sonuc sayfasi gelene kadar bekleyin. "
   ]
  },
  {
   "cell_type": "code",
   "execution_count": null,
   "metadata": {},
   "outputs": [],
   "source": [
    "driver.get(url)\n",
    "but = driver.find_element_by_css_selector('input[type=submit]')\n",
    "but.click()"
   ]
  },
  {
   "cell_type": "markdown",
   "metadata": {},
   "source": [
    "`csv` dosyamizi acip, sayfalari gezerek verileri kaydediyoruz. "
   ]
  },
  {
   "cell_type": "code",
   "execution_count": null,
   "metadata": {},
   "outputs": [],
   "source": [
    "i = 1\n",
    "with open('vakiflar.csv', 'a') as f:\n",
    "    w = csv.writer(f)\n",
    "\n",
    "    # kolon basliklarini yaz\n",
    "    w.writerow([\n",
    "        'Ad',\n",
    "        'Adres',\n",
    "        'Il / Ilce',\n",
    "        'Tel / Faks',\n",
    "    ])\n",
    "\n",
    "    while True:\n",
    "        print(f'Sayfa: {i}')\n",
    "        table = driver.find_element_by_css_selector('table')\n",
    "        rows = table.find_elements_by_tag_name('tr')\n",
    "        rows = rows[1:-2]\n",
    "        for row in rows:\n",
    "            ad, adres, ilce, tel = row.find_elements_by_tag_name('td')\n",
    "            w.writerow([\n",
    "                ad.text,\n",
    "                adres.text,\n",
    "                ilce.text,\n",
    "                tel.text,\n",
    "            ])\n",
    "        i += 1\n",
    "        try:\n",
    "            link = table.find_element_by_link_text(str(i))\n",
    "        except:\n",
    "            links = table.find_elements_by_link_text('...')\n",
    "            try:\n",
    "                next_link = links[1]\n",
    "            except:\n",
    "                break\n",
    "            else:\n",
    "                next_link.click()\n",
    "        else:\n",
    "            link.click()"
   ]
  },
  {
   "cell_type": "markdown",
   "metadata": {},
   "source": [
    "Arkaniza yaslanip tarayicinizin sizin adiniza sayfalari gezip verileri cekmesini seyredebilirsiniz.  \n",
    "Burada anlatilan islemler, kaynaktaki degisikliklere gore guncelligini kaybedebilir. Bir hata fark ederseniz lutfen bana (onur [at] genelizleyici.com) bildirmekten cekinmeyin."
   ]
  }
 ],
 "metadata": {
  "kernelspec": {
   "display_name": "Python 3",
   "language": "python",
   "name": "python3"
  },
  "language_info": {
   "codemirror_mode": {
    "name": "ipython",
    "version": 3
   },
   "file_extension": ".py",
   "mimetype": "text/x-python",
   "name": "python",
   "nbconvert_exporter": "python",
   "pygments_lexer": "ipython3",
   "version": "3.7.3"
  }
 },
 "nbformat": 4,
 "nbformat_minor": 4
}
