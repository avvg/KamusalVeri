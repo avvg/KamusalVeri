{
 "cells": [
  {
   "cell_type": "markdown",
   "metadata": {},
   "source": [
    "# Kooperatif bilgilerinin cekilmesi\n",
    "Turkiye'de kayitli kooperatiflerin bilgilerini cekmek icin bir Python 3 scriptini adim adim anlatiyorum. Veriler icin kaynagimiz Koopbis (https://koopbis.gtb.gov.tr/) sistemi.\n",
    "\n",
    "Python'un kendi `csv` kutuphanesinin yanisira, HTTP request'lerini kolay yapabilmek icin requests kutuphanesini kullanacagiz. Eger ortaminizda kurulu degil ise kuralim."
   ]
  },
  {
   "cell_type": "code",
   "execution_count": null,
   "metadata": {},
   "outputs": [],
   "source": [
    "pip install requests"
   ]
  },
  {
   "cell_type": "markdown",
   "metadata": {},
   "source": [
    "Kullanacagimiz kutuphaneleri import edelim."
   ]
  },
  {
   "cell_type": "code",
   "execution_count": null,
   "metadata": {},
   "outputs": [],
   "source": [
    "import csv\n",
    "import requests"
   ]
  },
  {
   "cell_type": "markdown",
   "metadata": {},
   "source": [
    "Verileri cekebilmek icin bir `session id`'sine ihtiyacimiz var. Bunu almak icin sayfaya bos bir `POST request` gonderiyoruz. "
   ]
  },
  {
   "cell_type": "code",
   "execution_count": null,
   "metadata": {},
   "outputs": [],
   "source": [
    "session = requests.Session()\n",
    "response = session.post('https://koopbis.gtb.gov.tr/Portal/Home/KKSetFilterParameter')\n",
    "session_id = session.cookies['ASP.NET_SessionId']"
   ]
  },
  {
   "cell_type": "markdown",
   "metadata": {},
   "source": [
    "Aldigimiz session id'sini kullanarak, bir sonsuz dongu icerisinde sayfa sayfa sonuclari cekip ´csv´ dosyasina yaziyoruz. "
   ]
  },
  {
   "cell_type": "code",
   "execution_count": null,
   "metadata": {},
   "outputs": [],
   "source": [
    "with open('kooperatifler.csv', 'w') as f:\n",
    "    writer = csv.writer(f)\n",
    "\n",
    "    # kolon basliklarini yazdiralim\n",
    "    writer.writerow([\n",
    "        'Id',\n",
    "        'Unvani',\n",
    "        'Turu',\n",
    "        'Kurulus',\n",
    "        'Merkezi',\n",
    "    ])\n",
    "\n",
    "    p = 1\n",
    "    while True:\n",
    "        # sayfa numaralarini yazdiriralim ki bir hata olursa nerede kaldigimizi bilelim\n",
    "        print(f'Sayfa: {p}')\n",
    "        response = requests.post(\n",
    "            'https://koopbis.gtb.gov.tr/Portal/Home/KoopKisaAraResult',\n",
    "            data={\n",
    "                'page': p,\n",
    "                'pageSize': 1000,\n",
    "            },\n",
    "            cookies={\n",
    "                'ASP.NET_SessionId': session_id\n",
    "            }\n",
    "        )\n",
    "        for koop in response.json()['Data']['Items']:\n",
    "            row = [\n",
    "                koop['Id'],\n",
    "                koop['Unvani'],\n",
    "                koop['Turu'],\n",
    "                koop['Kurulus'],\n",
    "                koop['Merkezi'],\n",
    "            ]\n",
    "            writer.writerow(row)\n",
    "        p += 1\n",
    "        if p > response.json()['PageCount']:\n",
    "            # tum kooperatifler cekildi\n",
    "            break"
   ]
  },
  {
   "cell_type": "markdown",
   "metadata": {},
   "source": [
    "Burada anlatilan islemler, kaynaktaki degisikliklere gore guncelligini kaybedebilir. Bir hata fark ederseniz lutfen bana (onur [at] genelizleyici.com) bildirmekten cekinmeyin. "
   ]
  }
 ],
 "metadata": {
  "kernelspec": {
   "display_name": "Python 3",
   "language": "python",
   "name": "python3"
  },
  "language_info": {
   "codemirror_mode": {
    "name": "ipython",
    "version": 3
   },
   "file_extension": ".py",
   "mimetype": "text/x-python",
   "name": "python",
   "nbconvert_exporter": "python",
   "pygments_lexer": "ipython3",
   "version": "3.7.3"
  }
 },
 "nbformat": 4,
 "nbformat_minor": 4
}
