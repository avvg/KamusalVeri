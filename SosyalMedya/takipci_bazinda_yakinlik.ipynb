{
 "cells": [
  {
   "cell_type": "markdown",
   "metadata": {},
   "source": [
    "# Twitter takipçileri bazında yakınlık"
   ]
  },
  {
   "cell_type": "code",
   "execution_count": null,
   "metadata": {},
   "outputs": [],
   "source": [
    "%pip install rekognize"
   ]
  },
  {
   "cell_type": "markdown",
   "metadata": {},
   "source": [
    "Twitter istemcimizi oluşturalım. Bunun için https://rekognize.io/twitter/ adresinden token almanız gerekiyor."
   ]
  },
  {
   "cell_type": "code",
   "execution_count": 1,
   "metadata": {},
   "outputs": [],
   "source": [
    "from rekognize.twitter import UserClient\n",
    "\n",
    "ACCESS_TOKEN = 'ACCESS_TOKEN'                # <- kendi token'ın\n",
    "ACCESS_TOKEN_SECRET = 'ACCESS_TOKEN_SECRET'  # <- kendi token secret'ın\n",
    "\n",
    "client = UserClient(\n",
    "    ACCESS_TOKEN,\n",
    "    ACCESS_TOKEN_SECRET\n",
    ")"
   ]
  },
  {
   "cell_type": "markdown",
   "metadata": {},
   "source": [
    "Değişkenlerimizi oluşturalım."
   ]
  },
  {
   "cell_type": "code",
   "execution_count": null,
   "metadata": {},
   "outputs": [],
   "source": [
    "from collections import defaultdict\n",
    "\n",
    "# karsilastirilacak Twitter kullanici hesaplari\n",
    "usernames = [\n",
    "    'Akparti',\n",
    "    'herkesicinCHP',\n",
    "    'HDPgenelmerkezi',\n",
    "    'MHP_Bilgi',\n",
    "    'iyiparti',\n",
    "    'GelecekPartiTR',\n",
    "    'devapartisi',\n",
    "]\n",
    "\n",
    "n = 50000  # cekilecek toplam takipci sayisi
    "\n",
    "connections = defaultdict(list)"
   ]
  },
  {
   "cell_type": "markdown",
   "metadata": {},
   "source": [
    "Bir döngü içerisinde paylaşımları çekelim."
   ]
  },
  {
   "cell_type": "code",
   "execution_count": null,
   "metadata": {},
   "outputs": [],
   "source": [
    "from time import sleep\n",
    "\n",
    "for username in usernames:\n",
    "    print(username)\n",
    "    # initialize the cursor\n",
    "    cursor = -1\n",
    "    for i in range(-(-n//5000)):  # required request count\n",
    "        print(cursor)\n",
    "        response = client.api.followers.ids.get(\n",
    "            screen_name=username,\n",
    "            count=5000,\n",
    "            cursor=cursor,\n",
    "        )\n",
    "        ids = response.data.ids\n",
    "        cursor = response.data.next_cursor\n",
    "        connections[username] += ids\n",
    "        if not response.remaining:\n",
    "            # API limitine geldik, soluklanalim\n",
    "            sleep(15*60)"
   ]
  },
  {
   "cell_type": "markdown",
   "metadata": {},
   "source": [
    "İhtiyacımız olan verileri çektik. Şimdi ortak takipçi sayılarını bulup istediğimiz formatta bir csv dosyasına dönüştürelim. "
   ]
  },
  {
   "cell_type": "code",
   "execution_count": 13,
   "metadata": {},
   "outputs": [],
   "source": [
    "import csv\n",
    "from itertools import combinations\n",
    "\n",
    "closeness = []\n",
    "\n",
    "for user1, user2 in combinations(usernames, 2):\n",
    "    closeness.append((\n",
    "        user1,\n",
    "        user2,\n",
    "        len(\n",
    "            set(connections[user1]).intersection(connections[user2])  # ortak takipci sayilari\n",
    "        )\n",
    "    ))\n",
    "\n",
    "heatmap = {tuple(sorted([u1, u2])): c for u1, u2, c in closeness}\n",
    "\n",
    "with open('out.csv', 'w') as f:\n",
    "    writer = csv.writer(f)\n",
    "    # header\n",
    "    _ = writer.writerow([''] + usernames)\n",
    "    for user1 in usernames:\n",
    "        row = [user1]\n",
    "        for user2 in usernames:\n",
    "            if user1 != user2:\n",
    "                row.append(\n",
    "                    heatmap[tuple(sorted([user1, user2]))] / 500\n",
    "                )\n",
    "            else:\n",
    "                row.append(100)\n",
    "        _ = writer.writerow(row)"
   ]
  },
  {
   "cell_type": "code",
   "execution_count": 28,
   "metadata": {},
   "outputs": [],
   "source": [
    "\n",
    "\n"
   ]
  },
  {
   "cell_type": "code",
   "execution_count": null,
   "metadata": {},
   "outputs": [],
   "source": []
  }
 ],
 "metadata": {
  "kernelspec": {
   "display_name": "Python 3",
   "language": "python",
   "name": "python3"
  },
  "language_info": {
   "codemirror_mode": {
    "name": "ipython",
    "version": 3
   },
   "file_extension": ".py",
   "mimetype": "text/x-python",
   "name": "python",
   "nbconvert_exporter": "python",
   "pygments_lexer": "ipython3",
   "version": "3.7.3"
  }
 },
 "nbformat": 4,
 "nbformat_minor": 4
}
