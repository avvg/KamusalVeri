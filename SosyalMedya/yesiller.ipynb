{
 "cells": [
  {
   "cell_type": "markdown",
   "metadata": {},
   "source": [
    "# Yeşil toplu hesapların analizi\n",
    "\n",
    "Gerekli Python kütüphanelerini kuralım"
   ]
  },
  {
   "cell_type": "code",
   "execution_count": null,
   "metadata": {},
   "outputs": [],
   "source": [
    "%pip install rekognize  # Twitter verilerini çekmek icin\n",
    "%pip install sklearn    # Profillerde geçen ifadelerin analizi için"
   ]
  },
  {
   "cell_type": "markdown",
   "metadata": {},
   "source": [
    "Twitter istemcimizi oluşturalım. Bunun için https://rekognize.io/twitter/ adresinden token almanız gerekiyor. "
   ]
  },
  {
   "cell_type": "code",
   "execution_count": null,
   "metadata": {},
   "outputs": [],
   "source": [
    "from rekognize.twitter import UserClient\n",
    "\n",
    "ACCESS_TOKEN = 'ACCESS_TOKEN'                # <- kendi token'ın\n",
    "ACCESS_TOKEN_SECRET = 'ACCESS_TOKEN_SECRET'  # <- kendi token secret'ın\n",
    "\n",
    "client = UserClient(\n",
    "    ACCESS_TOKEN,\n",
    "    ACCESS_TOKEN_SECRET\n",
    ")"
   ]
  },
  {
   "cell_type": "markdown",
   "metadata": {},
   "source": [
    "## Veri çekme\n",
    "Değişkenlerimizi oluşturalım."
   ]
  },
  {
   "cell_type": "code",
   "execution_count": null,
   "metadata": {},
   "outputs": [],
   "source": [
    "users = {}\n",
    "max_id = None"
   ]
  },
  {
   "cell_type": "markdown",
   "metadata": {},
   "source": [
    "Bir döngü içerisinde paylaşımları çekelim. "
   ]
  },
  {
   "cell_type": "code",
   "execution_count": 10,
   "metadata": {},
   "outputs": [],
   "source": [
    "while True:\n",
    "    r = client.api.search.tweets.get(\n",
    "        q='🟢',  # <- burada kutu olarak görünen yeşil nokta\n",
    "        lang='tr',\n",
    "        count=100,\n",
    "        include_entities=False,\n",
    "        max_id=max_id,\n",
    "    )\n",
    "    users.update({\n",
    "        s.user.id: s.user for s in r.data.statuses\n",
    "    })\n",
    "    if not r.data.statuses or r.remaining == 0:\n",
    "        break\n",
    "    max_id = r.data.statuses[-1].id - 1"
   ]
  },
  {
   "cell_type": "markdown",
   "metadata": {},
   "source": [
    "Şimdi ilgili kullanıcılar `users` sözlük değişkeninde. \n",
    "\n",
    "## Profil tanımlarının incelenmesi\n",
    "\n",
    "Profil tanımlarında en cok geçen kelimeleri `sklearn` kütüphanesinin `CountVectorizer`ı ile tespit ediyoruz. "
   ]
  },
  {
   "cell_type": "code",
   "execution_count": null,
   "metadata": {},
   "outputs": [],
   "source": [
    "from sklearn.feature_extraction.text import CountVectorizer\n",
    "\n",
    "c_vec = CountVectorizer(ngram_range=(1, 4))  # 1 - 4 kelimelik ifadeler\n",
    "ngrams = c_vec.fit_transform(\n",
    "    [user.description for user in users.values()]\n",
    ")\n",
    "\n",
    "vocab = c_vec.vocabulary_\n",
    "\n",
    "count_values = ngrams.toarray().sum(axis=0)\n",
    "\n",
    "# ifadeleri frekanslarına göre sıralayarak yazdıralım\n",
    "for ng_count, ng_text in sorted([(count_values[i],k) for k,i in vocab.items()], reverse=True):\n",
    "    print(ng_count, ng_text)"
   ]
  },
  {
   "cell_type": "markdown",
   "metadata": {},
   "source": [
    "## Hesapların oluşturulma zamanları\n",
    "\n",
    "Bir döngü ile, hangi tarihte kaç hesap açılğını alalım."
   ]
  },
  {
   "cell_type": "code",
   "execution_count": 46,
   "metadata": {},
   "outputs": [],
   "source": [
    "from collections import defaultdict, Counter\n",
    "from delorean import parse\n",
    "\n",
    "timeline = Counter()\n",
    "\n",
    "for user in users.values():\n",
    "    created_at = parse(user['created_at']).datetime\n",
    "    timeline.update([created_at.strftime('%Y-%m-%d')])\n",
    "\n",
    "for day, c in timeline.items():\n",
    "    print(day, c)"
   ]
  },
  {
   "cell_type": "markdown",
   "metadata": {},
   "source": [
    "Artık `timeline` değişkeninde tarihlere göre açılan hesap sayıları var. \n",
    "\n",
    "Elde ettiğimiz verileri artık istediğimiz gibi analiz edebilir ve görselleştirebiliriz. "
   ]
  }
 ],
 "metadata": {
  "kernelspec": {
   "display_name": "Python 3",
   "language": "python",
   "name": "python3"
  },
  "language_info": {
   "codemirror_mode": {
    "name": "ipython",
    "version": 3
   },
   "file_extension": ".py",
   "mimetype": "text/x-python",
   "name": "python",
   "nbconvert_exporter": "python",
   "pygments_lexer": "ipython3",
   "version": "3.7.2"
  }
 },
 "nbformat": 4,
 "nbformat_minor": 4
}
